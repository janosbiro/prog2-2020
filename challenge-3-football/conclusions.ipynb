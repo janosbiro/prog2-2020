{
 "cells": [
  {
   "cell_type": "markdown",
   "metadata": {},
   "source": [
    "## AA & BM\n",
    "\n",
    "- Egyik egyértelmű felismerés, hogy a tervezési szakaszt még alaposabban és a bemutatott kulcsok, rekordok alapján kell megcsinálni, majd a kérdéseket eszerint csoportosítani\n",
    "- Endre megoldásra arra is rámutat, hogy megfelelő háttértudással (típusok skálázódásai , stb.) lehet nagy DataFrame-ket építeni, amik gyorsak maradnak\n",
    "- A kulcsok mentén lehet általánosítani a kérdéseket és ezen aggregálási szinteken írni általános függvényeket, amiket minden kérdés tud használni\n",
    "- Classba rendezve és instance-ket használva könnyebb importálni a függvényeket egy notebookba\n",
    "- Memória hatékonyabb egy nagy jól megépített DF, mint sok kérdésenként létrehozott specifikus adattábla\n",
    "- Assign, pipe: ezekkel a fügvényekkel nagyon le lehet rövidíteni a kapcsolásokat/szűréseket,\n",
    "- Konkrét kérdéseknél rossz értelmezésünk volt (top5 season assiter) ezeket ki kell javítani\n",
    "- A classok használatára érdemes rávenni magunkat, mivel nagynak tűnik a betanulási fix költség, de hasznos lehet később.\n",
    "- A csapaton belüli feladatmegosztásra jobban kell figyelni ilyen általánosított feladatoknál, hogy ne dolgozzunk párhuzamosan ugyanazon.\n",
    "- A record - columns - key táblázatot a kérdésekre több sziten meg lehet csinálni. Érdemes nem az utolsó lépésnél ezt elvégezi, hanem a folyamat szempontjából előbb, így növelve az aggregálható kérdések számát."
   ]
  },
  {
   "cell_type": "markdown",
   "metadata": {},
   "source": [
    "## Lentner & Vig\n",
    "\n",
    "- nem csináltunk adattisztítást és enélkül valószínűleg lett pár rossz válaszunk\n",
    "- az adat tisztítás mellett létre kellett volna hozni egy olyan notebook-ot is, amiben megvizsgáljuk sokkal részletesebben az adatokat, elvégezzük mondjuk a szükséges parse-olásokat, hasonlókat\n",
    "- olyan táblázatok létrehozása, melyből több kérdést is meg tudunk válaszolni, ehhez a kérdések szisztematikus csoportosítására lett volna szükség. Volt, hogy csoportosítottunk és 2-3 kérdést meg tudtunk válaszolni egy táblából, de ezt strukturáltabban tervezettebben kellett volna azon kategóriák mentén hogy milyen szintű információra lesz szükség a megoldáshoz.\n",
    "- kevés olyan függvényt találtunk meg, amik sokat segítettek volna a teljesítményen vagy szűrésen (agg, np.where) ezek keresésébe lehetett volna türelmet rakni\n",
    "- pl a team_x_matchet kezdetleges formákban mi is létrehoztuk (np.where nélkül kicsit több sorral), de nagyon sok minden hiányzott ahhoz, hogy ennyi információval rendelkező táblát hozzunk létre (pl az egész player_x_match df, amit sajnos nem gondoltunk végig, hogy hogyan kéne létrehozni).\n",
    "- nekünk problémát jelentett az, hogy a .py fájlba hogyan rakjuk be a dolgokat, mivel nem tudtuk annyira kiáltalánosítani a feladatokat, hogy függvényekkel operáljunk végig. Ezért az adatot dumpoltuk, majd lényegében a .py fájlban behívtuk, elvégeztünk rajt egy csomó változtatást meg kiszámoltunk sok rész (és van hogy egész) megoldást, majd csak ezeket hívtuk be a notebookba. Egyáltalán nem elegáns megoldás, viszont amennyi dolgot meg tudtunk oldani, azokkal tökéletesen működött. :O\n",
    "- miután eljutottunk a szükséges adattáblához, sokszor előbb végeztük el a műveleteket és utólagosan a szűrést, ami nagyon nem spórol az idővel, mivel rengeteg dolgot fölöslegesen számoltunk , valamint mivel nem voltak eléggé átgondolva a feladatok mikor nekiugrottunk a megoldásoknak, ezért csak fölösleges df-eket hoztunk létre vagy redundánsan dolgoztuk\n",
    "- valószínűleg nem voltunk eléggé tisztában azzal, hogy mit akarunk pontosan csinálni, és ezeket a dolgokat hogy hívják, mert biztosan elvégezték már előttünk rengetegen ezeket a feladatokat, mégsem találtuk meg azokat a stackoverflow cuccokat , amikre szükségünk lett volna "
   ]
  },
  {
   "cell_type": "markdown",
   "metadata": {},
   "source": [
    "## SZB & HP\n",
    "\n",
    "1. Egy általános terv készítése, hogy hogyan érdemes elvégezni a feladatot. Ez szerintem eléggé hiányzott nálunk az elején ezért feladat értelmezési dolgokkal pl sok idő elment és sok felesleges munka volt vele. \n",
    "2. A kérdéseket felosztani az alapján, hogy melyikekhez kellenek ugyanazok a key-ek, így azonos df-eket lehet használni és a megoldásukhoz egy függvényt lehet írni.\n",
    "3. Groupby + agg kombót úgy használni, hogy minden column-ra más mutatót számolunk (pl. Mean + sum). Ez sok helyen sokat javított volna. \n",
    "4. Df column listákat készíteni és később ez alapján szűrni\n",
    "5. Assign function használata. A base megoldásban sokszor elég hasznosnak tűnik. Egyszerű és gyors vele új oszlopokat létrehozni.\n",
    "6. Class használata. Ez a válasz alapján az érthetőség miatt lehet hasznos. Lehet kicsit utolsó lépés lenne, ha már más gond nincs, de classokról amúgy szívesen tanulnék is ha belefér a kurzusba. \n",
    "7. Lambda használata, amivel gyorsabban és helytakarékosan tudunk akár függvényen belül is adattal dolgozni\n",
    "8. A függvényeken belül jóval kevesebb lokális változót kéne használni.\n",
    "9. Érdemes lett volna használni a .pipe függvényt, amivel össze lehet kapcsolni függvényeket. \n",
    "10. Method chaining használata hatékonyság és átláthatóság miatt. "
   ]
  },
  {
   "cell_type": "markdown",
   "metadata": {},
   "source": [
    "## graph by SZB & HP\n",
    "\n",
    "![alt text](Szabó_Horn_HF.png \"Title\")"
   ]
  },
  {
   "cell_type": "markdown",
   "metadata": {},
   "source": [
    "## függvények by Lentner & Vig\n",
    "\n",
    "- extract – pandas\n",
    "https://pandas.pydata.org/pandas-docs/stable/reference/api/pandas.Series.str.extract.html\n",
    "series string elemmeit bontja dataframe oszlopokba, a megadott paraméterek alapján\n",
    "\n",
    "- map – builtin\n",
    "https://www.geeksforgeeks.org/python-map-function/\n",
    "két paramétere van, egy iterálható objektum minden elemén alkalmaz egy fgv-t\n",
    "\n",
    "- pipe – pandas\n",
    "https://pandas.pydata.org/pandas-docs/stable/reference/api/pandas.DataFrame.pipe.html\n",
    "map-hez hasonló pandas fgv\n",
    "\n",
    "- where – numpy\n",
    "https://docs.scipy.org/doc/numpy/reference/generated/numpy.where.html\n",
    "egy feltétel függvényében változtat egy numpy array elemein\n",
    "\n",
    "- sort_values – pandas\n",
    "https://pandas.pydata.org/pandas-docs/stable/reference/api/pandas.DataFrame.sort_values.html\n",
    "Értékek alapján rendez növekvőbe/csökkenőbe egy adattábla sorokat\n",
    "\n",
    "- assign – pandas\n",
    "https://pandas.pydata.org/pandas-docs/stable/reference/api/pandas.DataFrame.assign.html\n",
    "új oszlopot ad egy df-hez\n",
    "\n",
    "- agg\n",
    "https://pandas.pydata.org/pandas-docs/stable/reference/api/pandas.DataFrame.agg.html\n",
    "DF oszlopaira alkalmaz bizonyos függvényeket (sum, min, max)\n",
    "\n",
    "- pivot_table\n",
    "https://pandas.pydata.org/pandas-docs/stable/reference/api/pandas.pivot_table.html\n",
    "spreadsheet szerű pivottáblát készít egy dataframeből\n",
    "\n",
    "- rolling- pandas \n",
    "https://pandas.pydata.org/pandas-docs/stable/reference/api/pandas.DataFrame.rolling.html\n",
    "Futóindexben végigmegy és elvégez egy műveletet\n",
    "visszatérési értéke: df, series\n",
    "\n",
    "- set_index- pandas\n",
    "https://pandas.pydata.org/pandas-docs/stable/reference/api/pandas.DataFrame.set_index.html\n",
    "beállítja a Df indexét, lehet több oszlop is\n",
    "visszatérési értéke: df, series\n",
    "\n",
    "- sort_index- pandas\n",
    "https://pandas.pydata.org/pandas-docs/stable/reference/api/pandas.DataFrame.sort_index.html\n",
    "berendezi a df-et, index szerinti sorrendben\n",
    "visszatérési értéke: df, series\n",
    "\n",
    "- cumsum- pandas\n",
    "https://pandas.pydata.org/pandas-docs/stable/reference/api/pandas.DataFrame.cumsum.html\n",
    "összeadja az elemeket egymás után, és mindig az addigi összeget írja be , tehát minden sorban, az előzőek\n",
    "és annak az összege fog szerepelni\n",
    "visszatérési érték: df, series\n",
    "    \n",
    "- join- pandas\n",
    "https://pandas.pydata.org/pandas-docs/stable/reference/api/pandas.DataFrame.join.html\n",
    "összekapcsol 2 df-t , valamilyen oszlop alapján, itt is lehet inner, left stb,\n",
    "visszatérési érték: df\n",
    "    \n",
    "- diff- pandas\n",
    "https://pandas.pydata.org/pandas-docs/stable/reference/api/pandas.DataFrame.diff.html\n",
    "kivonja egy elemét a df-nek egy másikból, alapból a korábbi egy oszlopon belül ,\n",
    "de lehet állítani távolságot és sort- is\n",
    "visszatérési érték: df, series\n",
    "\n",
    "- expanding- pandas\n",
    "https://pandas.pydata.org/pandas-docs/stable/reference/api/pandas.DataFrame.expanding.html\n",
    "vesz egy mindig egyre nagyobb ablakot és azon értékeken csinál valamilyen transzformációt\n",
    "visszatérési érték: df, series\n",
    "    \n",
    "- to_frame- pandas\n",
    "https://pandas.pydata.org/pandas-docs/stable/reference/api/pandas.Series.to_frame.html\n",
    "egy seriesből df-et csinál\n",
    "visszatérési érték: df"
   ]
  }
 ],
 "metadata": {
  "kernelspec": {
   "display_name": "Python 3",
   "language": "python",
   "name": "python3"
  },
  "language_info": {
   "codemirror_mode": {
    "name": "ipython",
    "version": 3
   },
   "file_extension": ".py",
   "mimetype": "text/x-python",
   "name": "python",
   "nbconvert_exporter": "python",
   "pygments_lexer": "ipython3",
   "version": "3.7.5"
  }
 },
 "nbformat": 4,
 "nbformat_minor": 4
}
