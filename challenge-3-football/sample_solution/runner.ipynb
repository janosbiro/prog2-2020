{
 "cells": [
  {
   "cell_type": "markdown",
   "metadata": {},
   "source": [
    "## download and save data"
   ]
  },
  {
   "cell_type": "code",
   "execution_count": null,
   "metadata": {},
   "outputs": [],
   "source": [
    "!pip install tables tqdm"
   ]
  },
  {
   "cell_type": "code",
   "execution_count": 1,
   "metadata": {},
   "outputs": [],
   "source": [
    "from tqdm.notebook import tqdm\n",
    "import pandas as pd"
   ]
  },
  {
   "cell_type": "code",
   "execution_count": 2,
   "metadata": {},
   "outputs": [],
   "source": [
    "dfs = [\"region_df\",\n",
    "       \"competition_df\",\n",
    "       \"season_df\",\n",
    "       \"round_df\",\n",
    "       \"match_df\",\n",
    "       \"goal_df\",\n",
    "       \"match_info_df\",\n",
    "       \"lineup_df\",\n",
    "       \"coach_df\",\n",
    "       \"sidelined_df\",\n",
    "       \"sub_df\",\n",
    "       \"event_df\",\n",
    "       \"player_df\"]"
   ]
  },
  {
   "cell_type": "code",
   "execution_count": null,
   "metadata": {},
   "outputs": [],
   "source": [
    "for dfid in tqdm(dfs):\n",
    "    url = f\"https://borza-hotelcom-data.s3.eu-central-1.amazonaws.com/soccerway-{dfid}.pkl\"\n",
    "    pd.read_pickle(url).to_hdf(f\"{dfid}.h5\", \"data\")"
   ]
  },
  {
   "cell_type": "markdown",
   "metadata": {},
   "source": [
    "## plan\n",
    "\n",
    "### 1. group questions by required detail level of a record:\n",
    "\n",
    "#### 2. go over again, add + cols needed\n",
    "\n",
    "- match:\n",
    "  - number of games with at least 2 missed penalties + miss-pen sum\n",
    "  - how many previous games in the season + season_id\n",
    "  - number of different competitions in the region + comp_id, region_id\n",
    "  - draw rate in the season so far + is_draw\n",
    "  - average number of yellow cards in a game in the season so far + ycards_num sum\n",
    "\n",
    "\n",
    "- match × team\n",
    "  - what is the highest number of left footed players fielded by one team in the same match + is_lefty sum\n",
    "  - top 5 teams with most penalties missed\n",
    "  - top 5 teams with most penalties missed against\n",
    "  - top 5 teams with most average yellow cards per game (at least 20 games)\n",
    "  - top 5 teams with lowest average number of substitutions per game (at least 20 games) + sub sum\n",
    "  - top 5 teams with earliest average time of first substitution (at least 20 games) + sub_time min\n",
    "  - top 5 teams with highest ratio of wins after being behind at half time (at least 20 games) + win, ht_behind\n",
    "\n",
    "  - the number of games they played in the last 21 days + game date\n",
    "  - in how many different competitions each team played in the last 21 days\n",
    "  - days since their last match\n",
    "  - goal difference in the last 10 matches + goal-diff\n",
    "  - win rate in last 10 matches + is_win\n",
    "  - average number of bookings in the last 10 matches + booking sum\n",
    "  - average time of earliest substitutions in the last 10 games\n",
    "  - number of different nationalities in starting lineup + nationality nunique\n",
    "  - how many times the 2 teams have met previously\n",
    "\n",
    "\n",
    "\n",
    "- match × team × player\n",
    "  - how many players scored at least 20 goals in 4 different areas + region_id\n",
    "  - how many players were sent off twice by the same referee + sent-off, referee_id\n",
    "  - number of players sent off after being substituted\n",
    "  - top 5 players with number of assists in one season + assist sum, season_id\n",
    "  - top 5 players with highest number of goals as a substitute + goals sum\n",
    "  - top 5 players who sat on the bench most number of times for an entire game + full-bench\n",
    "  - top 5 players with number of goals in first half + firsthalf goals\n",
    "  - top 5 players with highest number of games where they both scored and assisted\n",
    "  - **number of goals scored in last 21 days by players sidelined for this match** + is_sidelined, start_time\n",
    "  - how many times the 2 coaches have met previously + is_coach\n",
    "\n",
    "\n",
    "- match × team × player × event\n",
    "  - **how many goals did teams score after having a player sent off**\n",
    "  - **top 5 players with most different types of reasons for being sidelined**"
   ]
  },
  {
   "cell_type": "code",
   "execution_count": 1,
   "metadata": {},
   "outputs": [],
   "source": [
    "from IPython.core.display import display, HTML\n",
    "\n",
    "import numpy as np\n",
    "import pandas as pd\n",
    "\n",
    "from sw_functions import DataRepo"
   ]
  },
  {
   "cell_type": "code",
   "execution_count": 2,
   "metadata": {},
   "outputs": [
    {
     "name": "stdout",
     "output_type": "stream",
     "text": [
      "CPU times: user 24.4 s, sys: 2.75 s, total: 27.2 s\n",
      "Wall time: 27.2 s\n"
     ]
    }
   ],
   "source": [
    "%%time\n",
    "dr = DataRepo()"
   ]
  },
  {
   "cell_type": "markdown",
   "metadata": {},
   "source": [
    "## match × team × player × event"
   ]
  },
  {
   "cell_type": "markdown",
   "metadata": {},
   "source": [
    "\n",
    "  - **how many goals did teams score after having a player sent off**\n",
    "  - **top 5 players with most different types of reasons for being sidelined**"
   ]
  },
  {
   "cell_type": "code",
   "execution_count": 3,
   "metadata": {},
   "outputs": [
    {
     "data": {
      "text/plain": [
       "8837"
      ]
     },
     "execution_count": 3,
     "metadata": {},
     "output_type": "execute_result"
    }
   ],
   "source": [
    "dr.post_red_goals"
   ]
  },
  {
   "cell_type": "code",
   "execution_count": 4,
   "metadata": {},
   "outputs": [
    {
     "data": {
      "text/html": [
       "<div>\n",
       "<style scoped>\n",
       "    .dataframe tbody tr th:only-of-type {\n",
       "        vertical-align: middle;\n",
       "    }\n",
       "\n",
       "    .dataframe tbody tr th {\n",
       "        vertical-align: top;\n",
       "    }\n",
       "\n",
       "    .dataframe thead th {\n",
       "        text-align: right;\n",
       "    }\n",
       "</style>\n",
       "<table border=\"1\" class=\"dataframe\">\n",
       "  <thead>\n",
       "    <tr style=\"text-align: right;\">\n",
       "      <th></th>\n",
       "      <th>player_id</th>\n",
       "      <th>reason</th>\n",
       "      <th>First name</th>\n",
       "      <th>Last name</th>\n",
       "      <th>Nationality</th>\n",
       "    </tr>\n",
       "  </thead>\n",
       "  <tbody>\n",
       "    <tr>\n",
       "      <th>0</th>\n",
       "      <td>193</td>\n",
       "      <td>15</td>\n",
       "      <td>Wayne Mark</td>\n",
       "      <td>Rooney</td>\n",
       "      <td>England</td>\n",
       "    </tr>\n",
       "    <tr>\n",
       "      <th>1</th>\n",
       "      <td>20687</td>\n",
       "      <td>15</td>\n",
       "      <td>Jonny</td>\n",
       "      <td>Evans</td>\n",
       "      <td>Northern Ireland</td>\n",
       "    </tr>\n",
       "    <tr>\n",
       "      <th>2</th>\n",
       "      <td>79474</td>\n",
       "      <td>15</td>\n",
       "      <td>Chris</td>\n",
       "      <td>Smalling</td>\n",
       "      <td>England</td>\n",
       "    </tr>\n",
       "    <tr>\n",
       "      <th>3</th>\n",
       "      <td>97299</td>\n",
       "      <td>15</td>\n",
       "      <td>Phil</td>\n",
       "      <td>Jones</td>\n",
       "      <td>England</td>\n",
       "    </tr>\n",
       "    <tr>\n",
       "      <th>4</th>\n",
       "      <td>22357</td>\n",
       "      <td>14</td>\n",
       "      <td>Mario</td>\n",
       "      <td>Barwuah Balotelli</td>\n",
       "      <td>Italy</td>\n",
       "    </tr>\n",
       "  </tbody>\n",
       "</table>\n",
       "</div>"
      ],
      "text/plain": [
       "   player_id  reason  First name          Last name       Nationality\n",
       "0        193      15  Wayne Mark             Rooney           England\n",
       "1      20687      15       Jonny              Evans  Northern Ireland\n",
       "2      79474      15       Chris           Smalling           England\n",
       "3      97299      15        Phil              Jones           England\n",
       "4      22357      14       Mario  Barwuah Balotelli             Italy"
      ]
     },
     "execution_count": 4,
     "metadata": {},
     "output_type": "execute_result"
    }
   ],
   "source": [
    "dr.top5_sideline"
   ]
  },
  {
   "cell_type": "markdown",
   "metadata": {},
   "source": [
    "## match × team × player"
   ]
  },
  {
   "cell_type": "markdown",
   "metadata": {},
   "source": [
    "- number of players sent off after being substituted\n",
    "- top 5 players with highest number of goals as a substitute\n",
    "- top 5 players who sat on the bench most number of times for an entire game\n",
    "- top 5 players with number of goals in first half\n",
    "- top 5 players with highest number of games where they both scored and assisted\n",
    "\n",
    "\n",
    "- how many players were sent off twice by the same referee + ref_id\n",
    "- how many players scored at least 20 goals in 4 different areas + region_id\n",
    "- top 5 players with number of assists in one season + season_id\n",
    "\n",
    "\n",
    "- **number of goals scored in last 21 days by players sidelined for this match**\n",
    "- how many times the 2 coaches have met previously"
   ]
  },
  {
   "cell_type": "code",
   "execution_count": 5,
   "metadata": {},
   "outputs": [
    {
     "name": "stdout",
     "output_type": "stream",
     "text": [
      "CPU times: user 3.72 s, sys: 388 ms, total: 4.11 s\n",
      "Wall time: 4.11 s\n"
     ]
    }
   ],
   "source": [
    "%%time\n",
    "person_df = dr.player_x_match.groupby([\"person_id\", \"First name\", \"Last name\"])[\n",
    "    [\"come_n_go\", \"sub_goals\", \"full_bench\", \"fh_goal\", \"g_a\"]\n",
    "].sum()"
   ]
  },
  {
   "cell_type": "code",
   "execution_count": 6,
   "metadata": {},
   "outputs": [
    {
     "data": {
      "text/plain": [
       "3418"
      ]
     },
     "execution_count": 6,
     "metadata": {},
     "output_type": "execute_result"
    }
   ],
   "source": [
    "(person_df[\"come_n_go\"] > 0).sum()"
   ]
  },
  {
   "cell_type": "code",
   "execution_count": 7,
   "metadata": {},
   "outputs": [
    {
     "data": {
      "text/html": [
       "<table border=\"1\" class=\"dataframe\">\n",
       "  <thead>\n",
       "    <tr style=\"text-align: right;\">\n",
       "      <th></th>\n",
       "      <th></th>\n",
       "      <th></th>\n",
       "      <th>sub_goals</th>\n",
       "    </tr>\n",
       "    <tr>\n",
       "      <th>person_id</th>\n",
       "      <th>First name</th>\n",
       "      <th>Last name</th>\n",
       "      <th></th>\n",
       "    </tr>\n",
       "  </thead>\n",
       "  <tbody>\n",
       "    <tr>\n",
       "      <th>119</th>\n",
       "      <th>Lionel Andrés</th>\n",
       "      <th>Messi Cuccittini</th>\n",
       "      <td>34.0</td>\n",
       "    </tr>\n",
       "    <tr>\n",
       "      <th>13690</th>\n",
       "      <th>Kevin</th>\n",
       "      <th>Gameiro</th>\n",
       "      <td>34.0</td>\n",
       "    </tr>\n",
       "    <tr>\n",
       "      <th>103171</th>\n",
       "      <th>Álvaro Borja</th>\n",
       "      <th>Morata Martín</th>\n",
       "      <td>34.0</td>\n",
       "    </tr>\n",
       "    <tr>\n",
       "      <th>53937</th>\n",
       "      <th>Javier</th>\n",
       "      <th>Hernández Balcázar</th>\n",
       "      <td>31.0</td>\n",
       "    </tr>\n",
       "    <tr>\n",
       "      <th>1595</th>\n",
       "      <th>Karim</th>\n",
       "      <th>Benzema</th>\n",
       "      <td>30.0</td>\n",
       "    </tr>\n",
       "  </tbody>\n",
       "</table>"
      ],
      "text/plain": [
       "<IPython.core.display.HTML object>"
      ]
     },
     "metadata": {},
     "output_type": "display_data"
    },
    {
     "data": {
      "text/html": [
       "<table border=\"1\" class=\"dataframe\">\n",
       "  <thead>\n",
       "    <tr style=\"text-align: right;\">\n",
       "      <th></th>\n",
       "      <th></th>\n",
       "      <th></th>\n",
       "      <th>full_bench</th>\n",
       "    </tr>\n",
       "    <tr>\n",
       "      <th>person_id</th>\n",
       "      <th>First name</th>\n",
       "      <th>Last name</th>\n",
       "      <th></th>\n",
       "    </tr>\n",
       "  </thead>\n",
       "  <tbody>\n",
       "    <tr>\n",
       "      <th>1310</th>\n",
       "      <th>Jessy</th>\n",
       "      <th>Moulin</th>\n",
       "      <td>363.0</td>\n",
       "    </tr>\n",
       "    <tr>\n",
       "      <th>18585</th>\n",
       "      <th>Daniele</th>\n",
       "      <th>Padelli</th>\n",
       "      <td>316.0</td>\n",
       "    </tr>\n",
       "    <tr>\n",
       "      <th>4336</th>\n",
       "      <th>Marco</th>\n",
       "      <th>Storari</th>\n",
       "      <td>310.0</td>\n",
       "    </tr>\n",
       "    <tr>\n",
       "      <th>97650</th>\n",
       "      <th>Rafael Pires</th>\n",
       "      <th>Monteiro</th>\n",
       "      <td>302.0</td>\n",
       "    </tr>\n",
       "    <tr>\n",
       "      <th>17587</th>\n",
       "      <th>Germán Darío</th>\n",
       "      <th>Lux</th>\n",
       "      <td>300.0</td>\n",
       "    </tr>\n",
       "  </tbody>\n",
       "</table>"
      ],
      "text/plain": [
       "<IPython.core.display.HTML object>"
      ]
     },
     "metadata": {},
     "output_type": "display_data"
    },
    {
     "data": {
      "text/html": [
       "<table border=\"1\" class=\"dataframe\">\n",
       "  <thead>\n",
       "    <tr style=\"text-align: right;\">\n",
       "      <th></th>\n",
       "      <th></th>\n",
       "      <th></th>\n",
       "      <th>fh_goal</th>\n",
       "    </tr>\n",
       "    <tr>\n",
       "      <th>person_id</th>\n",
       "      <th>First name</th>\n",
       "      <th>Last name</th>\n",
       "      <th></th>\n",
       "    </tr>\n",
       "  </thead>\n",
       "  <tbody>\n",
       "    <tr>\n",
       "      <th>119</th>\n",
       "      <th>Lionel Andrés</th>\n",
       "      <th>Messi Cuccittini</th>\n",
       "      <td>250.0</td>\n",
       "    </tr>\n",
       "    <tr>\n",
       "      <th>382</th>\n",
       "      <th>Cristiano Ronaldo</th>\n",
       "      <th>dos Santos Aveiro</th>\n",
       "      <td>235.0</td>\n",
       "    </tr>\n",
       "    <tr>\n",
       "      <th>2290</th>\n",
       "      <th>Luis Alberto</th>\n",
       "      <th>Suárez Díaz</th>\n",
       "      <td>138.0</td>\n",
       "    </tr>\n",
       "    <tr>\n",
       "      <th>3051</th>\n",
       "      <th>Sergio Leonel</th>\n",
       "      <th>Agüero del Castillo</th>\n",
       "      <td>137.0</td>\n",
       "    </tr>\n",
       "    <tr>\n",
       "      <th>1595</th>\n",
       "      <th>Karim</th>\n",
       "      <th>Benzema</th>\n",
       "      <td>133.0</td>\n",
       "    </tr>\n",
       "  </tbody>\n",
       "</table>"
      ],
      "text/plain": [
       "<IPython.core.display.HTML object>"
      ]
     },
     "metadata": {},
     "output_type": "display_data"
    },
    {
     "data": {
      "text/html": [
       "<table border=\"1\" class=\"dataframe\">\n",
       "  <thead>\n",
       "    <tr style=\"text-align: right;\">\n",
       "      <th></th>\n",
       "      <th></th>\n",
       "      <th></th>\n",
       "      <th>g_a</th>\n",
       "    </tr>\n",
       "    <tr>\n",
       "      <th>person_id</th>\n",
       "      <th>First name</th>\n",
       "      <th>Last name</th>\n",
       "      <th></th>\n",
       "    </tr>\n",
       "  </thead>\n",
       "  <tbody>\n",
       "    <tr>\n",
       "      <th>119</th>\n",
       "      <th>Lionel Andrés</th>\n",
       "      <th>Messi Cuccittini</th>\n",
       "      <td>93.0</td>\n",
       "    </tr>\n",
       "    <tr>\n",
       "      <th>382</th>\n",
       "      <th>Cristiano Ronaldo</th>\n",
       "      <th>dos Santos Aveiro</th>\n",
       "      <td>65.0</td>\n",
       "    </tr>\n",
       "    <tr>\n",
       "      <th>2290</th>\n",
       "      <th>Luis Alberto</th>\n",
       "      <th>Suárez Díaz</th>\n",
       "      <td>48.0</td>\n",
       "    </tr>\n",
       "    <tr>\n",
       "      <th>102697</th>\n",
       "      <th>Neymar</th>\n",
       "      <th>da Silva Santos Junior</th>\n",
       "      <td>44.0</td>\n",
       "    </tr>\n",
       "    <tr>\n",
       "      <th>1595</th>\n",
       "      <th>Karim</th>\n",
       "      <th>Benzema</th>\n",
       "      <td>38.0</td>\n",
       "    </tr>\n",
       "  </tbody>\n",
       "</table>"
      ],
      "text/plain": [
       "<IPython.core.display.HTML object>"
      ]
     },
     "metadata": {},
     "output_type": "display_data"
    }
   ],
   "source": [
    "for c in person_df.columns[1:]:\n",
    "    display(HTML(person_df[c].nlargest(5).to_frame().to_html()))"
   ]
  },
  {
   "cell_type": "markdown",
   "metadata": {},
   "source": [
    "- how many players were sent off twice by the same referee\n",
    "- how many players scored at least 20 goals in 4 different areas (gb region)\n",
    "- top 5 players with number of assists in one season (gb season)"
   ]
  },
  {
   "cell_type": "code",
   "execution_count": 8,
   "metadata": {},
   "outputs": [
    {
     "name": "stdout",
     "output_type": "stream",
     "text": [
      "CPU times: user 1.5 s, sys: 40 ms, total: 1.54 s\n",
      "Wall time: 1.55 s\n"
     ]
    },
    {
     "data": {
      "text/plain": [
       "489"
      ]
     },
     "execution_count": 8,
     "metadata": {},
     "output_type": "execute_result"
    }
   ],
   "source": [
    "%%time\n",
    "dr.player_x_match.groupby([\"person_id\", \"referee_id\"])[\"sent_off\"].sum().loc[\n",
    "    lambda s: s > 1\n",
    "].index.get_level_values(\n",
    "    \"person_id\"\n",
    ").nunique()"
   ]
  },
  {
   "cell_type": "code",
   "execution_count": 9,
   "metadata": {},
   "outputs": [
    {
     "name": "stdout",
     "output_type": "stream",
     "text": [
      "CPU times: user 2.12 s, sys: 47.6 ms, total: 2.16 s\n",
      "Wall time: 2.17 s\n"
     ]
    },
    {
     "data": {
      "text/html": [
       "<div>\n",
       "<style scoped>\n",
       "    .dataframe tbody tr th:only-of-type {\n",
       "        vertical-align: middle;\n",
       "    }\n",
       "\n",
       "    .dataframe tbody tr th {\n",
       "        vertical-align: top;\n",
       "    }\n",
       "\n",
       "    .dataframe thead th {\n",
       "        text-align: right;\n",
       "    }\n",
       "</style>\n",
       "<table border=\"1\" class=\"dataframe\">\n",
       "  <thead>\n",
       "    <tr style=\"text-align: right;\">\n",
       "      <th></th>\n",
       "      <th>person_id</th>\n",
       "      <th>First name</th>\n",
       "      <th>Last name</th>\n",
       "      <th>region_id</th>\n",
       "      <th>goal</th>\n",
       "    </tr>\n",
       "  </thead>\n",
       "  <tbody>\n",
       "    <tr>\n",
       "      <th>10</th>\n",
       "      <td>40</td>\n",
       "      <td>Miroslav</td>\n",
       "      <td>Klose</td>\n",
       "      <td>1</td>\n",
       "      <td>31.0</td>\n",
       "    </tr>\n",
       "    <tr>\n",
       "      <th>11</th>\n",
       "      <td>40</td>\n",
       "      <td>Miroslav</td>\n",
       "      <td>Klose</td>\n",
       "      <td>7</td>\n",
       "      <td>46.0</td>\n",
       "    </tr>\n",
       "    <tr>\n",
       "      <th>12</th>\n",
       "      <td>40</td>\n",
       "      <td>Miroslav</td>\n",
       "      <td>Klose</td>\n",
       "      <td>80</td>\n",
       "      <td>60.0</td>\n",
       "    </tr>\n",
       "    <tr>\n",
       "      <th>13</th>\n",
       "      <td>40</td>\n",
       "      <td>Miroslav</td>\n",
       "      <td>Klose</td>\n",
       "      <td>100</td>\n",
       "      <td>56.0</td>\n",
       "    </tr>\n",
       "    <tr>\n",
       "      <th>132</th>\n",
       "      <td>551</td>\n",
       "      <td>Thierry</td>\n",
       "      <td>Henry</td>\n",
       "      <td>1</td>\n",
       "      <td>22.0</td>\n",
       "    </tr>\n",
       "    <tr>\n",
       "      <th>133</th>\n",
       "      <td>551</td>\n",
       "      <td>Thierry</td>\n",
       "      <td>Henry</td>\n",
       "      <td>7</td>\n",
       "      <td>38.0</td>\n",
       "    </tr>\n",
       "    <tr>\n",
       "      <th>134</th>\n",
       "      <td>551</td>\n",
       "      <td>Thierry</td>\n",
       "      <td>Henry</td>\n",
       "      <td>68</td>\n",
       "      <td>83.0</td>\n",
       "    </tr>\n",
       "    <tr>\n",
       "      <th>135</th>\n",
       "      <td>551</td>\n",
       "      <td>Thierry</td>\n",
       "      <td>Henry</td>\n",
       "      <td>176</td>\n",
       "      <td>36.0</td>\n",
       "    </tr>\n",
       "    <tr>\n",
       "      <th>311</th>\n",
       "      <td>2290</td>\n",
       "      <td>Luis Alberto</td>\n",
       "      <td>Suárez Díaz</td>\n",
       "      <td>7</td>\n",
       "      <td>38.0</td>\n",
       "    </tr>\n",
       "    <tr>\n",
       "      <th>312</th>\n",
       "      <td>2290</td>\n",
       "      <td>Luis Alberto</td>\n",
       "      <td>Suárez Díaz</td>\n",
       "      <td>68</td>\n",
       "      <td>82.0</td>\n",
       "    </tr>\n",
       "    <tr>\n",
       "      <th>313</th>\n",
       "      <td>2290</td>\n",
       "      <td>Luis Alberto</td>\n",
       "      <td>Suárez Díaz</td>\n",
       "      <td>138</td>\n",
       "      <td>47.0</td>\n",
       "    </tr>\n",
       "    <tr>\n",
       "      <th>314</th>\n",
       "      <td>2290</td>\n",
       "      <td>Luis Alberto</td>\n",
       "      <td>Suárez Díaz</td>\n",
       "      <td>176</td>\n",
       "      <td>137.0</td>\n",
       "    </tr>\n",
       "    <tr>\n",
       "      <th>1076</th>\n",
       "      <td>20216</td>\n",
       "      <td>Radamel Falcao</td>\n",
       "      <td>García Zárate</td>\n",
       "      <td>7</td>\n",
       "      <td>40.0</td>\n",
       "    </tr>\n",
       "    <tr>\n",
       "      <th>1077</th>\n",
       "      <td>20216</td>\n",
       "      <td>Radamel Falcao</td>\n",
       "      <td>García Zárate</td>\n",
       "      <td>76</td>\n",
       "      <td>52.0</td>\n",
       "    </tr>\n",
       "    <tr>\n",
       "      <th>1078</th>\n",
       "      <td>20216</td>\n",
       "      <td>Radamel Falcao</td>\n",
       "      <td>García Zárate</td>\n",
       "      <td>156</td>\n",
       "      <td>22.0</td>\n",
       "    </tr>\n",
       "    <tr>\n",
       "      <th>1079</th>\n",
       "      <td>20216</td>\n",
       "      <td>Radamel Falcao</td>\n",
       "      <td>García Zárate</td>\n",
       "      <td>176</td>\n",
       "      <td>41.0</td>\n",
       "    </tr>\n",
       "    <tr>\n",
       "      <th>1093</th>\n",
       "      <td>20588</td>\n",
       "      <td>Edin</td>\n",
       "      <td>Džeko</td>\n",
       "      <td>7</td>\n",
       "      <td>65.0</td>\n",
       "    </tr>\n",
       "    <tr>\n",
       "      <th>1094</th>\n",
       "      <td>20588</td>\n",
       "      <td>Edin</td>\n",
       "      <td>Džeko</td>\n",
       "      <td>68</td>\n",
       "      <td>55.0</td>\n",
       "    </tr>\n",
       "    <tr>\n",
       "      <th>1095</th>\n",
       "      <td>20588</td>\n",
       "      <td>Edin</td>\n",
       "      <td>Džeko</td>\n",
       "      <td>80</td>\n",
       "      <td>64.0</td>\n",
       "    </tr>\n",
       "    <tr>\n",
       "      <th>1096</th>\n",
       "      <td>20588</td>\n",
       "      <td>Edin</td>\n",
       "      <td>Džeko</td>\n",
       "      <td>100</td>\n",
       "      <td>61.0</td>\n",
       "    </tr>\n",
       "    <tr>\n",
       "      <th>1267</th>\n",
       "      <td>37644</td>\n",
       "      <td>Pierre-Emerick</td>\n",
       "      <td>Aubameyang</td>\n",
       "      <td>7</td>\n",
       "      <td>34.0</td>\n",
       "    </tr>\n",
       "    <tr>\n",
       "      <th>1268</th>\n",
       "      <td>37644</td>\n",
       "      <td>Pierre-Emerick</td>\n",
       "      <td>Aubameyang</td>\n",
       "      <td>68</td>\n",
       "      <td>28.0</td>\n",
       "    </tr>\n",
       "    <tr>\n",
       "      <th>1269</th>\n",
       "      <td>37644</td>\n",
       "      <td>Pierre-Emerick</td>\n",
       "      <td>Aubameyang</td>\n",
       "      <td>76</td>\n",
       "      <td>48.0</td>\n",
       "    </tr>\n",
       "    <tr>\n",
       "      <th>1270</th>\n",
       "      <td>37644</td>\n",
       "      <td>Pierre-Emerick</td>\n",
       "      <td>Aubameyang</td>\n",
       "      <td>80</td>\n",
       "      <td>88.0</td>\n",
       "    </tr>\n",
       "    <tr>\n",
       "      <th>2194</th>\n",
       "      <td>102697</td>\n",
       "      <td>Neymar</td>\n",
       "      <td>da Silva Santos Junior</td>\n",
       "      <td>5</td>\n",
       "      <td>25.0</td>\n",
       "    </tr>\n",
       "    <tr>\n",
       "      <th>2195</th>\n",
       "      <td>102697</td>\n",
       "      <td>Neymar</td>\n",
       "      <td>da Silva Santos Junior</td>\n",
       "      <td>7</td>\n",
       "      <td>30.0</td>\n",
       "    </tr>\n",
       "    <tr>\n",
       "      <th>2196</th>\n",
       "      <td>102697</td>\n",
       "      <td>Neymar</td>\n",
       "      <td>da Silva Santos Junior</td>\n",
       "      <td>35</td>\n",
       "      <td>75.0</td>\n",
       "    </tr>\n",
       "    <tr>\n",
       "      <th>2197</th>\n",
       "      <td>102697</td>\n",
       "      <td>Neymar</td>\n",
       "      <td>da Silva Santos Junior</td>\n",
       "      <td>76</td>\n",
       "      <td>27.0</td>\n",
       "    </tr>\n",
       "    <tr>\n",
       "      <th>2198</th>\n",
       "      <td>102697</td>\n",
       "      <td>Neymar</td>\n",
       "      <td>da Silva Santos Junior</td>\n",
       "      <td>176</td>\n",
       "      <td>71.0</td>\n",
       "    </tr>\n",
       "  </tbody>\n",
       "</table>\n",
       "</div>"
      ],
      "text/plain": [
       "      person_id      First name               Last name  region_id   goal\n",
       "10           40        Miroslav                   Klose          1   31.0\n",
       "11           40        Miroslav                   Klose          7   46.0\n",
       "12           40        Miroslav                   Klose         80   60.0\n",
       "13           40        Miroslav                   Klose        100   56.0\n",
       "132         551         Thierry                   Henry          1   22.0\n",
       "133         551         Thierry                   Henry          7   38.0\n",
       "134         551         Thierry                   Henry         68   83.0\n",
       "135         551         Thierry                   Henry        176   36.0\n",
       "311        2290    Luis Alberto             Suárez Díaz          7   38.0\n",
       "312        2290    Luis Alberto             Suárez Díaz         68   82.0\n",
       "313        2290    Luis Alberto             Suárez Díaz        138   47.0\n",
       "314        2290    Luis Alberto             Suárez Díaz        176  137.0\n",
       "1076      20216  Radamel Falcao           García Zárate          7   40.0\n",
       "1077      20216  Radamel Falcao           García Zárate         76   52.0\n",
       "1078      20216  Radamel Falcao           García Zárate        156   22.0\n",
       "1079      20216  Radamel Falcao           García Zárate        176   41.0\n",
       "1093      20588            Edin                   Džeko          7   65.0\n",
       "1094      20588            Edin                   Džeko         68   55.0\n",
       "1095      20588            Edin                   Džeko         80   64.0\n",
       "1096      20588            Edin                   Džeko        100   61.0\n",
       "1267      37644  Pierre-Emerick              Aubameyang          7   34.0\n",
       "1268      37644  Pierre-Emerick              Aubameyang         68   28.0\n",
       "1269      37644  Pierre-Emerick              Aubameyang         76   48.0\n",
       "1270      37644  Pierre-Emerick              Aubameyang         80   88.0\n",
       "2194     102697          Neymar  da Silva Santos Junior          5   25.0\n",
       "2195     102697          Neymar  da Silva Santos Junior          7   30.0\n",
       "2196     102697          Neymar  da Silva Santos Junior         35   75.0\n",
       "2197     102697          Neymar  da Silva Santos Junior         76   27.0\n",
       "2198     102697          Neymar  da Silva Santos Junior        176   71.0"
      ]
     },
     "execution_count": 9,
     "metadata": {},
     "output_type": "execute_result"
    }
   ],
   "source": [
    "%%time\n",
    "(\n",
    "    dr.player_x_match.groupby([\"person_id\", \"First name\", \"Last name\", \"region_id\"])[\n",
    "        \"goal\"\n",
    "    ]\n",
    "    .sum()\n",
    "    .loc[lambda s: s > 20]\n",
    "    .reset_index()\n",
    "    .loc[\n",
    "        lambda df: df[\"person_id\"].isin(\n",
    "            df.groupby(\"person_id\")[\"region_id\"]\n",
    "            .count()\n",
    "            .loc[lambda _s: _s >= 4]\n",
    "            .index.tolist()\n",
    "        ),\n",
    "        :,\n",
    "    ]\n",
    ")"
   ]
  },
  {
   "cell_type": "code",
   "execution_count": 10,
   "metadata": {},
   "outputs": [
    {
     "name": "stdout",
     "output_type": "stream",
     "text": [
      "CPU times: user 2.9 s, sys: 42.7 ms, total: 2.95 s\n",
      "Wall time: 2.94 s\n"
     ]
    },
    {
     "data": {
      "text/html": [
       "<div>\n",
       "<style scoped>\n",
       "    .dataframe tbody tr th:only-of-type {\n",
       "        vertical-align: middle;\n",
       "    }\n",
       "\n",
       "    .dataframe tbody tr th {\n",
       "        vertical-align: top;\n",
       "    }\n",
       "\n",
       "    .dataframe thead th {\n",
       "        text-align: right;\n",
       "    }\n",
       "</style>\n",
       "<table border=\"1\" class=\"dataframe\">\n",
       "  <thead>\n",
       "    <tr style=\"text-align: right;\">\n",
       "      <th></th>\n",
       "      <th>person_id</th>\n",
       "      <th>First name</th>\n",
       "      <th>Last name</th>\n",
       "      <th>season_id</th>\n",
       "      <th>assist</th>\n",
       "    </tr>\n",
       "  </thead>\n",
       "  <tbody>\n",
       "    <tr>\n",
       "      <th>222302</th>\n",
       "      <td>67424</td>\n",
       "      <td>Luciano</td>\n",
       "      <td>Narsingh</td>\n",
       "      <td>5963</td>\n",
       "      <td>22.0</td>\n",
       "    </tr>\n",
       "    <tr>\n",
       "      <th>165062</th>\n",
       "      <td>40709</td>\n",
       "      <td>Dušan</td>\n",
       "      <td>Tadić</td>\n",
       "      <td>5087</td>\n",
       "      <td>21.0</td>\n",
       "    </tr>\n",
       "    <tr>\n",
       "      <th>2596</th>\n",
       "      <td>119</td>\n",
       "      <td>Lionel Andrés</td>\n",
       "      <td>Messi Cuccittini</td>\n",
       "      <td>5334</td>\n",
       "      <td>21.0</td>\n",
       "    </tr>\n",
       "    <tr>\n",
       "      <th>425904</th>\n",
       "      <td>218727</td>\n",
       "      <td>Zinedine</td>\n",
       "      <td>Ferhat</td>\n",
       "      <td>14061</td>\n",
       "      <td>20.0</td>\n",
       "    </tr>\n",
       "    <tr>\n",
       "      <th>157572</th>\n",
       "      <td>38568</td>\n",
       "      <td>Graham</td>\n",
       "      <td>Dorrans</td>\n",
       "      <td>3452</td>\n",
       "      <td>20.0</td>\n",
       "    </tr>\n",
       "  </tbody>\n",
       "</table>\n",
       "</div>"
      ],
      "text/plain": [
       "        person_id     First name         Last name  season_id  assist\n",
       "222302      67424        Luciano          Narsingh       5963    22.0\n",
       "165062      40709          Dušan             Tadić       5087    21.0\n",
       "2596          119  Lionel Andrés  Messi Cuccittini       5334    21.0\n",
       "425904     218727       Zinedine            Ferhat      14061    20.0\n",
       "157572      38568         Graham           Dorrans       3452    20.0"
      ]
     },
     "execution_count": 10,
     "metadata": {},
     "output_type": "execute_result"
    }
   ],
   "source": [
    "%%time\n",
    "dr.player_x_match.groupby([\"person_id\", \"First name\", \"Last name\", \"season_id\"])[\n",
    "    \"assist\"\n",
    "].sum().reset_index().sort_values(\n",
    "    \"assist\", ascending=False\n",
    ").drop_duplicates(\"person_id\", keep=\"first\").head(5)"
   ]
  },
  {
   "cell_type": "markdown",
   "metadata": {},
   "source": [
    "- **number of goals scored in last 21 days by players sidelined for this match**\n",
    "- how many times the 2 coaches have met previously"
   ]
  },
  {
   "cell_type": "code",
   "execution_count": 11,
   "metadata": {},
   "outputs": [
    {
     "name": "stdout",
     "output_type": "stream",
     "text": [
      "CPU times: user 34.5 s, sys: 96.2 ms, total: 34.6 s\n",
      "Wall time: 34.6 s\n"
     ]
    }
   ],
   "source": [
    "%%time\n",
    "goals_in_last_21 = dr.player_x_match.loc[\n",
    "    lambda df: (df[\"goal\"] > 0) | (df[\"sidelined\"] > 0), [\"match_id\", \"person_id\", \"goal\", \"date\"],\n",
    "].set_index(\n",
    "    \"date\"\n",
    ").sort_index(\n",
    ").groupby(\n",
    "    \"person_id\"\n",
    ").rolling(\"21D\")[\"goal\"].sum()"
   ]
  },
  {
   "cell_type": "code",
   "execution_count": 12,
   "metadata": {},
   "outputs": [
    {
     "name": "stdout",
     "output_type": "stream",
     "text": [
      "CPU times: user 134 ms, sys: 118 µs, total: 134 ms\n",
      "Wall time: 133 ms\n"
     ]
    }
   ],
   "source": [
    "%%time\n",
    "sideline_feature = goals_in_last_21.reset_index().merge(\n",
    "    dr.player_x_match.loc[\n",
    "        lambda df: df[\"sidelined\"] > 0, [\"person_id\", \"date\", \"match_id\", \"side\"]\n",
    "    ],\n",
    "    how=\"inner\",\n",
    ").groupby([\"match_id\", \"side\"])[\"goal\"].sum()"
   ]
  },
  {
   "cell_type": "code",
   "execution_count": 13,
   "metadata": {},
   "outputs": [
    {
     "name": "stdout",
     "output_type": "stream",
     "text": [
      "CPU times: user 501 ms, sys: 0 ns, total: 501 ms\n",
      "Wall time: 500 ms\n"
     ]
    }
   ],
   "source": [
    "%%time\n",
    "coach_feature = (\n",
    "    dr.coach_df.pipe(\n",
    "        lambda df: df.reset_index().merge(\n",
    "            df.rename(columns={\"person_id\": \"opponent\"}).assign(\n",
    "                side=lambda _df: np.where(_df[\"side\"] == \"home\", \"away\", \"home\")\n",
    "            ),\n",
    "            how=\"left\",\n",
    "        )\n",
    "    )\n",
    "    .sort_values(\"date\")\n",
    "    .set_index(\"index\")\n",
    "    .assign(meeting=1)\n",
    "    .groupby([\"person_id\", \"opponent\"])[\"meeting\"]\n",
    "    .cumsum()\n",
    "    .groupby(\"index\")\n",
    "    .max()\n",
    "    .pipe(\n",
    "        lambda s: dr.coach_df.assign(met_opp=s)\n",
    "        .groupby(\"match_id\")[\"met_opp\"]\n",
    "        .max()\n",
    "        .replace(-1, np.nan) - 1\n",
    "    )\n",
    ")"
   ]
  },
  {
   "cell_type": "markdown",
   "metadata": {},
   "source": [
    "## match × team"
   ]
  },
  {
   "cell_type": "markdown",
   "metadata": {},
   "source": [
    "  - what is the highest number of left footed players fielded by one team in the same match\n",
    "  - top 5 teams with most penalties missed\n",
    "  - top 5 teams with most penalties missed against\n",
    "  - top 5 teams with most average yellow cards per game (at least 20 games)\n",
    "  - top 5 teams with lowest average number of substitutions per game (at least 20 games)\n",
    "  - top 5 teams with earliest average time of first substitution (at least 20 games)\n",
    "  - top 5 teams with highest ratio of wins after being behind at half time (at least 20 games)"
   ]
  },
  {
   "cell_type": "code",
   "execution_count": 14,
   "metadata": {},
   "outputs": [
    {
     "name": "stdout",
     "output_type": "stream",
     "text": [
      "CPU times: user 3.75 s, sys: 192 ms, total: 3.95 s\n",
      "Wall time: 3.95 s\n"
     ]
    }
   ],
   "source": [
    "%%time\n",
    "team_x_match = (\n",
    "    dr.player_x_match.groupby([\"match_id\", \"side\"])\n",
    "    .agg(\n",
    "        {\n",
    "            \"is_lefty\": \"sum\",\n",
    "            \"penalty-miss\": \"sum\",\n",
    "            \"yc_all\": \"sum\",\n",
    "            \"bookings\": \"sum\",\n",
    "            \"comes_on\": \"sum\",\n",
    "            \"sub_time\": \"min\",\n",
    "        }\n",
    "    )\n",
    "    .join(\n",
    "        dr.player_x_match.loc[lambda df: df[\"starter\"], :]\n",
    "        .groupby([\"match_id\", \"side\"])\n",
    "        .agg({\"Nationality\": \"nunique\"})\n",
    "    )\n",
    "    .join(dr.match_info)\n",
    "    .reset_index()\n",
    "    .assign(\n",
    "        **{\n",
    "            \"team_id\": lambda df: np.where(\n",
    "                df[\"side\"] == \"home\", df[\"home_team\"], df[\"away_team\"]\n",
    "            ),\n",
    "            \"opposition\": lambda df: np.where(\n",
    "                df[\"side\"] == \"home\", df[\"away_team\"], df[\"home_team\"]\n",
    "            ),\n",
    "            \"ht_comeback\": lambda df: (df[\"ht_gd\"] < 0) & (df[\"ft_gd\"] > 0),\n",
    "            \"win\": lambda df: np.where(\n",
    "                df[\"side\"] == \"home\", df[\"ft_gd\"] > 0, df[\"ft_gd\"] < 0\n",
    "            ),\n",
    "        }\n",
    "    )\n",
    "    .sort_values(\"start_time\")\n",
    ")"
   ]
  },
  {
   "cell_type": "code",
   "execution_count": 15,
   "metadata": {},
   "outputs": [
    {
     "data": {
      "text/plain": [
       "12.0"
      ]
     },
     "execution_count": 15,
     "metadata": {},
     "output_type": "execute_result"
    }
   ],
   "source": [
    "team_x_match[\"is_lefty\"].max()"
   ]
  },
  {
   "cell_type": "code",
   "execution_count": 16,
   "metadata": {},
   "outputs": [
    {
     "data": {
      "text/plain": [
       "team_id\n",
       "1270    35.0\n",
       "2017    34.0\n",
       "2021    29.0\n",
       "2020    28.0\n",
       "662     27.0\n",
       "Name: penalty-miss, dtype: float64"
      ]
     },
     "execution_count": 16,
     "metadata": {},
     "output_type": "execute_result"
    }
   ],
   "source": [
    "# 662 is manchester united...\n",
    "team_x_match.groupby(\"team_id\")[\"penalty-miss\"].sum().nlargest(5)"
   ]
  },
  {
   "cell_type": "code",
   "execution_count": 17,
   "metadata": {},
   "outputs": [
    {
     "data": {
      "text/plain": [
       "opposition\n",
       "2015    28.0\n",
       "1246    27.0\n",
       "1244    25.0\n",
       "1256    24.0\n",
       "676     23.0\n",
       "Name: penalty-miss, dtype: float64"
      ]
     },
     "execution_count": 17,
     "metadata": {},
     "output_type": "execute_result"
    }
   ],
   "source": [
    "team_x_match.groupby(\"opposition\")[\"penalty-miss\"].sum().nlargest(5)"
   ]
  },
  {
   "cell_type": "code",
   "execution_count": 18,
   "metadata": {},
   "outputs": [],
   "source": [
    "team_df = team_x_match.groupby(\"team_id\").agg(\n",
    "    {\n",
    "        \"match_id\": \"count\",\n",
    "        \"yc_all\": \"mean\",\n",
    "        \"comes_on\": \"mean\",\n",
    "        \"sub_time\": lambda s: s.replace(np.inf, np.nan).mean(),\n",
    "        \"ht_comeback\": \"mean\",\n",
    "    }\n",
    ").loc[lambda df: df[\"match_id\"] >= 20]"
   ]
  },
  {
   "cell_type": "code",
   "execution_count": 19,
   "metadata": {},
   "outputs": [
    {
     "data": {
      "text/plain": [
       "team_id\n",
       "9713     4.526316\n",
       "5139     4.238095\n",
       "11764    4.205128\n",
       "470      4.125000\n",
       "14700    4.045455\n",
       "Name: yc_all, dtype: float64"
      ]
     },
     "execution_count": 19,
     "metadata": {},
     "output_type": "execute_result"
    }
   ],
   "source": [
    "team_df[\"yc_all\"].nlargest(5)"
   ]
  },
  {
   "cell_type": "code",
   "execution_count": 20,
   "metadata": {},
   "outputs": [
    {
     "data": {
      "text/plain": [
       "team_id\n",
       "14636    1.000000\n",
       "19945    1.466667\n",
       "240      1.542857\n",
       "9565     1.603774\n",
       "15896    1.636364\n",
       "Name: comes_on, dtype: float64"
      ]
     },
     "execution_count": 20,
     "metadata": {},
     "output_type": "execute_result"
    }
   ],
   "source": [
    "team_df[\"comes_on\"].nsmallest(5)"
   ]
  },
  {
   "cell_type": "code",
   "execution_count": 21,
   "metadata": {},
   "outputs": [
    {
     "data": {
      "text/plain": [
       "team_id\n",
       "44548    38.384615\n",
       "44534    41.500000\n",
       "5146     41.571429\n",
       "15487    41.619048\n",
       "15136    41.974359\n",
       "Name: sub_time, dtype: float64"
      ]
     },
     "execution_count": 21,
     "metadata": {},
     "output_type": "execute_result"
    }
   ],
   "source": [
    "team_df[\"sub_time\"].nsmallest(5)"
   ]
  },
  {
   "cell_type": "code",
   "execution_count": 22,
   "metadata": {},
   "outputs": [
    {
     "data": {
      "text/plain": [
       "team_id\n",
       "14950    0.150000\n",
       "18351    0.142857\n",
       "4415     0.136364\n",
       "13163    0.136364\n",
       "15805    0.136364\n",
       "Name: ht_comeback, dtype: float64"
      ]
     },
     "execution_count": 22,
     "metadata": {},
     "output_type": "execute_result"
    }
   ],
   "source": [
    "team_df[\"ht_comeback\"].nlargest(5)"
   ]
  },
  {
   "cell_type": "markdown",
   "metadata": {},
   "source": [
    "- the number of games they played in the last 21 days\n",
    "- in how many different competitions each team played in the last 21 days\n",
    "- days since their last match"
   ]
  },
  {
   "cell_type": "code",
   "execution_count": 23,
   "metadata": {},
   "outputs": [
    {
     "name": "stdout",
     "output_type": "stream",
     "text": [
      "CPU times: user 3.04 s, sys: 4.08 ms, total: 3.05 s\n",
      "Wall time: 3.05 s\n"
     ]
    },
    {
     "data": {
      "text/html": [
       "<div>\n",
       "<style scoped>\n",
       "    .dataframe tbody tr th:only-of-type {\n",
       "        vertical-align: middle;\n",
       "    }\n",
       "\n",
       "    .dataframe tbody tr th {\n",
       "        vertical-align: top;\n",
       "    }\n",
       "\n",
       "    .dataframe thead th {\n",
       "        text-align: right;\n",
       "    }\n",
       "</style>\n",
       "<table border=\"1\" class=\"dataframe\">\n",
       "  <thead>\n",
       "    <tr style=\"text-align: right;\">\n",
       "      <th></th>\n",
       "      <th></th>\n",
       "      <th>match_id</th>\n",
       "    </tr>\n",
       "    <tr>\n",
       "      <th>team_id</th>\n",
       "      <th>start_time</th>\n",
       "      <th></th>\n",
       "    </tr>\n",
       "  </thead>\n",
       "  <tbody>\n",
       "    <tr>\n",
       "      <th rowspan=\"5\" valign=\"top\">66</th>\n",
       "      <th>2011-03-23 09:30:00</th>\n",
       "      <td>1.0</td>\n",
       "    </tr>\n",
       "    <tr>\n",
       "      <th>2011-03-25 09:30:00</th>\n",
       "      <td>2.0</td>\n",
       "    </tr>\n",
       "    <tr>\n",
       "      <th>2011-04-07 09:45:00</th>\n",
       "      <td>3.0</td>\n",
       "    </tr>\n",
       "    <tr>\n",
       "      <th>2011-04-09 09:45:00</th>\n",
       "      <td>4.0</td>\n",
       "    </tr>\n",
       "    <tr>\n",
       "      <th>2011-04-11 09:45:00</th>\n",
       "      <td>5.0</td>\n",
       "    </tr>\n",
       "    <tr>\n",
       "      <th>...</th>\n",
       "      <th>...</th>\n",
       "      <td>...</td>\n",
       "    </tr>\n",
       "    <tr>\n",
       "      <th>49225</th>\n",
       "      <th>2019-04-18 10:00:00</th>\n",
       "      <td>2.0</td>\n",
       "    </tr>\n",
       "    <tr>\n",
       "      <th rowspan=\"4\" valign=\"top\">49226</th>\n",
       "      <th>2019-02-13 17:00:00</th>\n",
       "      <td>1.0</td>\n",
       "    </tr>\n",
       "    <tr>\n",
       "      <th>2019-02-15 11:00:00</th>\n",
       "      <td>2.0</td>\n",
       "    </tr>\n",
       "    <tr>\n",
       "      <th>2019-04-16 12:00:00</th>\n",
       "      <td>1.0</td>\n",
       "    </tr>\n",
       "    <tr>\n",
       "      <th>2019-04-18 10:00:00</th>\n",
       "      <td>2.0</td>\n",
       "    </tr>\n",
       "  </tbody>\n",
       "</table>\n",
       "<p>301154 rows × 1 columns</p>\n",
       "</div>"
      ],
      "text/plain": [
       "                             match_id\n",
       "team_id start_time                   \n",
       "66      2011-03-23 09:30:00       1.0\n",
       "        2011-03-25 09:30:00       2.0\n",
       "        2011-04-07 09:45:00       3.0\n",
       "        2011-04-09 09:45:00       4.0\n",
       "        2011-04-11 09:45:00       5.0\n",
       "...                               ...\n",
       "49225   2019-04-18 10:00:00       2.0\n",
       "49226   2019-02-13 17:00:00       1.0\n",
       "        2019-02-15 11:00:00       2.0\n",
       "        2019-04-16 12:00:00       1.0\n",
       "        2019-04-18 10:00:00       2.0\n",
       "\n",
       "[301154 rows x 1 columns]"
      ]
     },
     "execution_count": 23,
     "metadata": {},
     "output_type": "execute_result"
    }
   ],
   "source": [
    "%%time\n",
    "team_x_match.set_index(\"start_time\").sort_index().groupby(\"team_id\").rolling(\"21D\").agg(\n",
    "    {\n",
    "        \"match_id\": \"count\",\n",
    "        # \"comp_id\": \"nunique\"  - this is not implemented yet in pandas :(\n",
    "    }\n",
    ")"
   ]
  },
  {
   "cell_type": "code",
   "execution_count": 24,
   "metadata": {},
   "outputs": [
    {
     "data": {
      "text/plain": [
       "4720      3 days 00:00:00\n",
       "4714      3 days 00:00:00\n",
       "4705      2 days 00:00:00\n",
       "4704      4 days 00:00:00\n",
       "4722      3 days 00:00:00\n",
       "               ...       \n",
       "301152   24 days 09:45:00\n",
       "301112    3 days 00:15:00\n",
       "301113    3 days 03:00:00\n",
       "301115    3 days 03:00:00\n",
       "301114    3 days 05:45:00\n",
       "Name: start_time, Length: 296298, dtype: timedelta64[ns]"
      ]
     },
     "execution_count": 24,
     "metadata": {},
     "output_type": "execute_result"
    }
   ],
   "source": [
    "team_x_match.groupby(\"team_id\")[\"start_time\"].diff(1).dropna()"
   ]
  },
  {
   "cell_type": "markdown",
   "metadata": {},
   "source": [
    "- goal difference in the last 10 matches\n",
    "- win rate in last 10 matches\n",
    "- average number of bookings in the last 10 matches\n",
    "- average time of earliest substitutions in the last 10 games"
   ]
  },
  {
   "cell_type": "code",
   "execution_count": 25,
   "metadata": {},
   "outputs": [
    {
     "name": "stdout",
     "output_type": "stream",
     "text": [
      "CPU times: user 10.4 s, sys: 3.84 ms, total: 10.4 s\n",
      "Wall time: 10.4 s\n"
     ]
    },
    {
     "data": {
      "text/html": [
       "<div>\n",
       "<style scoped>\n",
       "    .dataframe tbody tr th:only-of-type {\n",
       "        vertical-align: middle;\n",
       "    }\n",
       "\n",
       "    .dataframe tbody tr th {\n",
       "        vertical-align: top;\n",
       "    }\n",
       "\n",
       "    .dataframe thead th {\n",
       "        text-align: right;\n",
       "    }\n",
       "</style>\n",
       "<table border=\"1\" class=\"dataframe\">\n",
       "  <thead>\n",
       "    <tr style=\"text-align: right;\">\n",
       "      <th></th>\n",
       "      <th></th>\n",
       "      <th>ft_gd</th>\n",
       "      <th>win</th>\n",
       "      <th>bookings</th>\n",
       "      <th>sub_time</th>\n",
       "    </tr>\n",
       "    <tr>\n",
       "      <th>team_id</th>\n",
       "      <th></th>\n",
       "      <th></th>\n",
       "      <th></th>\n",
       "      <th></th>\n",
       "      <th></th>\n",
       "    </tr>\n",
       "  </thead>\n",
       "  <tbody>\n",
       "    <tr>\n",
       "      <th rowspan=\"5\" valign=\"top\">66</th>\n",
       "      <th>163455</th>\n",
       "      <td>1.0</td>\n",
       "      <td>0.6</td>\n",
       "      <td>2.1</td>\n",
       "      <td>55.5</td>\n",
       "    </tr>\n",
       "    <tr>\n",
       "      <th>163459</th>\n",
       "      <td>4.0</td>\n",
       "      <td>0.5</td>\n",
       "      <td>2.0</td>\n",
       "      <td>51.2</td>\n",
       "    </tr>\n",
       "    <tr>\n",
       "      <th>163460</th>\n",
       "      <td>4.0</td>\n",
       "      <td>0.4</td>\n",
       "      <td>1.9</td>\n",
       "      <td>52.8</td>\n",
       "    </tr>\n",
       "    <tr>\n",
       "      <th>163465</th>\n",
       "      <td>5.0</td>\n",
       "      <td>0.4</td>\n",
       "      <td>1.9</td>\n",
       "      <td>56.7</td>\n",
       "    </tr>\n",
       "    <tr>\n",
       "      <th>239211</th>\n",
       "      <td>6.0</td>\n",
       "      <td>0.3</td>\n",
       "      <td>1.9</td>\n",
       "      <td>58.6</td>\n",
       "    </tr>\n",
       "    <tr>\n",
       "      <th>...</th>\n",
       "      <th>...</th>\n",
       "      <td>...</td>\n",
       "      <td>...</td>\n",
       "      <td>...</td>\n",
       "      <td>...</td>\n",
       "    </tr>\n",
       "    <tr>\n",
       "      <th rowspan=\"3\" valign=\"top\">44602</th>\n",
       "      <th>290820</th>\n",
       "      <td>-6.0</td>\n",
       "      <td>0.6</td>\n",
       "      <td>0.7</td>\n",
       "      <td>60.2</td>\n",
       "    </tr>\n",
       "    <tr>\n",
       "      <th>290829</th>\n",
       "      <td>-6.0</td>\n",
       "      <td>0.6</td>\n",
       "      <td>0.8</td>\n",
       "      <td>57.5</td>\n",
       "    </tr>\n",
       "    <tr>\n",
       "      <th>290846</th>\n",
       "      <td>-6.0</td>\n",
       "      <td>0.5</td>\n",
       "      <td>1.0</td>\n",
       "      <td>56.6</td>\n",
       "    </tr>\n",
       "    <tr>\n",
       "      <th rowspan=\"2\" valign=\"top\">45568</th>\n",
       "      <th>297937</th>\n",
       "      <td>4.0</td>\n",
       "      <td>0.3</td>\n",
       "      <td>4.0</td>\n",
       "      <td>53.0</td>\n",
       "    </tr>\n",
       "    <tr>\n",
       "      <th>297938</th>\n",
       "      <td>4.0</td>\n",
       "      <td>0.2</td>\n",
       "      <td>3.7</td>\n",
       "      <td>54.0</td>\n",
       "    </tr>\n",
       "  </tbody>\n",
       "</table>\n",
       "<p>256787 rows × 4 columns</p>\n",
       "</div>"
      ],
      "text/plain": [
       "                ft_gd  win  bookings  sub_time\n",
       "team_id                                       \n",
       "66      163455    1.0  0.6       2.1      55.5\n",
       "        163459    4.0  0.5       2.0      51.2\n",
       "        163460    4.0  0.4       1.9      52.8\n",
       "        163465    5.0  0.4       1.9      56.7\n",
       "        239211    6.0  0.3       1.9      58.6\n",
       "...               ...  ...       ...       ...\n",
       "44602   290820   -6.0  0.6       0.7      60.2\n",
       "        290829   -6.0  0.6       0.8      57.5\n",
       "        290846   -6.0  0.5       1.0      56.6\n",
       "45568   297937    4.0  0.3       4.0      53.0\n",
       "        297938    4.0  0.2       3.7      54.0\n",
       "\n",
       "[256787 rows x 4 columns]"
      ]
     },
     "execution_count": 25,
     "metadata": {},
     "output_type": "execute_result"
    }
   ],
   "source": [
    "%%time\n",
    "team_x_match.groupby(\"team_id\").rolling(10).agg(\n",
    "    {\"ft_gd\": \"sum\", \"win\": \"mean\", \"bookings\": \"mean\", \"sub_time\": \"mean\"}\n",
    ").dropna()"
   ]
  },
  {
   "cell_type": "markdown",
   "metadata": {},
   "source": [
    "- number of different nationalities in starting lineup\n",
    "- how many times the 2 teams have met previously"
   ]
  },
  {
   "cell_type": "code",
   "execution_count": 26,
   "metadata": {},
   "outputs": [
    {
     "data": {
      "text/plain": [
       "4700      1\n",
       "4712      1\n",
       "4713      1\n",
       "4719      1\n",
       "4718      1\n",
       "         ..\n",
       "301152    4\n",
       "301112    1\n",
       "301113    1\n",
       "301115    1\n",
       "301114    1\n",
       "Name: Nationality, Length: 301154, dtype: int64"
      ]
     },
     "execution_count": 26,
     "metadata": {},
     "output_type": "execute_result"
    }
   ],
   "source": [
    "team_x_match[\"Nationality\"]#.value_counts()"
   ]
  },
  {
   "cell_type": "code",
   "execution_count": 27,
   "metadata": {},
   "outputs": [
    {
     "data": {
      "text/plain": [
       "4700      1\n",
       "4712      1\n",
       "4713      1\n",
       "4719      1\n",
       "4718      1\n",
       "         ..\n",
       "301152    7\n",
       "301112    4\n",
       "301113    4\n",
       "301115    5\n",
       "301114    5\n",
       "Name: meeting, Length: 301154, dtype: int64"
      ]
     },
     "execution_count": 27,
     "metadata": {},
     "output_type": "execute_result"
    }
   ],
   "source": [
    "team_x_match.assign(\n",
    "    meeting=1\n",
    ").groupby(\n",
    "    [\"team_id\", \"opposition\"]\n",
    ")[\n",
    "    \"meeting\"\n",
    "].cumsum()#.sort_values()"
   ]
  },
  {
   "cell_type": "markdown",
   "metadata": {},
   "source": [
    "## match\n",
    "\n",
    "- number of games with at least 2 missed penalties\n",
    "- number of different competitions in the region"
   ]
  },
  {
   "cell_type": "code",
   "execution_count": 28,
   "metadata": {},
   "outputs": [
    {
     "data": {
      "text/plain": [
       "148"
      ]
     },
     "execution_count": 28,
     "metadata": {},
     "output_type": "execute_result"
    }
   ],
   "source": [
    "team_x_match.groupby(\"match_id\")[\"penalty-miss\"].sum().pipe(lambda s: (s >=2).sum())"
   ]
  },
  {
   "cell_type": "code",
   "execution_count": 29,
   "metadata": {},
   "outputs": [
    {
     "data": {
      "text/plain": [
       "region_id\n",
       "1      62\n",
       "2      18\n",
       "3      13\n",
       "4      20\n",
       "5      10\n",
       "6       6\n",
       "7      24\n",
       "16      8\n",
       "19      1\n",
       "21      1\n",
       "26      2\n",
       "27      2\n",
       "35     42\n",
       "48      2\n",
       "49      1\n",
       "51      1\n",
       "58      1\n",
       "59      1\n",
       "61      1\n",
       "68     33\n",
       "75      2\n",
       "76     11\n",
       "79      1\n",
       "80     20\n",
       "82      1\n",
       "92      1\n",
       "93      1\n",
       "98      1\n",
       "100    13\n",
       "111     1\n",
       "120     1\n",
       "126     1\n",
       "138    16\n",
       "145     1\n",
       "146     1\n",
       "150     1\n",
       "155     2\n",
       "156     3\n",
       "160     2\n",
       "165     3\n",
       "170     1\n",
       "171     1\n",
       "175     1\n",
       "176    11\n",
       "184     3\n",
       "196     3\n",
       "201     2\n",
       "203     1\n",
       "204     1\n",
       "209     1\n",
       "Name: comp_id, dtype: int64"
      ]
     },
     "execution_count": 29,
     "metadata": {},
     "output_type": "execute_result"
    }
   ],
   "source": [
    "team_x_match.groupby(\"region_id\")[\"comp_id\"].nunique()"
   ]
  },
  {
   "cell_type": "markdown",
   "metadata": {},
   "source": [
    "- how many previous games in the season\n",
    "- draw rate in the season so far\n",
    "- average number of yellow cards in a game in the season so far\n"
   ]
  },
  {
   "cell_type": "code",
   "execution_count": 30,
   "metadata": {},
   "outputs": [
    {
     "name": "stdout",
     "output_type": "stream",
     "text": [
      "CPU times: user 2.84 s, sys: 0 ns, total: 2.84 s\n",
      "Wall time: 2.84 s\n"
     ]
    },
    {
     "data": {
      "text/html": [
       "<div>\n",
       "<style scoped>\n",
       "    .dataframe tbody tr th:only-of-type {\n",
       "        vertical-align: middle;\n",
       "    }\n",
       "\n",
       "    .dataframe tbody tr th {\n",
       "        vertical-align: top;\n",
       "    }\n",
       "\n",
       "    .dataframe thead th {\n",
       "        text-align: right;\n",
       "    }\n",
       "</style>\n",
       "<table border=\"1\" class=\"dataframe\">\n",
       "  <thead>\n",
       "    <tr style=\"text-align: right;\">\n",
       "      <th></th>\n",
       "      <th>yc_all</th>\n",
       "      <th>draw</th>\n",
       "      <th>count</th>\n",
       "    </tr>\n",
       "    <tr>\n",
       "      <th>match_id</th>\n",
       "      <th></th>\n",
       "      <th></th>\n",
       "      <th></th>\n",
       "    </tr>\n",
       "  </thead>\n",
       "  <tbody>\n",
       "    <tr>\n",
       "      <th>1225</th>\n",
       "      <td>6.000000</td>\n",
       "      <td>0.000000</td>\n",
       "      <td>1.0</td>\n",
       "    </tr>\n",
       "    <tr>\n",
       "      <th>1226</th>\n",
       "      <td>5.500000</td>\n",
       "      <td>0.500000</td>\n",
       "      <td>2.0</td>\n",
       "    </tr>\n",
       "    <tr>\n",
       "      <th>1227</th>\n",
       "      <td>5.666667</td>\n",
       "      <td>0.333333</td>\n",
       "      <td>3.0</td>\n",
       "    </tr>\n",
       "    <tr>\n",
       "      <th>1228</th>\n",
       "      <td>6.750000</td>\n",
       "      <td>0.500000</td>\n",
       "      <td>4.0</td>\n",
       "    </tr>\n",
       "    <tr>\n",
       "      <th>1229</th>\n",
       "      <td>6.000000</td>\n",
       "      <td>0.400000</td>\n",
       "      <td>5.0</td>\n",
       "    </tr>\n",
       "    <tr>\n",
       "      <th>...</th>\n",
       "      <td>...</td>\n",
       "      <td>...</td>\n",
       "      <td>...</td>\n",
       "    </tr>\n",
       "    <tr>\n",
       "      <th>1348604</th>\n",
       "      <td>6.318792</td>\n",
       "      <td>0.291946</td>\n",
       "      <td>298.0</td>\n",
       "    </tr>\n",
       "    <tr>\n",
       "      <th>1348605</th>\n",
       "      <td>6.311037</td>\n",
       "      <td>0.290970</td>\n",
       "      <td>299.0</td>\n",
       "    </tr>\n",
       "    <tr>\n",
       "      <th>1348606</th>\n",
       "      <td>6.300000</td>\n",
       "      <td>0.290000</td>\n",
       "      <td>300.0</td>\n",
       "    </tr>\n",
       "    <tr>\n",
       "      <th>1348607</th>\n",
       "      <td>6.285714</td>\n",
       "      <td>0.289037</td>\n",
       "      <td>301.0</td>\n",
       "    </tr>\n",
       "    <tr>\n",
       "      <th>1471536</th>\n",
       "      <td>5.000000</td>\n",
       "      <td>0.000000</td>\n",
       "      <td>1.0</td>\n",
       "    </tr>\n",
       "  </tbody>\n",
       "</table>\n",
       "<p>150577 rows × 3 columns</p>\n",
       "</div>"
      ],
      "text/plain": [
       "            yc_all      draw  count\n",
       "match_id                           \n",
       "1225      6.000000  0.000000    1.0\n",
       "1226      5.500000  0.500000    2.0\n",
       "1227      5.666667  0.333333    3.0\n",
       "1228      6.750000  0.500000    4.0\n",
       "1229      6.000000  0.400000    5.0\n",
       "...            ...       ...    ...\n",
       "1348604   6.318792  0.291946  298.0\n",
       "1348605   6.311037  0.290970  299.0\n",
       "1348606   6.300000  0.290000  300.0\n",
       "1348607   6.285714  0.289037  301.0\n",
       "1471536   5.000000  0.000000    1.0\n",
       "\n",
       "[150577 rows x 3 columns]"
      ]
     },
     "execution_count": 30,
     "metadata": {},
     "output_type": "execute_result"
    }
   ],
   "source": [
    "%%time\n",
    "team_x_match.groupby([\"match_id\", \"season_id\"]).agg(\n",
    "    {\"yc_all\": \"sum\", \"ft_gd\": \"mean\"}\n",
    ").assign(draw=lambda df: (df[\"ft_gd\"] == 0).astype(int), count=1).groupby(\n",
    "    \"season_id\"\n",
    ").expanding().agg(\n",
    "    {\"yc_all\": \"mean\", \"draw\": \"mean\", \"count\": \"sum\"}\n",
    ").reset_index(\n",
    "    [0, 2], drop=True\n",
    ")"
   ]
  },
  {
   "cell_type": "markdown",
   "metadata": {},
   "source": [
    "### * this thing is used at coach_feature"
   ]
  },
  {
   "cell_type": "code",
   "execution_count": 31,
   "metadata": {},
   "outputs": [],
   "source": [
    "_df = pd.DataFrame({\n",
    "    \"x\": list(\"ijjijjijji\"),\n",
    "    \"y\": [\"a\", \"a\", \"b\", \"a\", \"a\", np.nan, \"a\", \"b\", \"b\", \"a\"],\n",
    "    \"n\": [1,1,1,1,1,1,1,1,1,1]\n",
    "})"
   ]
  },
  {
   "cell_type": "code",
   "execution_count": 32,
   "metadata": {},
   "outputs": [
    {
     "data": {
      "text/html": [
       "<div>\n",
       "<style scoped>\n",
       "    .dataframe tbody tr th:only-of-type {\n",
       "        vertical-align: middle;\n",
       "    }\n",
       "\n",
       "    .dataframe tbody tr th {\n",
       "        vertical-align: top;\n",
       "    }\n",
       "\n",
       "    .dataframe thead th {\n",
       "        text-align: right;\n",
       "    }\n",
       "</style>\n",
       "<table border=\"1\" class=\"dataframe\">\n",
       "  <thead>\n",
       "    <tr style=\"text-align: right;\">\n",
       "      <th></th>\n",
       "      <th>x</th>\n",
       "      <th>y</th>\n",
       "      <th>n</th>\n",
       "      <th>cumsum</th>\n",
       "      <th>note</th>\n",
       "    </tr>\n",
       "  </thead>\n",
       "  <tbody>\n",
       "    <tr>\n",
       "      <th>0</th>\n",
       "      <td>i</td>\n",
       "      <td>a</td>\n",
       "      <td>1</td>\n",
       "      <td>1</td>\n",
       "      <td></td>\n",
       "    </tr>\n",
       "    <tr>\n",
       "      <th>1</th>\n",
       "      <td>j</td>\n",
       "      <td>a</td>\n",
       "      <td>1</td>\n",
       "      <td>1</td>\n",
       "      <td></td>\n",
       "    </tr>\n",
       "    <tr>\n",
       "      <th>2</th>\n",
       "      <td>j</td>\n",
       "      <td>b</td>\n",
       "      <td>1</td>\n",
       "      <td>1</td>\n",
       "      <td></td>\n",
       "    </tr>\n",
       "    <tr>\n",
       "      <th>3</th>\n",
       "      <td>i</td>\n",
       "      <td>a</td>\n",
       "      <td>1</td>\n",
       "      <td>2</td>\n",
       "      <td></td>\n",
       "    </tr>\n",
       "    <tr>\n",
       "      <th>4</th>\n",
       "      <td>j</td>\n",
       "      <td>a</td>\n",
       "      <td>1</td>\n",
       "      <td>2</td>\n",
       "      <td></td>\n",
       "    </tr>\n",
       "    <tr>\n",
       "      <th>5</th>\n",
       "      <td>j</td>\n",
       "      <td>NaN</td>\n",
       "      <td>1</td>\n",
       "      <td>-1</td>\n",
       "      <td>&lt;-- THIS SHIT</td>\n",
       "    </tr>\n",
       "    <tr>\n",
       "      <th>6</th>\n",
       "      <td>i</td>\n",
       "      <td>a</td>\n",
       "      <td>1</td>\n",
       "      <td>3</td>\n",
       "      <td></td>\n",
       "    </tr>\n",
       "    <tr>\n",
       "      <th>7</th>\n",
       "      <td>j</td>\n",
       "      <td>b</td>\n",
       "      <td>1</td>\n",
       "      <td>2</td>\n",
       "      <td></td>\n",
       "    </tr>\n",
       "    <tr>\n",
       "      <th>8</th>\n",
       "      <td>j</td>\n",
       "      <td>b</td>\n",
       "      <td>1</td>\n",
       "      <td>3</td>\n",
       "      <td></td>\n",
       "    </tr>\n",
       "    <tr>\n",
       "      <th>9</th>\n",
       "      <td>i</td>\n",
       "      <td>a</td>\n",
       "      <td>1</td>\n",
       "      <td>4</td>\n",
       "      <td></td>\n",
       "    </tr>\n",
       "  </tbody>\n",
       "</table>\n",
       "</div>"
      ],
      "text/plain": [
       "   x    y  n  cumsum           note\n",
       "0  i    a  1       1               \n",
       "1  j    a  1       1               \n",
       "2  j    b  1       1               \n",
       "3  i    a  1       2               \n",
       "4  j    a  1       2               \n",
       "5  j  NaN  1      -1  <-- THIS SHIT\n",
       "6  i    a  1       3               \n",
       "7  j    b  1       2               \n",
       "8  j    b  1       3               \n",
       "9  i    a  1       4               "
      ]
     },
     "execution_count": 32,
     "metadata": {},
     "output_type": "execute_result"
    }
   ],
   "source": [
    "_df.assign(cumsum=lambda df: df.groupby([\"x\", \"y\"])[\"n\"].cumsum().to_frame()).assign(\n",
    "    note=lambda df: np.where(df[\"cumsum\"] < 0, \"<-- THIS SHIT\", \"\")\n",
    ")"
   ]
  }
 ],
 "metadata": {
  "kernelspec": {
   "display_name": "Python 3",
   "language": "python",
   "name": "python3"
  },
  "language_info": {
   "codemirror_mode": {
    "name": "ipython",
    "version": 3
   },
   "file_extension": ".py",
   "mimetype": "text/x-python",
   "name": "python",
   "nbconvert_exporter": "python",
   "pygments_lexer": "ipython3",
   "version": "3.7.5"
  }
 },
 "nbformat": 4,
 "nbformat_minor": 4
}
