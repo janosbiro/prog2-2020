{
 "cells": [
  {
   "cell_type": "code",
   "execution_count": 1,
   "metadata": {
    "scrolled": true
   },
   "outputs": [],
   "source": [
    "import pandas as pd\n",
    "import requests\n",
    "import pickle"
   ]
  },
  {
   "cell_type": "code",
   "execution_count": 2,
   "metadata": {},
   "outputs": [],
   "source": [
    "region_df = pickle.loads(\n",
    "    requests.get(\n",
    "        f\"https://borza-hotelcom-data.s3.eu-central-1.amazonaws.com/soccerway-region_df.pkl\"\n",
    "    ).content\n",
    ")\n",
    "competition_df = pickle.loads(\n",
    "    requests.get(\n",
    "        f\"https://borza-hotelcom-data.s3.eu-central-1.amazonaws.com/soccerway-competition_df.pkl\"\n",
    "    ).content\n",
    ")\n",
    "season_df = pickle.loads(\n",
    "    requests.get(\n",
    "        f\"https://borza-hotelcom-data.s3.eu-central-1.amazonaws.com/soccerway-season_df.pkl\"\n",
    "    ).content\n",
    ")\n",
    "round_df = pickle.loads(\n",
    "    requests.get(\n",
    "        f\"https://borza-hotelcom-data.s3.eu-central-1.amazonaws.com/soccerway-round_df.pkl\"\n",
    "    ).content\n",
    ")\n",
    "match_df = pickle.loads(\n",
    "    requests.get(\n",
    "        f\"https://borza-hotelcom-data.s3.eu-central-1.amazonaws.com/soccerway-match_df.pkl\"\n",
    "    ).content\n",
    ")\n",
    "goal_df = pickle.loads(\n",
    "    requests.get(\n",
    "        f\"https://borza-hotelcom-data.s3.eu-central-1.amazonaws.com/soccerway-goal_df.pkl\"\n",
    "    ).content\n",
    ")\n",
    "match_info_df = pickle.loads(\n",
    "    requests.get(\n",
    "        f\"https://borza-hotelcom-data.s3.eu-central-1.amazonaws.com/soccerway-match_info_df.pkl\"\n",
    "    ).content\n",
    ")\n",
    "lineup_df = pickle.loads(\n",
    "    requests.get(\n",
    "        f\"https://borza-hotelcom-data.s3.eu-central-1.amazonaws.com/soccerway-lineup_df.pkl\"\n",
    "    ).content\n",
    ")\n",
    "coach_df = pickle.loads(\n",
    "    requests.get(\n",
    "        f\"https://borza-hotelcom-data.s3.eu-central-1.amazonaws.com/soccerway-coach_df.pkl\"\n",
    "    ).content\n",
    ")\n",
    "sidelined_df = pickle.loads(\n",
    "    requests.get(\n",
    "        f\"https://borza-hotelcom-data.s3.eu-central-1.amazonaws.com/soccerway-sidelined_df.pkl\"\n",
    "    ).content\n",
    ")\n",
    "sub_df = pickle.loads(\n",
    "    requests.get(\n",
    "        f\"https://borza-hotelcom-data.s3.eu-central-1.amazonaws.com/soccerway-sub_df.pkl\"\n",
    "    ).content\n",
    ")\n",
    "event_df = pickle.loads(\n",
    "    requests.get(\n",
    "        f\"https://borza-hotelcom-data.s3.eu-central-1.amazonaws.com/soccerway-event_df.pkl\"\n",
    "    ).content\n",
    ")\n",
    "player_df = pickle.loads(\n",
    "    requests.get(\n",
    "        f\"https://borza-hotelcom-data.s3.eu-central-1.amazonaws.com/soccerway-player_df.pkl\"\n",
    "    ).content\n",
    ")"
   ]
  },
  {
   "cell_type": "code",
   "execution_count": 3,
   "metadata": {},
   "outputs": [],
   "source": [
    "data = {\n",
    "    \"region\": region_df,\n",
    "    \"competition\": competition_df,\n",
    "    \"season\": season_df,\n",
    "    \"round\": round_df,\n",
    "    \"match\": match_df,\n",
    "    \"goal\": goal_df,\n",
    "    \"match_inf\": match_info_df,\n",
    "    \"lineup\": lineup_df,\n",
    "    \"coach\": coach_df,\n",
    "    \"sidelined\": sidelined_df,\n",
    "    \"sub\": sub_df,\n",
    "    \"event\": event_df,\n",
    "    \"player\": player_df,\n",
    "}"
   ]
  },
  {
   "cell_type": "code",
   "execution_count": 4,
   "metadata": {},
   "outputs": [
    {
     "name": "stdout",
     "output_type": "stream",
     "text": [
      "CPU times: user 6.67 s, sys: 4.81 s, total: 11.5 s\n",
      "Wall time: 15 s\n"
     ]
    }
   ],
   "source": [
    "pickle.dump(data, open(\"data.pkl\", \"wb\"))"
   ]
  },
  {
   "cell_type": "code",
   "execution_count": 5,
   "metadata": {},
   "outputs": [
    {
     "name": "stderr",
     "output_type": "stream",
     "text": [
      "solution.py:126: SettingWithCopyWarning: \n",
      "A value is trying to be set on a copy of a slice from a DataFrame.\n",
      "Try using .loc[row_indexer,col_indexer] = value instead\n",
      "\n",
      "See the caveats in the documentation: http://pandas.pydata.org/pandas-docs/stable/user_guide/indexing.html#returning-a-view-versus-a-copy\n",
      "  a[\"Team\"] = a[\"home_team\"]\n"
     ]
    },
    {
     "name": "stdout",
     "output_type": "stream",
     "text": [
      "CPU times: user 57.7 s, sys: 9.29 s, total: 1min 6s\n",
      "Wall time: 1min\n"
     ]
    }
   ],
   "source": [
    "%run -i solution.py"
   ]
  },
  {
   "cell_type": "markdown",
   "metadata": {},
   "source": [
    "## One number:"
   ]
  },
  {
   "cell_type": "markdown",
   "metadata": {},
   "source": [
    "1. how many players scored at least 20 goals in 4 different areas"
   ]
  },
  {
   "cell_type": "code",
   "execution_count": null,
   "metadata": {
    "scrolled": true
   },
   "outputs": [],
   "source": [
    "len(set(list(goal_n.keys())).intersection(list(region_n.keys())))"
   ]
  },
  {
   "cell_type": "markdown",
   "metadata": {},
   "source": [
    "2. how many players were sent off twice by the same referee"
   ]
  },
  {
   "cell_type": "code",
   "execution_count": null,
   "metadata": {
    "scrolled": true
   },
   "outputs": [],
   "source": [
    "len(grouped[grouped[\"match_id\"] == 2].index.unique(level=\"player_id\"))"
   ]
  },
  {
   "cell_type": "markdown",
   "metadata": {},
   "source": [
    "3. how many goals did teams score after having a player sent off"
   ]
  },
  {
   "cell_type": "markdown",
   "metadata": {},
   "source": [
    "data.keys()\n",
    "\n",
    "suspended\n",
    "\n",
    "data[\"sidelined\"]\n",
    "\n",
    "top5_teams[\"event\"].value_counts()\n",
    "\n",
    "top5_teams\n",
    "\n",
    "top5_teams.loc[\n",
    "    (top5_teams[\"event\"] == \"r-card\") | (top5_teams[\"event\"] == \"2nd-y-card\")\n",
    "]"
   ]
  },
  {
   "cell_type": "markdown",
   "metadata": {},
   "source": [
    "4. what is the highest number of left footed players fielded by one team in the same match"
   ]
  },
  {
   "cell_type": "code",
   "execution_count": null,
   "metadata": {},
   "outputs": [],
   "source": [
    "merged.groupby([\"match_id\",\"side\"]).count().max()[\"Foot\"]"
   ]
  },
  {
   "cell_type": "markdown",
   "metadata": {},
   "source": [
    "5. number of players sent off after being substituted"
   ]
  },
  {
   "cell_type": "code",
   "execution_count": null,
   "metadata": {},
   "outputs": [],
   "source": [
    "result.shape[0]"
   ]
  },
  {
   "cell_type": "markdown",
   "metadata": {},
   "source": [
    "6. number of games with at least 2 missed penalties"
   ]
  },
  {
   "cell_type": "code",
   "execution_count": null,
   "metadata": {},
   "outputs": [],
   "source": [
    "len(grouped_pen.loc[grouped_pen[\"player_id\"] >= 2].index)"
   ]
  },
  {
   "cell_type": "markdown",
   "metadata": {},
   "source": [
    "## top 5:"
   ]
  },
  {
   "cell_type": "markdown",
   "metadata": {},
   "source": [
    "1. top 5 players with number of assists in one season (player name, season id and assist count)"
   ]
  },
  {
   "cell_type": "code",
   "execution_count": null,
   "metadata": {},
   "outputs": [],
   "source": [
    "top_player(topassists).rename(columns={\"minute\": \"assist count\"})[\n",
    "    [\"First name\", \"Last name\", \"season_id\", \"assist count\"]\n",
    "]"
   ]
  },
  {
   "cell_type": "markdown",
   "metadata": {},
   "source": [
    "2. top 5 players with highest number of goals as a substitute"
   ]
  },
  {
   "cell_type": "code",
   "execution_count": null,
   "metadata": {},
   "outputs": [],
   "source": [
    "top_player(top_subbed_goals)[[\"First name\", \"Last name\", \"goal_id\"]]"
   ]
  },
  {
   "cell_type": "markdown",
   "metadata": {},
   "source": [
    "3. top 5 players who sat on the bench most number of times for an entire game"
   ]
  },
  {
   "cell_type": "code",
   "execution_count": null,
   "metadata": {},
   "outputs": [],
   "source": [
    "top_player(top_sat)[[\"First name\", \"Last name\", \"sub\"]]"
   ]
  },
  {
   "cell_type": "markdown",
   "metadata": {},
   "source": [
    "4. top 5 players with number of goals in first half"
   ]
  },
  {
   "cell_type": "code",
   "execution_count": null,
   "metadata": {},
   "outputs": [],
   "source": [
    "top_player(top_first)[[\"First name\", \"Last name\", \"goal_id\"]]"
   ]
  },
  {
   "cell_type": "markdown",
   "metadata": {},
   "source": [
    "5. top 5 players with most different types of reasons for being sidelined\n"
   ]
  },
  {
   "cell_type": "code",
   "execution_count": null,
   "metadata": {},
   "outputs": [],
   "source": [
    "top_player(top_reason)[[\"First name\", \"Last name\", \"reason\"]]"
   ]
  },
  {
   "cell_type": "markdown",
   "metadata": {},
   "source": [
    "6. top 5 players with highest number of games where they both scored and assisted"
   ]
  },
  {
   "cell_type": "code",
   "execution_count": null,
   "metadata": {},
   "outputs": [],
   "source": [
    "top_player(top_sa)[[\"First name\", \"Last name\", \"assister_id\"]]"
   ]
  },
  {
   "cell_type": "markdown",
   "metadata": {},
   "source": [
    "7. top 5 teams with most penalties missed"
   ]
  },
  {
   "cell_type": "code",
   "execution_count": null,
   "metadata": {},
   "outputs": [],
   "source": [
    "missed.groupby(\"team\").count().sort_values(by=[\"side\"], ascending=False).iloc[0:5]"
   ]
  },
  {
   "cell_type": "markdown",
   "metadata": {},
   "source": [
    "8. top 5 teams with most penalties missed against"
   ]
  },
  {
   "cell_type": "code",
   "execution_count": null,
   "metadata": {},
   "outputs": [],
   "source": [
    "missed.groupby(\"team_a\").count().sort_values(by=[\"side\"], ascending=False).iloc[0:5]"
   ]
  },
  {
   "cell_type": "markdown",
   "metadata": {},
   "source": [
    "### Features"
   ]
  },
  {
   "cell_type": "markdown",
   "metadata": {},
   "source": [
    "We could solve:\n",
    "for each team:\n",
    "    - the number of games they played in the last 21 days\n",
    "    - in how many different competitions each team played in the last 21 days\n",
    "    - number of goals scored in last 21 days by players sidelined for this match\n",
    "    - days since their last match\n",
    "    - number of different nationalities in starting lineup"
   ]
  },
  {
   "cell_type": "code",
   "execution_count": null,
   "metadata": {},
   "outputs": [],
   "source": [
    "last_21_day"
   ]
  },
  {
   "cell_type": "markdown",
   "metadata": {},
   "source": [
    "### questions\n",
    "\n",
    "it's difficult to answer all the questions, allocate your resources wisely\n",
    "\n",
    "#### individual answers\n",
    "\n",
    "one number:\n",
    "\n",
    "- how many players scored at least 20 goals in 4 different areas x\n",
    "- how many players were sent off twice by the same referee x\n",
    "- how many goals did teams score after having a player sent off\n",
    "- what is the highest number of left footed players fielded by one team in the same match x\n",
    "- number of players sent off after being substituted\n",
    "- number of games with at least 2 missed penalties\n",
    "\n",
    "top 5:\n",
    "\n",
    "- top 5 players with number of assists in one season (player name, season id and assist count)\n",
    "- top 5 players with highest number of goals as a substitute\n",
    "- top 5 players who sat on the bench most number of times for an entire game\n",
    "- top 5 players with number of goals in first half\n",
    "- top 5 players with most different types of reasons for being sidelined\n",
    "- top 5 players with highest number of games where they both scored and assisted\n",
    "- top 5 teams with most penalties missed\n",
    "- top 5 teams with most penalties missed against\n",
    "- top 5 teams with most average yellow cards per game (at least 20 games)\n",
    "- top 5 teams with lowest average number of substitutions per game (at least 20 games)\n",
    "- top 5 teams with earliest average time of first substitution (at least 20 games)\n",
    "- top 5 teams with highest ratio of wins after being behind at half time (at least 20 games)\n",
    "\n",
    "\n",
    "#### features\n",
    "\n",
    "(wherever a value is impossible to calculate, leave it NaN)\n",
    "\n",
    "in a table, where each row is a match, add the following features:\n",
    "- for each team:\n",
    "    - the number of games they played in the last 21 days\n",
    "    - in how many different competitions each team played in the last 21 days\n",
    "    - number of goals scored in last 21 days by players sidelined for this match\n",
    "    - days since their last match\n",
    "    - goal difference in the last 10 matches\n",
    "    - win rate in last 10 matches\n",
    "    - average number of bookings in the last 10 matches\n",
    "    - average time of earliest substitutions in the last 10 games\n",
    "    - number of different nationalities in starting lineup\n",
    "\n",
    "- for the game:\n",
    "  - how many times the 2 teams have met previously\n",
    "  - how many times the 2 coaches have met previously\n",
    "  - how many previous games in the season\n",
    "  - number of different competitions in the region\n",
    "  - draw rate in the season so far\n",
    "  - average number of yellow cards in a game in the season so far\n",
    "\n",
    "### solution\n",
    "\n",
    "a solution can consist of 2 parts:\n",
    "- a .py file not more than 300 lines + import lines\n",
    "  - formatted `black -l 79`\n",
    "- a notebook conatining \n",
    "  - an import cell, importing any necessary libararies\n",
    "  - a data reading cell, reading the raw data\n",
    "  - a [black](../support-notebooks/black.ipynb) nbextension formatted, at most 80 line computation cell, that answers as many questions as possible\n",
    "\n",
    "the notebook needs to produce results in less than 90 seconds in a 4 core 8gb ram machine, after loading all the data"
   ]
  },
  {
   "cell_type": "code",
   "execution_count": null,
   "metadata": {},
   "outputs": [],
   "source": []
  }
 ],
 "metadata": {
  "kernelspec": {
   "display_name": "Python 3",
   "language": "python",
   "name": "python3"
  },
  "language_info": {
   "codemirror_mode": {
    "name": "ipython",
    "version": 3
   },
   "file_extension": ".py",
   "mimetype": "text/x-python",
   "name": "python",
   "nbconvert_exporter": "python",
   "pygments_lexer": "ipython3",
   "version": "3.7.4"
  }
 },
 "nbformat": 4,
 "nbformat_minor": 4
}
