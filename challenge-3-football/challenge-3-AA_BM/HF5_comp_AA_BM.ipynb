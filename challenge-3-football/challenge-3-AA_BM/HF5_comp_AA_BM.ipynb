{
 "cells": [
  {
   "cell_type": "markdown",
   "metadata": {},
   "source": [
    "# Ádi_lentner megoldás inicializálás"
   ]
  },
  {
   "cell_type": "code",
   "execution_count": 1,
   "metadata": {},
   "outputs": [],
   "source": [
    "import pandas as pd\n",
    "import pickle\n",
    "import requests"
   ]
  },
  {
   "cell_type": "code",
   "execution_count": 3,
   "metadata": {},
   "outputs": [],
   "source": [
    "region_df = pickle.loads(\n",
    "    requests.get(\n",
    "        f\"https://borza-hotelcom-data.s3.eu-central-1.amazonaws.com/soccerway-region_df.pkl\"\n",
    "    ).content\n",
    ")\n",
    "competition_df = pickle.loads(\n",
    "    requests.get(\n",
    "        f\"https://borza-hotelcom-data.s3.eu-central-1.amazonaws.com/soccerway-competition_df.pkl\"\n",
    "    ).content\n",
    ")\n",
    "season_df = pickle.loads(\n",
    "    requests.get(\n",
    "        f\"https://borza-hotelcom-data.s3.eu-central-1.amazonaws.com/soccerway-season_df.pkl\"\n",
    "    ).content\n",
    ")\n",
    "round_df = pickle.loads(\n",
    "    requests.get(\n",
    "        f\"https://borza-hotelcom-data.s3.eu-central-1.amazonaws.com/soccerway-round_df.pkl\"\n",
    "    ).content\n",
    ")\n",
    "match_df = pickle.loads(\n",
    "    requests.get(\n",
    "        f\"https://borza-hotelcom-data.s3.eu-central-1.amazonaws.com/soccerway-match_df.pkl\"\n",
    "    ).content\n",
    ")\n",
    "goal_df = pickle.loads(\n",
    "    requests.get(\n",
    "        f\"https://borza-hotelcom-data.s3.eu-central-1.amazonaws.com/soccerway-goal_df.pkl\"\n",
    "    ).content\n",
    ")\n",
    "match_info_df = pickle.loads(\n",
    "    requests.get(\n",
    "        f\"https://borza-hotelcom-data.s3.eu-central-1.amazonaws.com/soccerway-match_info_df.pkl\"\n",
    "    ).content\n",
    ")\n",
    "lineup_df = pickle.loads(\n",
    "    requests.get(\n",
    "        f\"https://borza-hotelcom-data.s3.eu-central-1.amazonaws.com/soccerway-lineup_df.pkl\"\n",
    "    ).content\n",
    ")\n",
    "coach_df = pickle.loads(\n",
    "    requests.get(\n",
    "        f\"https://borza-hotelcom-data.s3.eu-central-1.amazonaws.com/soccerway-coach_df.pkl\"\n",
    "    ).content\n",
    ")\n",
    "sidelined_df = pickle.loads(\n",
    "    requests.get(\n",
    "        f\"https://borza-hotelcom-data.s3.eu-central-1.amazonaws.com/soccerway-sidelined_df.pkl\"\n",
    "    ).content\n",
    ")\n",
    "sub_df = pickle.loads(\n",
    "    requests.get(\n",
    "        f\"https://borza-hotelcom-data.s3.eu-central-1.amazonaws.com/soccerway-sub_df.pkl\"\n",
    "    ).content\n",
    ")\n",
    "event_df = pickle.loads(\n",
    "    requests.get(\n",
    "        f\"https://borza-hotelcom-data.s3.eu-central-1.amazonaws.com/soccerway-event_df.pkl\"\n",
    "    ).content\n",
    ")\n",
    "player_df = pickle.loads(\n",
    "    requests.get(\n",
    "        f\"https://borza-hotelcom-data.s3.eu-central-1.amazonaws.com/soccerway-player_df.pkl\"\n",
    "    ).content\n",
    ")"
   ]
  },
  {
   "cell_type": "code",
   "execution_count": 4,
   "metadata": {},
   "outputs": [],
   "source": [
    "data = {\n",
    "    \"region\": region_df,\n",
    "    \"competition\": competition_df,\n",
    "    \"season\": season_df,\n",
    "    \"round\": round_df,\n",
    "    \"match\": match_df,\n",
    "    \"goal\": goal_df,\n",
    "    \"match_inf\": match_info_df,\n",
    "    \"lineup\": lineup_df,\n",
    "    \"coach\": coach_df,\n",
    "    \"sidelined\": sidelined_df,\n",
    "    \"sub\": sub_df,\n",
    "    \"event\": event_df,\n",
    "    \"player\": player_df,\n",
    "}"
   ]
  },
  {
   "cell_type": "code",
   "execution_count": 5,
   "metadata": {},
   "outputs": [],
   "source": [
    "pickle.dump(data, open(\"data.pkl\", \"wb\"))"
   ]
  },
  {
   "cell_type": "code",
   "execution_count": 2,
   "metadata": {},
   "outputs": [],
   "source": [
    "data = pickle.load(open(\"data.pkl\", \"rb\"))\n",
    "match_info_all = (\n",
    "    data[\"match\"]\n",
    "    .merge(data[\"round\"], how=\"left\")\n",
    "    .merge(data[\"season\"], how=\"left\")\n",
    "    .merge(data[\"competition\"], how=\"left\")\n",
    "    .merge(data[\"region\"], how=\"left\")\n",
    ")"
   ]
  },
  {
   "cell_type": "markdown",
   "metadata": {},
   "source": [
    "# Első feladat:\n",
    "A csapat megoldása - "
   ]
  },
  {
   "cell_type": "code",
   "execution_count": 21,
   "metadata": {},
   "outputs": [],
   "source": [
    "#goal_id néven indexeli sorban a goal_df eseményeit (nincs sok értelme, mert egyenlő az indexel)\n",
    "data[\"goal\"][\"goal_id\"] = [i for i in range(data[\"goal\"].shape[0])]\n",
    "#g_match néven új df a megfelelő oszlopokkal (balról)\n",
    "g_match = pd.merge(\n",
    "    data[\"goal\"], match_info_all[[\"match_id\", \"region_id\", \"season_id\"]], how=\"left\"\n",
    ")\n",
    "# a goal_n df-ben azon scorer_id-k kerülnek, amik 20-nál több góljuk van\n",
    "goal_n = g_match.groupby(\"scorer_id\")[\"goal_id\"].nunique().loc[lambda x: x >= 20]\n",
    "#region_n df-be a 4-nél több régióban játszó játékosok\n",
    "region_n = g_match.groupby(\"scorer_id\")[\"region_id\"].nunique().loc[lambda x: x >= 4]\n",
    "\n",
    "\n",
    "#jupyter-kód\n",
    "#a goal_n és region_n key-k közötti metszetet keresi\n",
    "len(set(list(goal_n.keys())).intersection(list(region_n.keys())))"
   ]
  },
  {
   "cell_type": "markdown",
   "metadata": {},
   "source": [
    "Endre megoldása -"
   ]
  },
  {
   "cell_type": "code",
   "execution_count": null,
   "metadata": {},
   "outputs": [],
   "source": [
    "def _get_event_df(event_raw):\n",
    "\n",
    "    return (\n",
    "    #összeállít egy df-et a ...- okból\n",
    "        pd.concat(\n",
    "            [\n",
    "                #az outputja egy olyan df, amelyben a match_id + player_id + time(minute) +\\\n",
    "                #event(goal, assist, y-card, 2nd-y-card, red-card), minden külön változót külön oszlopokba rendez\n",
    "                #létrehoz egy külön oszlopot az első félidóben szerzett góloknak\n",
    "                event_raw.pipe(lambda df: pd.concat([df, _fh_goals(df)])),\n",
    "                pd.read_hdf(\"goal_df.h5\")\n",
    "                .dropna(subset=[\"assister_id\"])\n",
    "                .assign(\n",
    "                    event=\"assist\",\n",
    "                    time=lambda df: df[\"minute\"],\n",
    "                    person_id=lambda df: df[\"assister_id\"].astype(int),\n",
    "                )\n",
    "                .loc[:, [\"match_id\", \"person_id\", \"time\", \"event\"]],\n",
    "            ]\n",
    "        )\n",
    "        #groupby helyettesítője -> match_id-n belül person_id-re szűr, majd az egyedi oszlopok celláit kitölti\n",
    "        #az aggfunc = \"count\" helyettesíti a count_values-t, megszámolja a darabszámokat a cellákban\n",
    "        .pivot_table(\n",
    "            columns=[\"event\"],\n",
    "            index=[\"match_id\", \"person_id\"],\n",
    "            values=\"time\",\n",
    "            aggfunc=\"count\",\n",
    "        )\n",
    "        #új oszlopokat ad hozzzá, hogy az első/második sárgalapot, piroslapot int-ként tárolja\n",
    "        .assign(\n",
    "            yc=lambda df: (df[\"y-card\"] > 0).astype(int),\n",
    "            yc2=lambda df: (df[\"2nd-y-card\"] > 0).astype(int),\n",
    "            rc=lambda df: (df[\"r-card\"] > 0).astype(int),\n",
    "        )\n",
    "        #új oszlopokat ad hozzá, a bookings néven, a meccsen adott lapok számát tárolja, a sent_off a 2nd-y-card, vagy \n",
    "        #r-card, míg a y-all a sárgalapokat csak\n",
    "        .assign(\n",
    "            bookings=lambda df: df.loc[:, [\"yc\", \"yc2\", \"rc\"]].sum(axis=1),\n",
    "            sent_off=lambda df: df.loc[:, [\"rc\", \"yc2\"]]\n",
    "            .sum(axis=1)\n",
    "            .astype(bool)\n",
    "            .astype(int),\n",
    "            yc_all=lambda df: df.loc[:, [\"yc\", \"yc2\"]].sum(axis=1),\n",
    "        )\n",
    "        #a csoportosítást megtartva, de sorokba rendezve újra indexeli a df-et\n",
    "        .loc[:, event_cols]\n",
    "        .reset_index()\n",
    "    )"
   ]
  },
  {
   "cell_type": "code",
   "execution_count": null,
   "metadata": {},
   "outputs": [],
   "source": [
    "self.player_x_match = (\n",
    "    #a lup_df egy df, amiben részint bool változók(starter, sidelined) és számok(comes_on, full_bench, sub_time) vannak\n",
    "    # illetve ez kiegészítve a player_de-el, ahol a nevek, (...személyes adatok...) + láb vannak\n",
    "    #a lup_df-hez hozzámergeli az get_eventtel legyártott nagy df-et\n",
    "    _lup_df.merge(self._get_event_df(_event_raw), how=\"left\")\n",
    "    .fillna(0)\n",
    "    .assign(\n",
    "        #sub_time oszlopban a 0-kat végtelenre cseréli\n",
    "        sub_time=lambda df: df.loc[:, \"sub_time\"].replace(0, np.inf),\n",
    "        #hozzáad egy oszlopot azon gólokkal, \n",
    "        #amiket egy becserélt játékos lőtt (where függvény kicsit olyan mint a maszkolás)\n",
    "        sub_goals=lambda df: np.where(df[\"comes_on\"], df[\"goal\"], 0),\n",
    "        #hozzáad egy oszlopot ami a gólt és gólpasszt is szerző játékosoknál 1\n",
    "        g_a=lambda df: (df[\"goal\"] > 0) & (df[\"assist\"] > 0),\n",
    "        #oszlop azokról, akiket becseréltek és lecseréltek\n",
    "        come_n_go=lambda df: ((df[\"sent_off\"] > 0) & df[\"comes_on\"]),\n",
    "        #a regio indexet hozzárendeli egy új oszlopban minden eseményhez\n",
    "        region_id=_ids_for_gb[\"region_id\"].values,\n",
    "        #a szezon indexet hozzárendeli egy új oszlopban minden eseményhez\n",
    "        season_id=_ids_for_gb[\"season_id\"].values,\n",
    "        #a bíró indexet hozzárendeli egy új oszlopban minden eseményhez\n",
    "        referee_id=_ids_for_gb[\"referee_id\"].values,\n",
    "        #az esemény dátumát hozzárendeli egy új oszlopban minden eseményhez\n",
    "        date=_ids_for_gb[\"start_time\"].values,\n",
    "    )\n",
    ")"
   ]
  },
  {
   "cell_type": "code",
   "execution_count": null,
   "metadata": {},
   "outputs": [],
   "source": [
    "#jupyter-kód\n",
    "#a kiegészített lup_df + event_df + player_df-et groupby-olja a leírt sorrendben\n",
    "dr.player_x_match.groupby([\"person_id\", \"First name\", \"Last name\", \"region_id\"])[\n",
    "        \"goal\"\n",
    "    ]\n",
    "    #az utolsó oszlopban szereplő gólokat összeadja csoportonként (játékos szint)\n",
    "    .sum()\n",
    "    #a 20-nál nagyobbakat kiválasztja\n",
    "    .loc[lambda s: s > 20]\n",
    "    .reset_index()\n",
    "    #megkeresi a metszetet azokkal, akik az új groupby+sum után több mint 3 régióval rendelkeznek\n",
    "    .loc[\n",
    "        lambda df: df[\"person_id\"].isin(\n",
    "            df.groupby(\"person_id\")[\"region_id\"]\n",
    "            .count()\n",
    "            .loc[lambda _s: _s >= 4]\n",
    "            .index.tolist()\n",
    "        ),\n",
    "        :,\n",
    "    ]"
   ]
  },
  {
   "cell_type": "raw",
   "metadata": {},
   "source": [
    "Különbség az első feladatban, hogy Endre mindent máshogy csinált :D \n",
    "Az ő megoldásában a kulcs szinten általánosított függvénnyel oldotta meg a feladatot, amihez használta a:\n",
    "-pipe\n",
    "-concat\n",
    "-pivot_table\n",
    "-assign\n",
    "-replace\n",
    "-np.where\n",
    "illetve a reset_index több formáját függvényként.\n",
    "Ezzel szemben a csapat használta a nunique és a shape függvényeket, amit Endre nem."
   ]
  },
  {
   "cell_type": "markdown",
   "metadata": {},
   "source": [
    "# Második feladat\n",
    "A csapat megoldása -"
   ]
  },
  {
   "cell_type": "code",
   "execution_count": 114,
   "metadata": {},
   "outputs": [
    {
     "data": {
      "text/plain": [
       "528"
      ]
     },
     "execution_count": 114,
     "metadata": {},
     "output_type": "execute_result"
    }
   ],
   "source": [
    "#kikeresi a felfüggesztett játékosokat, akiket mergel a match_info df match_id és referee_id oszlopaival\n",
    "suspended = data[\"sidelined\"].loc[data[\"sidelined\"][\"reason\"] == \"Suspended\"]\n",
    "susp = pd.merge(suspended, data[\"match_inf\"][[\"match_id\", \"referee_id\"]], how=\"left\")\n",
    "#a df-ben groupby-olja a játékosok és bírók szerint az értékeket és megszámolja\n",
    "grouped = susp.groupby([\"player_id\", \"referee_id\"]).count()\n",
    "\n",
    "\n",
    "#jupyter-kód\n",
    "#megkeresi azon eseteket, ahol a játékosnak két találkozása volt a bíróval és mivel\n",
    "#a df felfüggesztésre van szűrve, így a visszakapott adat az olyan játékosok száma\n",
    "#akiket felfüggesztettek és volt olyan két ugyanazon bíró által vezetett meccsük. Ezt player szinten megszámolja.\n",
    "len(grouped[grouped[\"match_id\"] == 2].index.unique(level=\"player_id\"))"
   ]
  },
  {
   "cell_type": "markdown",
   "metadata": {},
   "source": [
    "Endre megoldása -"
   ]
  },
  {
   "cell_type": "code",
   "execution_count": null,
   "metadata": {},
   "outputs": [],
   "source": [
    "#jupyter-kód\n",
    "#a fent kifejtett nagy df-et csoportosítja játékos és bíró szerint, majd a leküldött oszlop értékeit megszámolja és\n",
    "#megkeresi azon értékeket, ahol a leküldött játékost több, mint egyszer ugyanazon bíró küldte le\n",
    "#de ez szerintem hibás, mert van 25 játékos, akit 2-nél többször küldött le ugyanazon bíró\n",
    "dr.player_x_match.groupby([\"person_id\", \"referee_id\"])[\"sent_off\"].sum().loc[\n",
    "    lambda s: s > 1\n",
    "].index.get_level_values(\n",
    "    #játékos szinten megkeresi az egyedi értékeket\n",
    "    \"person_id\"\n",
    ").nunique()"
   ]
  },
  {
   "cell_type": "raw",
   "metadata": {},
   "source": [
    "Különbség a második feladatban:\n",
    "Az Endre a megoldásában kulcs szinten általánosított függvénnyel oldotta meg a feladatot, amihez használta a:\n",
    "-pipe\n",
    "-concat\n",
    "-pivot_table\n",
    "-assign\n",
    "-replace\n",
    "-np.where\n",
    "-sum\n",
    "illetve a reset_index több formáját függvényként.\n",
    "A srácok sajnos rosszul értették az adatot és másra szűrtek."
   ]
  },
  {
   "cell_type": "markdown",
   "metadata": {},
   "source": [
    "# Negyedik feladat\n",
    "A csapat megoldása -"
   ]
  },
  {
   "cell_type": "code",
   "execution_count": 121,
   "metadata": {},
   "outputs": [
    {
     "data": {
      "text/plain": [
       "12"
      ]
     },
     "execution_count": 121,
     "metadata": {},
     "output_type": "execute_result"
    }
   ],
   "source": [
    "sub = data[\"sub\"].rename(columns={\"sub_id\": \"player_id\"})\n",
    "lineup = data[\"lineup\"].rename(columns={\"person_id\": \"player_id\"})\n",
    "\n",
    "#létrehozzák az onfield df-et a sub és lineup df-ekből\n",
    "onfield = pd.concat([sub, lineup], sort=True)\n",
    "\n",
    "#létrehoznak egy df-et két oszloppal a player_df-ből, amiben csak a ballábasok szerepelnek\n",
    "left = data[\"player\"][[\"Foot\", \"player_id\"]].loc[data[\"player\"][\"Foot\"] == \"Left\"]\n",
    "#hozzámergelik az onfield_hez, player_id alapján összerndezve\n",
    "merged = onfield.merge(left, how=\"left\", on=\"player_id\")\n",
    "\n",
    "#Jupyter-kód\n",
    "#csoportosítják meccs és csapat(oldal) szintjén az adatot és megszámolják az értékeket, és veszik a maximumukat\n",
    "#a kapott maxok közül(player_id, subbed_id, time, Foot) kiválasztják a foot maxot.\n",
    "merged.groupby([\"match_id\",\"side\"]).count().max()[\"Foot\"]"
   ]
  },
  {
   "cell_type": "markdown",
   "metadata": {},
   "source": [
    "Endre megoldása -"
   ]
  },
  {
   "cell_type": "code",
   "execution_count": null,
   "metadata": {},
   "outputs": [],
   "source": [
    "#Jupyter-kód\n",
    "team_x_match = (\n",
    "    #a visszakapott df-et csoportosítja meccs és csapat(oldal) szerint\n",
    "    player_x_match.groupby([\"match_id\", \"side\"])\n",
    "    #a függvény által visszaadott df felsorolt oszlopait mind összeadja, kivéve a sub_time-ot, ahol\n",
    "    #megkeresi a minimum értéket\n",
    "    .agg(\n",
    "        {\n",
    "            \"is_lefty\": \"sum\",\n",
    "            \"penalty-miss\": \"sum\",\n",
    "            \"yc_all\": \"sum\",\n",
    "            \"bookings\": \"sum\",\n",
    "            \"comes_on\": \"sum\",\n",
    "            \"sub_time\": \"min\",\n",
    "        }\n",
    "    )\n",
    "    #a df-hez hozzáadja a nagy player_x_match df azon sorait, ahol a játékos kezdett a meccsen(starter == True)\n",
    "    #ezt újracsoportosítja meccs és oldal szerint szintén\n",
    "    #a nationality oszlopban alapján csak az egyedi értékeket hagyja meg\n",
    "    .join(\n",
    "        dr.player_x_match.loc[lambda df: df[\"starter\"], :]\n",
    "        .groupby([\"match_id\", \"side\"])\n",
    "        .agg({\"Nationality\": \"nunique\"})\n",
    "    )\n",
    "    #pluszba hozzácsatolja a teljes match_info df-et az eddigikhez és újraindexeli\n",
    "    .join(dr.match_info)\n",
    "    .reset_index()\n",
    "    .assign(\n",
    "        **{\n",
    "            #létrehoz egy új oszlopot, ahol egy oszlopban lesznek a home_team és away_team kódjai\n",
    "            \"team_id\": lambda df: np.where(\n",
    "                df[\"side\"] == \"home\", df[\"home_team\"], df[\"away_team\"]\n",
    "            ),\n",
    "            #opposition névvel létrehozza az előző oszlopnak az inverzét\n",
    "            \"opposition\": lambda df: np.where(\n",
    "                df[\"side\"] == \"home\", df[\"away_team\"], df[\"home_team\"]\n",
    "            ),\n",
    "            #újabb oszlopot rendel hozá, ahol az True, ahol a csapat a meccs félidőben vesztésre állt, de megnyerte\n",
    "            \"ht_comeback\": lambda df: (df[\"ht_gd\"] < 0) & (df[\"ft_gd\"] > 0),\n",
    "            #létrehoz egy olyan oszlopot, ahol ha home_team == True a recordra, azaz otthoni a csapat,\n",
    "            #és a full_time gólkülönbség pozitív, akkor a ft_gd-t, ha nem otthoni és a csapat(away) vesztett, azaz a \n",
    "            #full_time gólkülönbség negatív, akkor azt, azaz az oszlopban mindig az otthoni csapat GYŐZTES gólkülönbsége\n",
    "            #szerepel , ha nem nyert az otthoni csapat, akkor szerintem NaN-t dob.\n",
    "            \"win\": lambda df: np.where(\n",
    "                df[\"side\"] == \"home\", df[\"ft_gd\"] > 0, df[\"ft_gd\"] < 0\n",
    "            ),\n",
    "        }\n",
    "    )\n",
    "    #a kezdési időpontok szerint sorbarendezi a df-et\n",
    "    .sort_values(\"start_time\")\n",
    ")\n",
    "\n",
    "#a táblában rászűr az is_lefty oszlopra, ahol kiválasztja a maxot és mivel az adat meccsenként és oldalanként\n",
    "#van csoportosítva illetve az is_lefty oszlopban szummázva vannak az értékek, így a maxot kiválasztva pont a keresett\n",
    "#értéket kapjuk vissza\n",
    "team_x_match[\"is_lefty\"].max()"
   ]
  },
  {
   "cell_type": "raw",
   "metadata": {},
   "source": [
    "Különbség a negyedik feladatban:\n",
    "Az Endre a megoldásában kulcs szinten általánosított függvénnyel oldotta meg a feladatot, amihez használta a:\n",
    "-pipe\n",
    "-concat\n",
    "-pivot_table\n",
    "-assign\n",
    "-replace\n",
    "-np.where\n",
    "-sum\n",
    "illetve a reset_index több formáját függvényként. \n",
    "A jupyter-kódban használja a:\n",
    "-join\n",
    "-agg\n",
    "függvényeket."
   ]
  },
  {
   "cell_type": "markdown",
   "metadata": {},
   "source": [
    "# Ötödik feladat\n",
    "A csapat megoldása -"
   ]
  },
  {
   "cell_type": "code",
   "execution_count": null,
   "metadata": {},
   "outputs": [],
   "source": [
    "#a korábban megismert suspended df-ben gyűjtik a felfüggesztett játékosokat\n",
    "suspended = data[\"sidelined\"].loc[data[\"sidelined\"][\"reason\"] == \"Suspended\"]\n",
    "\n",
    "#a felfüggesztett játékosok df-et és a sub_dfd-et mergelik a megadott key-kel\n",
    "result = pd.merge(sub, suspended, how=\"inner\", on=[\"match_id\", \"player_id\"])\n",
    "\n",
    "#Jupyter-kód\n",
    "#Megnézik a kapott df hosszát, ami azonban nem jó megoldást ad a rossz szűrés miatt\n",
    "result.shape[0]"
   ]
  },
  {
   "cell_type": "markdown",
   "metadata": {},
   "source": [
    "Endre megoldása -"
   ]
  },
  {
   "cell_type": "code",
   "execution_count": null,
   "metadata": {},
   "outputs": [],
   "source": [
    "#Jupyter-kód\n",
    "#létrehozza a person_df-et, amiben személyek szerint csoportosít, és többek között a person_x_match függvényben\n",
    "#kiszámolt come_n_go-t is oszlopként hozzáadja. A sorok szintjén szummázza az adatot.\n",
    "person_df = dr.player_x_match.groupby([\"person_id\", \"First name\", \"Last name\"])[\n",
    "    [\"come_n_go\", \"sub_goals\", \"full_bench\", \"fh_goal\", \"g_a\"]\n",
    "].sum()\n",
    "#a létrejött df-nek come_n_go oszlopát szummázza, amennyiben az nagyobb nullánál.\n",
    "(person_df[\"come_n_go\"] > 0).sum()"
   ]
  },
  {
   "cell_type": "raw",
   "metadata": {},
   "source": [
    "Különbség az ötödik feladatban:\n",
    "Az Endre a megoldásában kulcs szinten általánosított függvénnyel oldotta meg a feladatot, amihez használta a:\n",
    "-pipe\n",
    "-concat\n",
    "-pivot_table\n",
    "-assign\n",
    "-replace\n",
    "-np.where\n",
    "-sum\n",
    "illetve a reset_index több formáját függvényként. \n",
    "A különbség továbbá, hogy a srácok sajnos rosszul értették az adatot, így rossz irányba indultak el."
   ]
  },
  {
   "cell_type": "markdown",
   "metadata": {},
   "source": [
    "# Hatodik feladat\n",
    "A csapat megoldása -"
   ]
  },
  {
   "cell_type": "code",
   "execution_count": 151,
   "metadata": {},
   "outputs": [],
   "source": [
    "#top5_teams néven létrehoznak egy új df-et az event_df és a mergelt sub/lineup df adataival\n",
    "#side = home vagy away\n",
    "top5_teams = (\n",
    "    data[\"event\"]\n",
    "    .rename(columns={\"person_id\": \"player_id\"})\n",
    "    .merge(\n",
    "        onfield[[\"match_id\", \"player_id\", \"side\"]],\n",
    "        how=\"inner\",\n",
    "        on=[\"match_id\", \"player_id\"],\n",
    "    )\n",
    ")\n",
    "\n",
    "#hozzáadják a meccs_id adatokat is a megfelelő sorokhoz, plusz team néven egy új oszlopot, ahol a hazai team kódot \n",
    "#tárolják\n",
    "top5_teams = pd.concat(\n",
    "    [\n",
    "        top5_teams.loc[top5_teams[\"side\"] == \"home\"]\n",
    "        .merge(data[\"match\"][[\"match_id\", \"home_team\"]], how=\"inner\", on=[\"match_id\"])\n",
    "        .rename(columns={\"home_team\": \"team\"}),\n",
    "        top5_teams.loc[top5_teams[\"side\"] == \"away\"]\n",
    "        .merge(data[\"match\"][[\"match_id\", \"away_team\"]], how=\"inner\", on=[\"match_id\"])\n",
    "        .rename(columns={\"away_team\": \"team\"}),\n",
    "    ]\n",
    ")\n",
    "\n",
    "#külön lépésben hozzáadnak egy team_a oszlopot, ahol az away team kódokat tárolják\n",
    "top5_teams = pd.concat(\n",
    "    [\n",
    "        top5_teams.loc[top5_teams[\"side\"] == \"home\"]\n",
    "        .merge(data[\"match\"][[\"match_id\", \"away_team\"]], how=\"inner\", on=[\"match_id\"])\n",
    "        .rename(columns={\"away_team\": \"team_a\"}),\n",
    "        top5_teams.loc[top5_teams[\"side\"] == \"away\"]\n",
    "        .merge(data[\"match\"][[\"match_id\", \"home_team\"]], how=\"inner\", on=[\"match_id\"])\n",
    "        .rename(columns={\"home_team\": \"team_a\"}),\n",
    "    ]\n",
    ")\n",
    "\n",
    "#A top5 adatbázisból egy \"penalty-miss\" szűréssel létrehozzák a missed df-et\n",
    "missed = top5_teams.loc[top5_teams[\"event\"] == \"penalty-miss\"]\n",
    "#A missed-et csoportosítják meccsenként és megszámolják\n",
    "grouped_pen = missed.groupby([\"match_id\"]).count()\n",
    "\n",
    "#Jupyter-kód\n",
    "#A csoportosított adatot player_id-ra szűrik és a 2-nél nagyobb számok darabszámát adják vissza\n",
    "len(grouped_pen.loc[grouped_pen[\"player_id\"] >= 2].index)"
   ]
  },
  {
   "cell_type": "markdown",
   "metadata": {},
   "source": [
    "Endre megoldása -"
   ]
  },
  {
   "cell_type": "code",
   "execution_count": null,
   "metadata": {},
   "outputs": [],
   "source": [
    "#Jupyter-kód\n",
    "#A team_x_match df-et meccsek szerint csoportosítja és a penalty miss oszlopait megszámolja\n",
    "#a pipe-al rászűr egy soron belül a 2-nél nagyobb értékekre\n",
    "team_x_match.groupby(\"match_id\")[\"penalty-miss\"].sum().pipe(lambda s: (s >=2).sum())"
   ]
  },
  {
   "cell_type": "raw",
   "metadata": {},
   "source": [
    "Különbség a hatodik feladatban:\n",
    "Az Endre a megoldásában kulcs szinten általánosított függvénnyel oldotta meg a feladatot, amihez használta a:\n",
    "-pipe\n",
    "-pivot_table\n",
    "-assign\n",
    "-replace\n",
    "-np.where\n",
    "-sum\n",
    "illetve a reset_index több formáját függvényként."
   ]
  },
  {
   "cell_type": "raw",
   "metadata": {},
   "source": [
    "---------------------------------------------------------------------------"
   ]
  },
  {
   "cell_type": "markdown",
   "metadata": {},
   "source": [
    "# Top5 kérdések összehasonlítása"
   ]
  },
  {
   "cell_type": "markdown",
   "metadata": {},
   "source": [
    "## Összehasonlításhoz szükséges függvények, adatok, stb behívása mind a két féltől"
   ]
  },
  {
   "cell_type": "code",
   "execution_count": 20,
   "metadata": {},
   "outputs": [
    {
     "name": "stdout",
     "output_type": "stream",
     "text": [
      "Requirement already satisfied: tables in c:\\users\\anna\\anaconda3\\lib\\site-packages (3.5.2)\n",
      "Requirement already satisfied: tqdm in c:\\users\\anna\\anaconda3\\lib\\site-packages (4.36.1)\n",
      "Requirement already satisfied: numpy>=1.9.3 in c:\\users\\anna\\anaconda3\\lib\\site-packages (from tables) (1.16.5)\n",
      "Requirement already satisfied: numexpr>=2.6.2 in c:\\users\\anna\\anaconda3\\lib\\site-packages (from tables) (2.7.0)\n",
      "Requirement already satisfied: six>=1.9.0 in c:\\users\\anna\\anaconda3\\lib\\site-packages (from tables) (1.12.0)\n",
      "Requirement already satisfied: mock>=2.0 in c:\\users\\anna\\anaconda3\\lib\\site-packages (from tables) (3.0.5)\n"
     ]
    }
   ],
   "source": [
    "!pip install tables tqdm"
   ]
  },
  {
   "cell_type": "code",
   "execution_count": 21,
   "metadata": {},
   "outputs": [],
   "source": [
    "from tqdm.notebook import tqdm\n",
    "import pandas as pd"
   ]
  },
  {
   "cell_type": "code",
   "execution_count": 22,
   "metadata": {},
   "outputs": [],
   "source": [
    "dfs = [\"region_df\",\n",
    "       \"competition_df\",\n",
    "       \"season_df\",\n",
    "       \"round_df\",\n",
    "       \"match_df\",\n",
    "       \"goal_df\",\n",
    "       \"match_info_df\",\n",
    "       \"lineup_df\",\n",
    "       \"coach_df\",\n",
    "       \"sidelined_df\",\n",
    "       \"sub_df\",\n",
    "       \"event_df\",\n",
    "       \"player_df\"]"
   ]
  },
  {
   "cell_type": "code",
   "execution_count": 4,
   "metadata": {},
   "outputs": [
    {
     "name": "stderr",
     "output_type": "stream",
     "text": [
      "C:\\Users\\Anna\\Anaconda3\\lib\\site-packages\\pandas\\core\\generic.py:2530: PerformanceWarning: \n",
      "your performance may suffer as PyTables will pickle object types that it cannot\n",
      "map directly to c-types [inferred_type->mixed-integer,key->block0_values] [items->['round_id', 'round_name']]\n",
      "\n",
      "  pytables.to_hdf(path_or_buf, key, self, **kwargs)\n",
      "C:\\Users\\Anna\\Anaconda3\\lib\\site-packages\\pandas\\core\\generic.py:2530: PerformanceWarning: \n",
      "your performance may suffer as PyTables will pickle object types that it cannot\n",
      "map directly to c-types [inferred_type->mixed,key->block1_values] [items->['minute', 'score', 'assister_id']]\n",
      "\n",
      "  pytables.to_hdf(path_or_buf, key, self, **kwargs)\n",
      "C:\\Users\\Anna\\Anaconda3\\lib\\site-packages\\pandas\\core\\generic.py:2530: PerformanceWarning: \n",
      "your performance may suffer as PyTables will pickle object types that it cannot\n",
      "map directly to c-types [inferred_type->mixed,key->block1_values] [items->['Half-time', 'Full-time', 'Extra-time', 'Penalties', 'Venue', 'Kick-off', 'referee_id']]\n",
      "\n",
      "  pytables.to_hdf(path_or_buf, key, self, **kwargs)\n",
      "C:\\Users\\Anna\\Anaconda3\\lib\\site-packages\\pandas\\core\\generic.py:2530: PerformanceWarning: \n",
      "your performance may suffer as PyTables will pickle object types that it cannot\n",
      "map directly to c-types [inferred_type->mixed,key->block0_values] [items->['side', 'time', 'subbed_id']]\n",
      "\n",
      "  pytables.to_hdf(path_or_buf, key, self, **kwargs)\n",
      "C:\\Users\\Anna\\Anaconda3\\lib\\site-packages\\pandas\\core\\generic.py:2530: PerformanceWarning: \n",
      "your performance may suffer as PyTables will pickle object types that it cannot\n",
      "map directly to c-types [inferred_type->mixed,key->block0_values] [items->['First name', 'Last name', 'Nationality', 'Date of birth', 'Age', 'Country of birth', 'Position', 'Place of birth', 'Height', 'Weight', 'Foot']]\n",
      "\n",
      "  pytables.to_hdf(path_or_buf, key, self, **kwargs)\n"
     ]
    }
   ],
   "source": [
    "import pandas as pd\n",
    "import pickle\n",
    "import requests\n",
    "\n",
    "region_df = pickle.loads(\n",
    "    requests.get(\n",
    "        f\"https://borza-hotelcom-data.s3.eu-central-1.amazonaws.com/soccerway-region_df.pkl\"\n",
    "    ).content\n",
    ")\n",
    "    \n",
    "region_df.to_hdf(\"region_df.h5\", \"data\")    \n",
    "\n",
    "competition_df = pickle.loads(\n",
    "    requests.get(\n",
    "        f\"https://borza-hotelcom-data.s3.eu-central-1.amazonaws.com/soccerway-competition_df.pkl\"\n",
    "    ).content\n",
    ")\n",
    "competition_df.to_hdf(\"competition_df.h5\", \"data\")\n",
    "\n",
    "season_df = pickle.loads(\n",
    "    requests.get(\n",
    "        f\"https://borza-hotelcom-data.s3.eu-central-1.amazonaws.com/soccerway-season_df.pkl\"\n",
    "    ).content\n",
    ")\n",
    "season_df.to_hdf(\"season_df.h5\",\"data\")\n",
    "\n",
    "round_df = pickle.loads(\n",
    "    requests.get(\n",
    "        f\"https://borza-hotelcom-data.s3.eu-central-1.amazonaws.com/soccerway-round_df.pkl\"\n",
    "    ).content\n",
    ")\n",
    "round_df.to_hdf(\"round_df.h5\",\"data\")\n",
    "\n",
    "match_df = pickle.loads(\n",
    "    requests.get(\n",
    "        f\"https://borza-hotelcom-data.s3.eu-central-1.amazonaws.com/soccerway-match_df.pkl\"\n",
    "    ).content\n",
    ")\n",
    "match_df.to_hdf(\"match_df.h5\",\"data\")\n",
    "\n",
    "goal_df = pickle.loads(\n",
    "    requests.get(\n",
    "        f\"https://borza-hotelcom-data.s3.eu-central-1.amazonaws.com/soccerway-goal_df.pkl\"\n",
    "    ).content\n",
    ")\n",
    "goal_df.to_hdf(\"goal_df.h5\",\"data\")\n",
    "\n",
    "match_info_df = pickle.loads(\n",
    "    requests.get(\n",
    "        f\"https://borza-hotelcom-data.s3.eu-central-1.amazonaws.com/soccerway-match_info_df.pkl\"\n",
    "    ).content\n",
    ")\n",
    "match_info_df.to_hdf(\"match_info_df.h5\",\"data\")\n",
    "\n",
    "lineup_df = pickle.loads(\n",
    "    requests.get(\n",
    "        f\"https://borza-hotelcom-data.s3.eu-central-1.amazonaws.com/soccerway-lineup_df.pkl\"\n",
    "    ).content\n",
    ")\n",
    "lineup_df.to_hdf(\"lineup_df.h5\",\"data\")\n",
    "\n",
    "coach_df = pickle.loads(\n",
    "    requests.get(\n",
    "        f\"https://borza-hotelcom-data.s3.eu-central-1.amazonaws.com/soccerway-coach_df.pkl\"\n",
    "    ).content\n",
    ")\n",
    "coach_df.to_hdf(\"coach_df.h5\",\"data\")\n",
    "\n",
    "sidelined_df = pickle.loads(\n",
    "    requests.get(\n",
    "        f\"https://borza-hotelcom-data.s3.eu-central-1.amazonaws.com/soccerway-sidelined_df.pkl\"\n",
    "    ).content\n",
    ")\n",
    "sidelined_df.to_hdf(\"sidelined_df.h5\",\"data\")\n",
    "\n",
    "sub_df = pickle.loads(\n",
    "    requests.get(\n",
    "        f\"https://borza-hotelcom-data.s3.eu-central-1.amazonaws.com/soccerway-sub_df.pkl\"\n",
    "    ).content\n",
    ")\n",
    "sub_df.to_hdf(\"sub_df.h5\",\"data\")\n",
    "\n",
    "event_df = pickle.loads(\n",
    "    requests.get(\n",
    "        f\"https://borza-hotelcom-data.s3.eu-central-1.amazonaws.com/soccerway-event_df.pkl\"\n",
    "    ).content\n",
    ")\n",
    "event_df.to_hdf(\"event_df.h5\",\"data\")\n",
    "\n",
    "player_df = pickle.loads(\n",
    "    requests.get(\n",
    "        f\"https://borza-hotelcom-data.s3.eu-central-1.amazonaws.com/soccerway-player_df.pkl\"\n",
    "    ).content\n",
    ")\n",
    "player_df.to_hdf(\"player_df.h5\",\"data\")\n",
    "\n",
    "data = {\n",
    "    \"region\": region_df,\n",
    "    \"competition\": competition_df,\n",
    "    \"season\": season_df,\n",
    "    \"round\": round_df,\n",
    "    \"match\": match_df,\n",
    "    \"goal\": goal_df,\n",
    "    \"match_inf\": match_info_df,\n",
    "    \"lineup\": lineup_df,\n",
    "    \"coach\": coach_df,\n",
    "    \"sidelined\": sidelined_df,\n",
    "    \"sub\": sub_df,\n",
    "    \"event\": event_df,\n",
    "    \"player\": player_df,\n",
    "}\n",
    "\n",
    "pickle.dump(data, open(\"data.pkl\", \"wb\"))\n",
    "\n",
    "data = pickle.load(open(\"data.pkl\", \"rb\"))\n",
    "match_info_all = (\n",
    "    data[\"match\"]\n",
    "    .merge(data[\"round\"], how=\"left\")\n",
    "    .merge(data[\"season\"], how=\"left\")\n",
    "    .merge(data[\"competition\"], how=\"left\")\n",
    "    .merge(data[\"region\"], how=\"left\")\n",
    ")\n",
    "\n"
   ]
  },
  {
   "cell_type": "code",
   "execution_count": 23,
   "metadata": {},
   "outputs": [],
   "source": [
    "from IPython.core.display import display, HTML\n",
    "\n",
    "import numpy as np\n",
    "import pandas as pd\n",
    "\n",
    "from rw_fuction import DataRepo #átnevezve"
   ]
  },
  {
   "cell_type": "code",
   "execution_count": 24,
   "metadata": {},
   "outputs": [
    {
     "name": "stdout",
     "output_type": "stream",
     "text": [
      "Wall time: 1min 15s\n"
     ]
    }
   ],
   "source": [
    "%%time\n",
    "dr = DataRepo()"
   ]
  },
  {
   "cell_type": "code",
   "execution_count": 25,
   "metadata": {},
   "outputs": [],
   "source": [
    "import pandas as pd\n",
    "import pickle\n",
    "\n",
    "data = pickle.load(open(\"data.pkl\", \"rb\"))\n",
    "#Key df creation\n",
    "match_info_all = (\n",
    "    data[\"match\"]\n",
    "    .merge(data[\"round\"], how=\"left\")\n",
    "    .merge(data[\"season\"], how=\"left\")\n",
    "    .merge(data[\"competition\"], how=\"left\")\n",
    "    .merge(data[\"region\"], how=\"left\")\n",
    ")\n",
    "#Renames\n",
    "sub = data[\"sub\"].rename(columns={\"sub_id\": \"player_id\"})\n",
    "lineup = data[\"lineup\"].rename(columns={\"person_id\": \"player_id\"})\n",
    "#igazolt keret\n",
    "onfield = pd.concat([sub, lineup], sort=True)\n",
    "\n",
    "top5_teams = (\n",
    "    data[\"event\"]\n",
    "    .rename(columns={\"person_id\": \"player_id\"})\n",
    "    .merge(\n",
    "        onfield[[\"match_id\", \"player_id\", \"side\"]],\n",
    "        how=\"inner\",\n",
    "        on=[\"match_id\", \"player_id\"],\n",
    "    )\n",
    ")\n",
    "top5_teams = pd.concat(\n",
    "    [\n",
    "        top5_teams.loc[top5_teams[\"side\"] == \"home\"]\n",
    "        .merge(data[\"match\"][[\"match_id\", \"home_team\"]], how=\"inner\", on=[\"match_id\"])\n",
    "        .rename(columns={\"home_team\": \"team\"}),\n",
    "        top5_teams.loc[top5_teams[\"side\"] == \"away\"]\n",
    "        .merge(data[\"match\"][[\"match_id\", \"away_team\"]], how=\"inner\", on=[\"match_id\"])\n",
    "        .rename(columns={\"away_team\": \"team\"}),\n",
    "    ]\n",
    ")\n",
    "top5_teams = pd.concat(\n",
    "    [\n",
    "        top5_teams.loc[top5_teams[\"side\"] == \"home\"]\n",
    "        .merge(data[\"match\"][[\"match_id\", \"away_team\"]], how=\"inner\", on=[\"match_id\"])\n",
    "        .rename(columns={\"away_team\": \"team_a\"}),\n",
    "        top5_teams.loc[top5_teams[\"side\"] == \"away\"]\n",
    "        .merge(data[\"match\"][[\"match_id\", \"home_team\"]], how=\"inner\", on=[\"match_id\"])\n",
    "        .rename(columns={\"home_team\": \"team_a\"}),\n",
    "    ]\n",
    ")\n",
    "\n",
    "\n",
    "def get_top_n(df, group, sort, n):\n",
    "    out = (\n",
    "        df.groupby(group)\n",
    "        .count()\n",
    "        .sort_values(by=[sort], ascending=False)\n",
    "        .iloc[0:n]\n",
    "        .reset_index()\n",
    "    )\n",
    "    out[\"player_id\"] = [int(i) for i in out[\"player_id\"]]\n",
    "    return out\n",
    "\n",
    "\n",
    "def top_player(df):\n",
    "    top = pd.merge(\n",
    "        df,\n",
    "        data[\"player\"][[\"First name\", \"Last name\", \"player_id\"]],\n",
    "        how=\"inner\",\n",
    "        on=\"player_id\",\n",
    "    )\n",
    "    return top"
   ]
  },
  {
   "cell_type": "code",
   "execution_count": 26,
   "metadata": {},
   "outputs": [],
   "source": [
    "#1.\n",
    "data[\"goal\"][\"goal_id\"] = [i for i in range(data[\"goal\"].shape[0])]\n",
    "g_match = pd.merge(\n",
    "    data[\"goal\"], match_info_all[[\"match_id\", \"region_id\", \"season_id\"]], how=\"left\"\n",
    ")\n",
    "goal_n = g_match.groupby(\"scorer_id\")[\"goal_id\"].nunique().loc[lambda x: x >= 20]\n",
    "region_n = g_match.groupby(\"scorer_id\")[\"region_id\"].nunique().loc[lambda x: x >= 4]\n",
    "# 2.\n",
    "suspended = data[\"sidelined\"].loc[data[\"sidelined\"][\"reason\"] == \"Suspended\"]\n",
    "susp = pd.merge(suspended, data[\"match_inf\"][[\"match_id\", \"referee_id\"]], how=\"left\")\n",
    "grouped = susp.groupby([\"player_id\", \"referee_id\"]).count()\n",
    "# 3.\n",
    "\n",
    "# 4.\n",
    "left = data[\"player\"][[\"Foot\", \"player_id\"]].loc[data[\"player\"][\"Foot\"] == \"Left\"]\n",
    "merged = onfield.merge(left, how=\"left\", on=\"player_id\")\n",
    "# 5.\n",
    "result = pd.merge(sub, suspended, how=\"inner\", on=[\"match_id\", \"player_id\"])\n",
    "# 6.\n",
    "missed = top5_teams.loc[top5_teams[\"event\"] == \"penalty-miss\"]\n",
    "grouped_pen = missed.groupby([\"match_id\"]).count()"
   ]
  },
  {
   "cell_type": "markdown",
   "metadata": {},
   "source": [
    "# Összehasonlítás"
   ]
  },
  {
   "cell_type": "markdown",
   "metadata": {},
   "source": [
    "## top5 sérülés idők"
   ]
  },
  {
   "cell_type": "markdown",
   "metadata": {},
   "source": [
    "### Ádi&Letner"
   ]
  },
  {
   "cell_type": "code",
   "execution_count": null,
   "metadata": {},
   "outputs": [],
   "source": [
    "def get_top_n(df, group, sort, n):\n",
    "    out = (\n",
    "        df.groupby(group)\n",
    "        .count()\n",
    "        .sort_values(by=[sort], ascending=False)\n",
    "        .iloc[0:n]\n",
    "        .reset_index()\n",
    "    )\n",
    "    out[\"player_id\"] = [int(i) for i in out[\"player_id\"]]\n",
    "    return out"
   ]
  },
  {
   "cell_type": "code",
   "execution_count": 27,
   "metadata": {},
   "outputs": [],
   "source": [
    "sort_reason = data[\"sidelined\"].groupby([\"player_id\", \"reason\"]).count().reset_index()\n",
    "top_reason = get_top_n(sort_reason, \"player_id\", \"reason\", 5)"
   ]
  },
  {
   "cell_type": "code",
   "execution_count": 28,
   "metadata": {},
   "outputs": [
    {
     "data": {
      "text/html": [
       "<div>\n",
       "<style scoped>\n",
       "    .dataframe tbody tr th:only-of-type {\n",
       "        vertical-align: middle;\n",
       "    }\n",
       "\n",
       "    .dataframe tbody tr th {\n",
       "        vertical-align: top;\n",
       "    }\n",
       "\n",
       "    .dataframe thead th {\n",
       "        text-align: right;\n",
       "    }\n",
       "</style>\n",
       "<table border=\"1\" class=\"dataframe\">\n",
       "  <thead>\n",
       "    <tr style=\"text-align: right;\">\n",
       "      <th></th>\n",
       "      <th>First name</th>\n",
       "      <th>Last name</th>\n",
       "      <th>reason</th>\n",
       "    </tr>\n",
       "  </thead>\n",
       "  <tbody>\n",
       "    <tr>\n",
       "      <td>0</td>\n",
       "      <td>Chris</td>\n",
       "      <td>Smalling</td>\n",
       "      <td>15</td>\n",
       "    </tr>\n",
       "    <tr>\n",
       "      <td>1</td>\n",
       "      <td>Phil</td>\n",
       "      <td>Jones</td>\n",
       "      <td>15</td>\n",
       "    </tr>\n",
       "    <tr>\n",
       "      <td>2</td>\n",
       "      <td>Jonny</td>\n",
       "      <td>Evans</td>\n",
       "      <td>15</td>\n",
       "    </tr>\n",
       "    <tr>\n",
       "      <td>3</td>\n",
       "      <td>Wayne Mark</td>\n",
       "      <td>Rooney</td>\n",
       "      <td>15</td>\n",
       "    </tr>\n",
       "    <tr>\n",
       "      <td>4</td>\n",
       "      <td>Rafael</td>\n",
       "      <td>Pereira da Silva</td>\n",
       "      <td>14</td>\n",
       "    </tr>\n",
       "  </tbody>\n",
       "</table>\n",
       "</div>"
      ],
      "text/plain": [
       "   First name         Last name  reason\n",
       "0       Chris          Smalling      15\n",
       "1        Phil             Jones      15\n",
       "2       Jonny             Evans      15\n",
       "3  Wayne Mark            Rooney      15\n",
       "4      Rafael  Pereira da Silva      14"
      ]
     },
     "execution_count": 28,
     "metadata": {},
     "output_type": "execute_result"
    }
   ],
   "source": [
    "top_player(top_reason)[[\"First name\", \"Last name\", \"reason\"]]"
   ]
  },
  {
   "cell_type": "markdown",
   "metadata": {},
   "source": [
    "### Endre"
   ]
  },
  {
   "cell_type": "code",
   "execution_count": 29,
   "metadata": {},
   "outputs": [],
   "source": [
    "def _get_top5_sideline(self, sideline_df):\n",
    "    #top5 reason ami miatt ki volt állítva valaki, újdonság: agg\n",
    "        self.top5_sideline = (\n",
    "            sideline_df.groupby(\"player_id\")\n",
    "            .agg({\"reason\": \"nunique\"})\n",
    "            .nlargest(5, \"reason\")\n",
    "            .reset_index()\n",
    "            .merge(\n",
    "                pd.read_hdf(\"player_df.h5\").loc[\n",
    "                    :, [\"player_id\", \"First name\", \"Last name\", \"Nationality\"]\n",
    "                ],\n",
    "                how=\"left\",\n",
    "            )\n",
    "        )"
   ]
  },
  {
   "cell_type": "code",
   "execution_count": 30,
   "metadata": {},
   "outputs": [
    {
     "data": {
      "text/html": [
       "<div>\n",
       "<style scoped>\n",
       "    .dataframe tbody tr th:only-of-type {\n",
       "        vertical-align: middle;\n",
       "    }\n",
       "\n",
       "    .dataframe tbody tr th {\n",
       "        vertical-align: top;\n",
       "    }\n",
       "\n",
       "    .dataframe thead th {\n",
       "        text-align: right;\n",
       "    }\n",
       "</style>\n",
       "<table border=\"1\" class=\"dataframe\">\n",
       "  <thead>\n",
       "    <tr style=\"text-align: right;\">\n",
       "      <th></th>\n",
       "      <th>player_id</th>\n",
       "      <th>reason</th>\n",
       "      <th>First name</th>\n",
       "      <th>Last name</th>\n",
       "      <th>Nationality</th>\n",
       "    </tr>\n",
       "  </thead>\n",
       "  <tbody>\n",
       "    <tr>\n",
       "      <td>0</td>\n",
       "      <td>193</td>\n",
       "      <td>15</td>\n",
       "      <td>Wayne Mark</td>\n",
       "      <td>Rooney</td>\n",
       "      <td>England</td>\n",
       "    </tr>\n",
       "    <tr>\n",
       "      <td>1</td>\n",
       "      <td>20687</td>\n",
       "      <td>15</td>\n",
       "      <td>Jonny</td>\n",
       "      <td>Evans</td>\n",
       "      <td>Northern Ireland</td>\n",
       "    </tr>\n",
       "    <tr>\n",
       "      <td>2</td>\n",
       "      <td>79474</td>\n",
       "      <td>15</td>\n",
       "      <td>Chris</td>\n",
       "      <td>Smalling</td>\n",
       "      <td>England</td>\n",
       "    </tr>\n",
       "    <tr>\n",
       "      <td>3</td>\n",
       "      <td>97299</td>\n",
       "      <td>15</td>\n",
       "      <td>Phil</td>\n",
       "      <td>Jones</td>\n",
       "      <td>England</td>\n",
       "    </tr>\n",
       "    <tr>\n",
       "      <td>4</td>\n",
       "      <td>22357</td>\n",
       "      <td>14</td>\n",
       "      <td>Mario</td>\n",
       "      <td>Barwuah Balotelli</td>\n",
       "      <td>Italy</td>\n",
       "    </tr>\n",
       "  </tbody>\n",
       "</table>\n",
       "</div>"
      ],
      "text/plain": [
       "   player_id  reason  First name          Last name       Nationality\n",
       "0        193      15  Wayne Mark             Rooney           England\n",
       "1      20687      15       Jonny              Evans  Northern Ireland\n",
       "2      79474      15       Chris           Smalling           England\n",
       "3      97299      15        Phil              Jones           England\n",
       "4      22357      14       Mario  Barwuah Balotelli             Italy"
      ]
     },
     "execution_count": 30,
     "metadata": {},
     "output_type": "execute_result"
    }
   ],
   "source": [
    "dr.top5_sideline"
   ]
  },
  {
   "cell_type": "markdown",
   "metadata": {},
   "source": [
    "Különbségek:\n",
    "- Nagy különbség persze az, hogy classokba van redezve Edre kódja\n",
    "- Agg idex használata endrénél, ami könnyebben aggregál, mint a count_value\n",
    "- Top-5-öt nlargest szerit szedi ki Edre, ez picit gyorsabb és rövidebb, mint Ádiéké\n",
    "- Eredménynek jót ad Ádiék kódja"
   ]
  },
  {
   "cell_type": "markdown",
   "metadata": {},
   "source": [
    "# Többi top5 player többi feladatra"
   ]
  },
  {
   "cell_type": "markdown",
   "metadata": {},
   "source": [
    "## Edre által használt kódok a feladatmegoldáshoz:"
   ]
  },
  {
   "cell_type": "code",
   "execution_count": null,
   "metadata": {},
   "outputs": [],
   "source": [
    "#ez konkrétam az első félidős top5 feladatnál határozza meg az időt\n",
    "def _is_first_half(_df):\n",
    "    return (\n",
    "        _df[\"time\"].str.replace(\"'\", \"\").str.split(\"+\").str[0].astype(int)\n",
    "        <= 45\n",
    "    )\n",
    "\n",
    "#ez is még ezt viszit tovább, szűri az első félidős gólokra az event df-et \n",
    "def _fh_goals(_df):\n",
    "    return (\n",
    "        _df.loc[lambda df: (df[\"event\"] == \"goal\") & (df[\"time\"] != \"'\"), :]\n",
    "        .loc[_is_first_half, :]\n",
    "        .assign(event=\"fh_goal\")\n",
    "    )\n"
   ]
  },
  {
   "cell_type": "code",
   "execution_count": null,
   "metadata": {},
   "outputs": [],
   "source": [
    "def _get_goals_after_rc(self, event_raw, lup_raw):\n",
    "        #először az evet df-et leszűrjük a goal, piroslap kés sárgára, mergeljük a lup_raw-val (melyik oldal?)\n",
    "        sided_rel_events = (\n",
    "            event_raw.loc[\n",
    "                lambda df: df[\"event\"].isin([\"goal\", \"r-card\", \"2nd-y-card\"])\n",
    "                & (df[\"time\"] != \"'\")\n",
    "            ]\n",
    "            .merge(\n",
    "                lup_raw.loc[:, [\"match_id\", \"person_id\", \"side\"]], how=\"left\",\n",
    "            )\n",
    "            .assign(\n",
    "                event=lambda df: df[\"event\"].replace(\"2nd-y-card\", \"r-card\")\n",
    "            )\n",
    "        )\n",
    "        #megcsináljuk az időt\n",
    "        time_lists = (\n",
    "            sided_rel_events[\"time\"].str.replace(\"'\", \"\").str.split(\"+\")\n",
    "        )\n",
    "        #megcsiálja az oldalakat szeritit ismét\n",
    "        pr_arr = (\n",
    "            sided_rel_events.assign(\n",
    "                main_time=time_lists.str[0].astype(int),\n",
    "                plus_time=np.where(\n",
    "                    time_lists.str.len() > 1, time_lists.str[1], \"0\"\n",
    "                ).astype(int),\n",
    "            )\n",
    "            .sort_values(\n",
    "                [\"match_id\", \"side\", \"main_time\", \"plus_time\", \"event\"]\n",
    "            )\n",
    "            .loc[:, [\"match_id\", \"side\", \"event\"]]\n",
    "            .values"
   ]
  },
  {
   "cell_type": "code",
   "execution_count": null,
   "metadata": {},
   "outputs": [],
   "source": [
    "def _get_participant_df(self):\n",
    "    ##akik az adott meccsen a pályán voltak, nekik a nevei és hogy milyen lábasok\n",
    "        _sidelined_raw = pd.read_hdf(\"sidelined_df.h5\")\n",
    "        #itt megadja hogy min szűrve nézz meg a top5-öt\n",
    "        self._get_top5_sideline(_sidelined_raw)\n",
    "        #lineupdf megkapja az időt és a sub_df-et concattal\n",
    "        #egy olyan df-et kapok vissza, ahol a linup_df oszlopaihoz (hogy melyikhez azt a lup_cols lövi be), hozzátesszük a sub_df-et (ezt egymás alá)\n",
    "        #és ehhez mergeljük hozzá a player infókat\n",
    "        return (\n",
    "            pd.concat(\n",
    "                [\n",
    "                    pd.read_hdf(\"lineup_df.h5\")\n",
    "                    .assign(\n",
    "                        starter=True,\n",
    "                        comes_on=False,\n",
    "                        full_bench=False,\n",
    "                        sidelined=False,\n",
    "                        sub_time=np.inf,\n",
    "                    )\n",
    "                    .loc[:, lup_cols],\n",
    "                    pd.read_hdf(\"sub_df.h5\")\n",
    "                    .rename(columns={\"sub_id\": \"person_id\"})\n",
    "                    .assign(\n",
    "                        starter=False,\n",
    "                        comes_on=lambda df: ~df[\"subbed_id\"].isna(),\n",
    "                        full_bench=lambda df: df[\"subbed_id\"].isna(),\n",
    "                        sidelined=False,\n",
    "                        sub_time=_parse_time_int,\n",
    "                    )\n",
    "                    .loc[:, lup_cols],  # note: no need for who was subbed off\n",
    "                    _sidelined_raw.rename(columns={\"player_id\": \"person_id\"})\n",
    "                    .assign(\n",
    "                        starter=False,\n",
    "                        comes_on=False,\n",
    "                        full_bench=False,\n",
    "                        sidelined=True,\n",
    "                        sub_time=np.inf,\n",
    "                    )\n",
    "                    .loc[:, lup_cols],\n",
    "                ]\n",
    "            )\n",
    "            .drop_duplicates(\n",
    "                subset=[\"person_id\", \"match_id\", \"side\"], keep=\"first\"\n",
    "            )\n",
    "            .merge(\n",
    "                pd.read_hdf(\"player_df.h5\")\n",
    "                .rename(columns={\"player_id\": \"person_id\"})\n",
    "                .assign(is_lefty=lambda df: (df[\"Foot\"] == \"Left\").astype(int))\n",
    "                .loc[:, player_cols],\n",
    "                how=\"left\",\n",
    "            )  # here astype(int) saves a LOT of time\n",
    "        )"
   ]
  },
  {
   "cell_type": "code",
   "execution_count": null,
   "metadata": {},
   "outputs": [],
   "source": [
    "def _get_event_df(event_raw):\n",
    "\n",
    "        return (\n",
    "            pd.concat(\n",
    "                [\n",
    "                    #első félidős gólok, assistolók\n",
    "                    event_raw.pipe(lambda df: pd.concat([df, _fh_goals(df)])),\n",
    "                    pd.read_hdf(\"goal_df.h5\")\n",
    "                    .dropna(subset=[\"assister_id\"])\n",
    "                    .assign(\n",
    "                        event=\"assist\",\n",
    "                        time=lambda df: df[\"minute\"],\n",
    "                        person_id=lambda df: df[\"assister_id\"].astype(int),\n",
    "                    )\n",
    "                    .loc[:, [\"match_id\", \"person_id\", \"time\", \"event\"]],\n",
    "                ]\n",
    "            )\n",
    "            .pivot_table(\n",
    "                columns=[\"event\"],\n",
    "                index=[\"match_id\", \"person_id\"],\n",
    "                values=\"time\",\n",
    "                aggfunc=\"count\",\n",
    "            )\n",
    "            .assign(\n",
    "                yc=lambda df: (df[\"y-card\"] > 0).astype(int),\n",
    "                yc2=lambda df: (df[\"2nd-y-card\"] > 0).astype(int),\n",
    "                rc=lambda df: (df[\"r-card\"] > 0).astype(int),\n",
    "            )\n",
    "            .assign(\n",
    "                bookings=lambda df: df.loc[:, [\"yc\", \"yc2\", \"rc\"]].sum(axis=1),\n",
    "                sent_off=lambda df: df.loc[:, [\"rc\", \"yc2\"]]\n",
    "                .sum(axis=1)\n",
    "                .astype(bool)\n",
    "                .astype(int),\n",
    "                yc_all=lambda df: df.loc[:, [\"yc\", \"yc2\"]].sum(axis=1),\n",
    "            )\n",
    "            .loc[:, event_cols]\n",
    "            .reset_index()\n",
    "        )\n"
   ]
  },
  {
   "cell_type": "code",
   "execution_count": null,
   "metadata": {},
   "outputs": [],
   "source": [
    "def _load_player_x_match(self):\n",
    "        _lup_df = self._get_participant_df()\n",
    "        #pályán lévő játékosok\n",
    "        _event_raw = pd.read_hdf(\"event_df.h5\")\n",
    "        #események\n",
    "        self.coach_df = pd.read_hdf(\"coach_df.h5\").assign(\n",
    "            date=lambda df: self.match_info.reindex(df[\"match_id\"])[\n",
    "                \"start_time\"\n",
    "            ].values\n",
    "        )\n",
    "        \n",
    "        self._get_goals_after_rc(_event_raw, _lup_df)\n",
    "        #kiállítás utáni események\n",
    "        _ids_for_gb = self.match_info.reindex(_lup_df[\"match_id\"]).loc[\n",
    "            :, [\"region_id\", \"season_id\", \"referee_id\", \"start_time\"]\n",
    "        ]\n",
    "        #ez csak leszűri az adatbázist\n",
    "        \n",
    "        #itt jön a mágia. Miután megvan az összes playerxmatch recordú adatbázis\n",
    "        #azután már csak a különböző változókra szűrűnk\n",
    "        self.player_x_match = (\n",
    "            _lup_df.merge(self._get_event_df(_event_raw), how=\"left\")\n",
    "            .fillna(0)\n",
    "            .assign(\n",
    "                sub_time=lambda df: df.loc[:, \"sub_time\"].replace(0, np.inf),\n",
    "                #top5 subként lőtt gól\n",
    "                sub_goals=lambda df: np.where(df[\"comes_on\"], df[\"goal\"], 0),\n",
    "                #top5 goal és assist is\n",
    "                g_a=lambda df: (df[\"goal\"] > 0) & (df[\"assist\"] > 0),\n",
    "                #akik le lettek külve csereként\n",
    "                come_n_go=lambda df: ((df[\"sent_off\"] > 0) & df[\"comes_on\"]),\n",
    "                #hány régió value...\n",
    "                region_id=_ids_for_gb[\"region_id\"].values,\n",
    "                season_id=_ids_for_gb[\"season_id\"].values,\n",
    "                referee_id=_ids_for_gb[\"referee_id\"].values,\n",
    "                date=_ids_for_gb[\"start_time\"].values,\n",
    "            )\n",
    "        )"
   ]
  },
  {
   "cell_type": "code",
   "execution_count": 31,
   "metadata": {},
   "outputs": [
    {
     "name": "stdout",
     "output_type": "stream",
     "text": [
      "Wall time: 18.7 s\n"
     ]
    }
   ],
   "source": [
    "person_df = dr.player_x_match.groupby([\"person_id\", \"First name\", \"Last name\"])[\n",
    "    [\"come_n_go\", \"sub_goals\", \"full_bench\", \"fh_goal\", \"g_a\"]\n",
    "].sum()"
   ]
  },
  {
   "cell_type": "code",
   "execution_count": 14,
   "metadata": {},
   "outputs": [
    {
     "data": {
      "text/html": [
       "<table border=\"1\" class=\"dataframe\">\n",
       "  <thead>\n",
       "    <tr style=\"text-align: right;\">\n",
       "      <th></th>\n",
       "      <th></th>\n",
       "      <th></th>\n",
       "      <th>sub_goals</th>\n",
       "    </tr>\n",
       "    <tr>\n",
       "      <th>person_id</th>\n",
       "      <th>First name</th>\n",
       "      <th>Last name</th>\n",
       "      <th></th>\n",
       "    </tr>\n",
       "  </thead>\n",
       "  <tbody>\n",
       "    <tr>\n",
       "      <th>119</th>\n",
       "      <th>Lionel Andrés</th>\n",
       "      <th>Messi Cuccittini</th>\n",
       "      <td>34.0</td>\n",
       "    </tr>\n",
       "    <tr>\n",
       "      <th>13690</th>\n",
       "      <th>Kevin</th>\n",
       "      <th>Gameiro</th>\n",
       "      <td>34.0</td>\n",
       "    </tr>\n",
       "    <tr>\n",
       "      <th>103171</th>\n",
       "      <th>Álvaro Borja</th>\n",
       "      <th>Morata Martín</th>\n",
       "      <td>34.0</td>\n",
       "    </tr>\n",
       "    <tr>\n",
       "      <th>53937</th>\n",
       "      <th>Javier</th>\n",
       "      <th>Hernández Balcázar</th>\n",
       "      <td>31.0</td>\n",
       "    </tr>\n",
       "    <tr>\n",
       "      <th>1595</th>\n",
       "      <th>Karim</th>\n",
       "      <th>Benzema</th>\n",
       "      <td>30.0</td>\n",
       "    </tr>\n",
       "  </tbody>\n",
       "</table>"
      ],
      "text/plain": [
       "<IPython.core.display.HTML object>"
      ]
     },
     "metadata": {},
     "output_type": "display_data"
    },
    {
     "data": {
      "text/html": [
       "<table border=\"1\" class=\"dataframe\">\n",
       "  <thead>\n",
       "    <tr style=\"text-align: right;\">\n",
       "      <th></th>\n",
       "      <th></th>\n",
       "      <th></th>\n",
       "      <th>full_bench</th>\n",
       "    </tr>\n",
       "    <tr>\n",
       "      <th>person_id</th>\n",
       "      <th>First name</th>\n",
       "      <th>Last name</th>\n",
       "      <th></th>\n",
       "    </tr>\n",
       "  </thead>\n",
       "  <tbody>\n",
       "    <tr>\n",
       "      <th>1310</th>\n",
       "      <th>Jessy</th>\n",
       "      <th>Moulin</th>\n",
       "      <td>363.0</td>\n",
       "    </tr>\n",
       "    <tr>\n",
       "      <th>18585</th>\n",
       "      <th>Daniele</th>\n",
       "      <th>Padelli</th>\n",
       "      <td>316.0</td>\n",
       "    </tr>\n",
       "    <tr>\n",
       "      <th>4336</th>\n",
       "      <th>Marco</th>\n",
       "      <th>Storari</th>\n",
       "      <td>310.0</td>\n",
       "    </tr>\n",
       "    <tr>\n",
       "      <th>97650</th>\n",
       "      <th>Rafael Pires</th>\n",
       "      <th>Monteiro</th>\n",
       "      <td>302.0</td>\n",
       "    </tr>\n",
       "    <tr>\n",
       "      <th>17587</th>\n",
       "      <th>Germán Darío</th>\n",
       "      <th>Lux</th>\n",
       "      <td>300.0</td>\n",
       "    </tr>\n",
       "  </tbody>\n",
       "</table>"
      ],
      "text/plain": [
       "<IPython.core.display.HTML object>"
      ]
     },
     "metadata": {},
     "output_type": "display_data"
    },
    {
     "data": {
      "text/html": [
       "<table border=\"1\" class=\"dataframe\">\n",
       "  <thead>\n",
       "    <tr style=\"text-align: right;\">\n",
       "      <th></th>\n",
       "      <th></th>\n",
       "      <th></th>\n",
       "      <th>fh_goal</th>\n",
       "    </tr>\n",
       "    <tr>\n",
       "      <th>person_id</th>\n",
       "      <th>First name</th>\n",
       "      <th>Last name</th>\n",
       "      <th></th>\n",
       "    </tr>\n",
       "  </thead>\n",
       "  <tbody>\n",
       "    <tr>\n",
       "      <th>119</th>\n",
       "      <th>Lionel Andrés</th>\n",
       "      <th>Messi Cuccittini</th>\n",
       "      <td>250.0</td>\n",
       "    </tr>\n",
       "    <tr>\n",
       "      <th>382</th>\n",
       "      <th>Cristiano Ronaldo</th>\n",
       "      <th>dos Santos Aveiro</th>\n",
       "      <td>235.0</td>\n",
       "    </tr>\n",
       "    <tr>\n",
       "      <th>2290</th>\n",
       "      <th>Luis Alberto</th>\n",
       "      <th>Suárez Díaz</th>\n",
       "      <td>138.0</td>\n",
       "    </tr>\n",
       "    <tr>\n",
       "      <th>3051</th>\n",
       "      <th>Sergio Leonel</th>\n",
       "      <th>Agüero del Castillo</th>\n",
       "      <td>137.0</td>\n",
       "    </tr>\n",
       "    <tr>\n",
       "      <th>1595</th>\n",
       "      <th>Karim</th>\n",
       "      <th>Benzema</th>\n",
       "      <td>133.0</td>\n",
       "    </tr>\n",
       "  </tbody>\n",
       "</table>"
      ],
      "text/plain": [
       "<IPython.core.display.HTML object>"
      ]
     },
     "metadata": {},
     "output_type": "display_data"
    },
    {
     "data": {
      "text/html": [
       "<table border=\"1\" class=\"dataframe\">\n",
       "  <thead>\n",
       "    <tr style=\"text-align: right;\">\n",
       "      <th></th>\n",
       "      <th></th>\n",
       "      <th></th>\n",
       "      <th>g_a</th>\n",
       "    </tr>\n",
       "    <tr>\n",
       "      <th>person_id</th>\n",
       "      <th>First name</th>\n",
       "      <th>Last name</th>\n",
       "      <th></th>\n",
       "    </tr>\n",
       "  </thead>\n",
       "  <tbody>\n",
       "    <tr>\n",
       "      <th>119</th>\n",
       "      <th>Lionel Andrés</th>\n",
       "      <th>Messi Cuccittini</th>\n",
       "      <td>93.0</td>\n",
       "    </tr>\n",
       "    <tr>\n",
       "      <th>382</th>\n",
       "      <th>Cristiano Ronaldo</th>\n",
       "      <th>dos Santos Aveiro</th>\n",
       "      <td>65.0</td>\n",
       "    </tr>\n",
       "    <tr>\n",
       "      <th>2290</th>\n",
       "      <th>Luis Alberto</th>\n",
       "      <th>Suárez Díaz</th>\n",
       "      <td>48.0</td>\n",
       "    </tr>\n",
       "    <tr>\n",
       "      <th>102697</th>\n",
       "      <th>Neymar</th>\n",
       "      <th>da Silva Santos Junior</th>\n",
       "      <td>44.0</td>\n",
       "    </tr>\n",
       "    <tr>\n",
       "      <th>1595</th>\n",
       "      <th>Karim</th>\n",
       "      <th>Benzema</th>\n",
       "      <td>38.0</td>\n",
       "    </tr>\n",
       "  </tbody>\n",
       "</table>"
      ],
      "text/plain": [
       "<IPython.core.display.HTML object>"
      ]
     },
     "metadata": {},
     "output_type": "display_data"
    }
   ],
   "source": [
    "for c in person_df.columns[1:]:\n",
    "    display(HTML(person_df[c].nlargest(5).to_frame().to_html()))"
   ]
  },
  {
   "cell_type": "code",
   "execution_count": 15,
   "metadata": {},
   "outputs": [
    {
     "name": "stdout",
     "output_type": "stream",
     "text": [
      "Wall time: 8.68 s\n"
     ]
    },
    {
     "data": {
      "text/html": [
       "<div>\n",
       "<style scoped>\n",
       "    .dataframe tbody tr th:only-of-type {\n",
       "        vertical-align: middle;\n",
       "    }\n",
       "\n",
       "    .dataframe tbody tr th {\n",
       "        vertical-align: top;\n",
       "    }\n",
       "\n",
       "    .dataframe thead th {\n",
       "        text-align: right;\n",
       "    }\n",
       "</style>\n",
       "<table border=\"1\" class=\"dataframe\">\n",
       "  <thead>\n",
       "    <tr style=\"text-align: right;\">\n",
       "      <th></th>\n",
       "      <th>person_id</th>\n",
       "      <th>First name</th>\n",
       "      <th>Last name</th>\n",
       "      <th>season_id</th>\n",
       "      <th>assist</th>\n",
       "    </tr>\n",
       "  </thead>\n",
       "  <tbody>\n",
       "    <tr>\n",
       "      <td>222302</td>\n",
       "      <td>67424</td>\n",
       "      <td>Luciano</td>\n",
       "      <td>Narsingh</td>\n",
       "      <td>5963</td>\n",
       "      <td>22.0</td>\n",
       "    </tr>\n",
       "    <tr>\n",
       "      <td>165062</td>\n",
       "      <td>40709</td>\n",
       "      <td>Dušan</td>\n",
       "      <td>Tadić</td>\n",
       "      <td>5087</td>\n",
       "      <td>21.0</td>\n",
       "    </tr>\n",
       "    <tr>\n",
       "      <td>2596</td>\n",
       "      <td>119</td>\n",
       "      <td>Lionel Andrés</td>\n",
       "      <td>Messi Cuccittini</td>\n",
       "      <td>5334</td>\n",
       "      <td>21.0</td>\n",
       "    </tr>\n",
       "    <tr>\n",
       "      <td>425904</td>\n",
       "      <td>218727</td>\n",
       "      <td>Zinedine</td>\n",
       "      <td>Ferhat</td>\n",
       "      <td>14061</td>\n",
       "      <td>20.0</td>\n",
       "    </tr>\n",
       "    <tr>\n",
       "      <td>157572</td>\n",
       "      <td>38568</td>\n",
       "      <td>Graham</td>\n",
       "      <td>Dorrans</td>\n",
       "      <td>3452</td>\n",
       "      <td>20.0</td>\n",
       "    </tr>\n",
       "  </tbody>\n",
       "</table>\n",
       "</div>"
      ],
      "text/plain": [
       "        person_id     First name         Last name  season_id  assist\n",
       "222302      67424        Luciano          Narsingh       5963    22.0\n",
       "165062      40709          Dušan             Tadić       5087    21.0\n",
       "2596          119  Lionel Andrés  Messi Cuccittini       5334    21.0\n",
       "425904     218727       Zinedine            Ferhat      14061    20.0\n",
       "157572      38568         Graham           Dorrans       3452    20.0"
      ]
     },
     "execution_count": 15,
     "metadata": {},
     "output_type": "execute_result"
    }
   ],
   "source": [
    "%%time\n",
    "dr.player_x_match.groupby([\"person_id\", \"First name\", \"Last name\", \"season_id\"])[\n",
    "    \"assist\"\n",
    "].sum().reset_index().sort_values(\n",
    "    \"assist\", ascending=False\n",
    ").drop_duplicates(\"person_id\", keep=\"first\").head(5)"
   ]
  },
  {
   "cell_type": "markdown",
   "metadata": {},
   "source": [
    "# Ádi&Lentner - Sub goal"
   ]
  },
  {
   "cell_type": "code",
   "execution_count": 32,
   "metadata": {},
   "outputs": [],
   "source": [
    "# 2.\n",
    "sub[\"sub\"] = 1\n",
    "g_match_2 = pd.merge(data[\"goal\"], match_info_all[\"match_id\"], how=\"left\")\n",
    "subbed_goals = pd.merge(\n",
    "    g_match_2.rename(columns={\"scorer_id\": \"player_id\"}),\n",
    "    sub[[\"match_id\", \"player_id\", \"sub\"]],\n",
    "    how=\"inner\",\n",
    "    on=[\"player_id\", \"match_id\"],\n",
    ").drop_duplicates()\n",
    "##csak playerid szerint megy a groupby\n",
    "top_subbed_goals = get_top_n(subbed_goals, \"player_id\", \"goal_id\", 5)"
   ]
  },
  {
   "cell_type": "code",
   "execution_count": 33,
   "metadata": {},
   "outputs": [
    {
     "data": {
      "text/html": [
       "<div>\n",
       "<style scoped>\n",
       "    .dataframe tbody tr th:only-of-type {\n",
       "        vertical-align: middle;\n",
       "    }\n",
       "\n",
       "    .dataframe tbody tr th {\n",
       "        vertical-align: top;\n",
       "    }\n",
       "\n",
       "    .dataframe thead th {\n",
       "        text-align: right;\n",
       "    }\n",
       "</style>\n",
       "<table border=\"1\" class=\"dataframe\">\n",
       "  <thead>\n",
       "    <tr style=\"text-align: right;\">\n",
       "      <th></th>\n",
       "      <th>First name</th>\n",
       "      <th>Last name</th>\n",
       "      <th>goal_id</th>\n",
       "    </tr>\n",
       "  </thead>\n",
       "  <tbody>\n",
       "    <tr>\n",
       "      <td>0</td>\n",
       "      <td>Kevin</td>\n",
       "      <td>Gameiro</td>\n",
       "      <td>39</td>\n",
       "    </tr>\n",
       "    <tr>\n",
       "      <td>1</td>\n",
       "      <td>Lionel Andrés</td>\n",
       "      <td>Messi Cuccittini</td>\n",
       "      <td>38</td>\n",
       "    </tr>\n",
       "    <tr>\n",
       "      <td>2</td>\n",
       "      <td>Álvaro Borja</td>\n",
       "      <td>Morata Martín</td>\n",
       "      <td>36</td>\n",
       "    </tr>\n",
       "    <tr>\n",
       "      <td>3</td>\n",
       "      <td>Karim</td>\n",
       "      <td>Benzema</td>\n",
       "      <td>33</td>\n",
       "    </tr>\n",
       "    <tr>\n",
       "      <td>4</td>\n",
       "      <td>Javier</td>\n",
       "      <td>Hernández Balcázar</td>\n",
       "      <td>31</td>\n",
       "    </tr>\n",
       "  </tbody>\n",
       "</table>\n",
       "</div>"
      ],
      "text/plain": [
       "      First name           Last name  goal_id\n",
       "0          Kevin             Gameiro       39\n",
       "1  Lionel Andrés    Messi Cuccittini       38\n",
       "2   Álvaro Borja       Morata Martín       36\n",
       "3          Karim             Benzema       33\n",
       "4         Javier  Hernández Balcázar       31"
      ]
     },
     "execution_count": 33,
     "metadata": {},
     "output_type": "execute_result"
    }
   ],
   "source": [
    "top_player(top_subbed_goals)[[\"First name\", \"Last name\", \"goal_id\"]]"
   ]
  },
  {
   "cell_type": "markdown",
   "metadata": {},
   "source": [
    "# Ádi&Lentner full bench"
   ]
  },
  {
   "cell_type": "code",
   "execution_count": 34,
   "metadata": {},
   "outputs": [],
   "source": [
    "# 3.\n",
    "#Subid hívása - isnull - itt szűri le hogy végig ültek, playerID szerint szűr, top5\n",
    "top_sat = get_top_n(sub[sub[\"time\"].isnull()], \"player_id\", \"sub\", 5)"
   ]
  },
  {
   "cell_type": "code",
   "execution_count": 35,
   "metadata": {},
   "outputs": [
    {
     "data": {
      "text/html": [
       "<div>\n",
       "<style scoped>\n",
       "    .dataframe tbody tr th:only-of-type {\n",
       "        vertical-align: middle;\n",
       "    }\n",
       "\n",
       "    .dataframe tbody tr th {\n",
       "        vertical-align: top;\n",
       "    }\n",
       "\n",
       "    .dataframe thead th {\n",
       "        text-align: right;\n",
       "    }\n",
       "</style>\n",
       "<table border=\"1\" class=\"dataframe\">\n",
       "  <thead>\n",
       "    <tr style=\"text-align: right;\">\n",
       "      <th></th>\n",
       "      <th>First name</th>\n",
       "      <th>Last name</th>\n",
       "      <th>sub</th>\n",
       "    </tr>\n",
       "  </thead>\n",
       "  <tbody>\n",
       "    <tr>\n",
       "      <td>0</td>\n",
       "      <td>Jessy</td>\n",
       "      <td>Moulin</td>\n",
       "      <td>363</td>\n",
       "    </tr>\n",
       "    <tr>\n",
       "      <td>1</td>\n",
       "      <td>Daniele</td>\n",
       "      <td>Padelli</td>\n",
       "      <td>316</td>\n",
       "    </tr>\n",
       "    <tr>\n",
       "      <td>2</td>\n",
       "      <td>Marco</td>\n",
       "      <td>Storari</td>\n",
       "      <td>310</td>\n",
       "    </tr>\n",
       "    <tr>\n",
       "      <td>3</td>\n",
       "      <td>Rafael Pires</td>\n",
       "      <td>Monteiro</td>\n",
       "      <td>302</td>\n",
       "    </tr>\n",
       "    <tr>\n",
       "      <td>4</td>\n",
       "      <td>Germán Darío</td>\n",
       "      <td>Lux</td>\n",
       "      <td>300</td>\n",
       "    </tr>\n",
       "  </tbody>\n",
       "</table>\n",
       "</div>"
      ],
      "text/plain": [
       "     First name Last name  sub\n",
       "0         Jessy    Moulin  363\n",
       "1       Daniele   Padelli  316\n",
       "2         Marco   Storari  310\n",
       "3  Rafael Pires  Monteiro  302\n",
       "4  Germán Darío       Lux  300"
      ]
     },
     "execution_count": 35,
     "metadata": {},
     "output_type": "execute_result"
    }
   ],
   "source": [
    "top_player(top_sat)[[\"First name\", \"Last name\", \"sub\"]]"
   ]
  },
  {
   "cell_type": "markdown",
   "metadata": {},
   "source": [
    "# Ádi&Lentner first half"
   ]
  },
  {
   "cell_type": "code",
   "execution_count": 36,
   "metadata": {},
   "outputs": [],
   "source": [
    "# 4.\n",
    "##kiszedi azt, amelyik gólnak nincsen perce és azt átírja 0-ra - itt sztem azt ki kell dobni\n",
    "ind = data[\"goal\"].loc[data[\"goal\"][\"minute\"] == \"'\"].index[0]\n",
    "data[\"goal\"].at[ind, \"minute\"] = \"0'\"\n",
    "#csinál egy first half változót és ugyanazt mint mi csak több sorban\n",
    "data[\"goal\"][\"first half\"] = [int(i.split(\"'\")[0]) for i in data[\"goal\"][\"minute\"]]\n",
    "first_half = data[\"goal\"].loc[data[\"goal\"][\"first half\"] <= 45]\n",
    "first_half = first_half.rename(columns={\"scorer_id\": \"player_id\"})\n",
    "## itt a minute nem tudom miért van de amúgy groupby\n",
    "top_first = get_top_n(first_half, \"player_id\", \"minute\", 5)"
   ]
  },
  {
   "cell_type": "code",
   "execution_count": 37,
   "metadata": {},
   "outputs": [
    {
     "data": {
      "text/html": [
       "<div>\n",
       "<style scoped>\n",
       "    .dataframe tbody tr th:only-of-type {\n",
       "        vertical-align: middle;\n",
       "    }\n",
       "\n",
       "    .dataframe tbody tr th {\n",
       "        vertical-align: top;\n",
       "    }\n",
       "\n",
       "    .dataframe thead th {\n",
       "        text-align: right;\n",
       "    }\n",
       "</style>\n",
       "<table border=\"1\" class=\"dataframe\">\n",
       "  <thead>\n",
       "    <tr style=\"text-align: right;\">\n",
       "      <th></th>\n",
       "      <th>First name</th>\n",
       "      <th>Last name</th>\n",
       "      <th>goal_id</th>\n",
       "    </tr>\n",
       "  </thead>\n",
       "  <tbody>\n",
       "    <tr>\n",
       "      <td>0</td>\n",
       "      <td>Cristiano Ronaldo</td>\n",
       "      <td>dos Santos Aveiro</td>\n",
       "      <td>286</td>\n",
       "    </tr>\n",
       "    <tr>\n",
       "      <td>1</td>\n",
       "      <td>Lionel Andrés</td>\n",
       "      <td>Messi Cuccittini</td>\n",
       "      <td>278</td>\n",
       "    </tr>\n",
       "    <tr>\n",
       "      <td>2</td>\n",
       "      <td>Sergio Leonel</td>\n",
       "      <td>Agüero del Castillo</td>\n",
       "      <td>155</td>\n",
       "    </tr>\n",
       "    <tr>\n",
       "      <td>3</td>\n",
       "      <td>Luis Alberto</td>\n",
       "      <td>Suárez Díaz</td>\n",
       "      <td>152</td>\n",
       "    </tr>\n",
       "    <tr>\n",
       "      <td>4</td>\n",
       "      <td>Edinson Roberto</td>\n",
       "      <td>Cavani Gómez</td>\n",
       "      <td>152</td>\n",
       "    </tr>\n",
       "  </tbody>\n",
       "</table>\n",
       "</div>"
      ],
      "text/plain": [
       "          First name            Last name  goal_id\n",
       "0  Cristiano Ronaldo    dos Santos Aveiro      286\n",
       "1      Lionel Andrés     Messi Cuccittini      278\n",
       "2      Sergio Leonel  Agüero del Castillo      155\n",
       "3       Luis Alberto          Suárez Díaz      152\n",
       "4    Edinson Roberto         Cavani Gómez      152"
      ]
     },
     "execution_count": 37,
     "metadata": {},
     "output_type": "execute_result"
    }
   ],
   "source": [
    "top_player(top_first)[[\"First name\", \"Last name\", \"goal_id\"]]"
   ]
  },
  {
   "cell_type": "markdown",
   "metadata": {},
   "source": [
    "# Ádi&Lentner assist&goal"
   ]
  },
  {
   "cell_type": "code",
   "execution_count": 38,
   "metadata": {},
   "outputs": [],
   "source": [
    "work = data[\"goal\"][[\"match_id\", \"scorer_id\", \"assister_id\"]]\n",
    "work = work.rename(columns={\"scorer_id\": \"player_id\"})\n",
    "top_sa = get_top_n(work, [\"player_id\", \"match_id\"], \"assister_id\", 5)"
   ]
  },
  {
   "cell_type": "code",
   "execution_count": 39,
   "metadata": {},
   "outputs": [
    {
     "data": {
      "text/html": [
       "<div>\n",
       "<style scoped>\n",
       "    .dataframe tbody tr th:only-of-type {\n",
       "        vertical-align: middle;\n",
       "    }\n",
       "\n",
       "    .dataframe tbody tr th {\n",
       "        vertical-align: top;\n",
       "    }\n",
       "\n",
       "    .dataframe thead th {\n",
       "        text-align: right;\n",
       "    }\n",
       "</style>\n",
       "<table border=\"1\" class=\"dataframe\">\n",
       "  <thead>\n",
       "    <tr style=\"text-align: right;\">\n",
       "      <th></th>\n",
       "      <th>First name</th>\n",
       "      <th>Last name</th>\n",
       "      <th>assister_id</th>\n",
       "    </tr>\n",
       "  </thead>\n",
       "  <tbody>\n",
       "    <tr>\n",
       "      <td>0</td>\n",
       "      <td>Erling</td>\n",
       "      <td>Håland</td>\n",
       "      <td>8</td>\n",
       "    </tr>\n",
       "    <tr>\n",
       "      <td>1</td>\n",
       "      <td>Mehmet</td>\n",
       "      <td>Aldoğan</td>\n",
       "      <td>5</td>\n",
       "    </tr>\n",
       "    <tr>\n",
       "      <td>2</td>\n",
       "      <td>Nahikari</td>\n",
       "      <td>García Pérez</td>\n",
       "      <td>5</td>\n",
       "    </tr>\n",
       "    <tr>\n",
       "      <td>3</td>\n",
       "      <td>Luka</td>\n",
       "      <td>Jović</td>\n",
       "      <td>5</td>\n",
       "    </tr>\n",
       "    <tr>\n",
       "      <td>4</td>\n",
       "      <td>Sergio Leonel</td>\n",
       "      <td>Agüero del Castillo</td>\n",
       "      <td>5</td>\n",
       "    </tr>\n",
       "  </tbody>\n",
       "</table>\n",
       "</div>"
      ],
      "text/plain": [
       "      First name            Last name  assister_id\n",
       "0         Erling               Håland            8\n",
       "1         Mehmet              Aldoğan            5\n",
       "2       Nahikari         García Pérez            5\n",
       "3           Luka                Jović            5\n",
       "4  Sergio Leonel  Agüero del Castillo            5"
      ]
     },
     "execution_count": 39,
     "metadata": {},
     "output_type": "execute_result"
    }
   ],
   "source": [
    "top_player(top_sa)[[\"First name\", \"Last name\", \"assister_id\"]]"
   ]
  },
  {
   "cell_type": "markdown",
   "metadata": {},
   "source": [
    "# Ádi&Lentner top5 assister in season"
   ]
  },
  {
   "cell_type": "code",
   "execution_count": 40,
   "metadata": {},
   "outputs": [],
   "source": [
    "# TOP5\n",
    "# 1.\n",
    "#kidobja azt az egy missing valuet nyom egy renamet, g_match az egy gól_df + key_df\n",
    "ip = g_match.dropna(subset=[\"assister_id\"]).rename(columns={\"assister_id\": \"player_id\"})\n",
    "#jön a groupby függvény \n",
    "topassists = get_top_n(ip, [\"player_id\", \"season_id\"], \"goal_id\", 6,)"
   ]
  },
  {
   "cell_type": "code",
   "execution_count": 41,
   "metadata": {},
   "outputs": [
    {
     "data": {
      "text/html": [
       "<div>\n",
       "<style scoped>\n",
       "    .dataframe tbody tr th:only-of-type {\n",
       "        vertical-align: middle;\n",
       "    }\n",
       "\n",
       "    .dataframe tbody tr th {\n",
       "        vertical-align: top;\n",
       "    }\n",
       "\n",
       "    .dataframe thead th {\n",
       "        text-align: right;\n",
       "    }\n",
       "</style>\n",
       "<table border=\"1\" class=\"dataframe\">\n",
       "  <thead>\n",
       "    <tr style=\"text-align: right;\">\n",
       "      <th></th>\n",
       "      <th>First name</th>\n",
       "      <th>Last name</th>\n",
       "      <th>season_id</th>\n",
       "      <th>assist count</th>\n",
       "    </tr>\n",
       "  </thead>\n",
       "  <tbody>\n",
       "    <tr>\n",
       "      <td>0</td>\n",
       "      <td>Luciano</td>\n",
       "      <td>Narsingh</td>\n",
       "      <td>5963</td>\n",
       "      <td>22</td>\n",
       "    </tr>\n",
       "    <tr>\n",
       "      <td>1</td>\n",
       "      <td>Dušan</td>\n",
       "      <td>Tadić</td>\n",
       "      <td>5087</td>\n",
       "      <td>21</td>\n",
       "    </tr>\n",
       "    <tr>\n",
       "      <td>2</td>\n",
       "      <td>Lionel Andrés</td>\n",
       "      <td>Messi Cuccittini</td>\n",
       "      <td>5334</td>\n",
       "      <td>21</td>\n",
       "    </tr>\n",
       "    <tr>\n",
       "      <td>3</td>\n",
       "      <td>Lionel Andrés</td>\n",
       "      <td>Messi Cuccittini</td>\n",
       "      <td>12401</td>\n",
       "      <td>21</td>\n",
       "    </tr>\n",
       "    <tr>\n",
       "      <td>4</td>\n",
       "      <td>Zinedine</td>\n",
       "      <td>Ferhat</td>\n",
       "      <td>14061</td>\n",
       "      <td>20</td>\n",
       "    </tr>\n",
       "    <tr>\n",
       "      <td>5</td>\n",
       "      <td>Kevin</td>\n",
       "      <td>De Bruyne</td>\n",
       "      <td>9643</td>\n",
       "      <td>20</td>\n",
       "    </tr>\n",
       "  </tbody>\n",
       "</table>\n",
       "</div>"
      ],
      "text/plain": [
       "      First name         Last name  season_id  assist count\n",
       "0        Luciano          Narsingh       5963            22\n",
       "1          Dušan             Tadić       5087            21\n",
       "2  Lionel Andrés  Messi Cuccittini       5334            21\n",
       "3  Lionel Andrés  Messi Cuccittini      12401            21\n",
       "4       Zinedine            Ferhat      14061            20\n",
       "5          Kevin         De Bruyne       9643            20"
      ]
     },
     "execution_count": 41,
     "metadata": {},
     "output_type": "execute_result"
    }
   ],
   "source": [
    "top_player(topassists).rename(columns={\"minute\": \"assist count\"})[\n",
    "    [\"First name\", \"Last name\", \"season_id\", \"assist count\"]\n",
    "]"
   ]
  },
  {
   "cell_type": "markdown",
   "metadata": {},
   "source": [
    "# Külöbségek\n",
    "Máshogy épül fel a struktúra teljesen, most így kiragadva fölöslegesen bonyolultban is tűnhet Edre kódja, viszont miután a player x match df létrejön, ahol minden oszlop más benne van, ami ilyen recordú kérdést tartalmas, onnantól jóval gyorsabb minden. Összehasonlításban most közösen veszem a kérdéseket, mivel Endre kódját fölösleges leszedni egy kérdésre.\n",
    "\n",
    "Függvény szerinti különbségek:\n",
    "Endre kódjában az alábbi függvények szerepelnek, amit Ádiék nem használnak:\n",
    "- isin: value szerinti szűrés, event DF leszűrésére alkalmazza a piros laposok miatt\n",
    "- assign: több oszlophoz hozzátenni egy meglévő dataframehez, nagyon gyakran használt parancs\n",
    "- where: van np. és simplaa formában is használva, új értéket ad dataframe cellákhoz (time meghatároznál haszált), \n",
    "- pipe: olyan függvények összekötése, amik series, dataframe vagy grouby obejtet adnak \n",
    "- pivot table: egy multiindex szintű pivot table készítése: record: Match x person\n",
    "- HTML to_frame, to_html display: csupán az árbázolást segíti\n",
    "\n",
    "Eredmények:\n",
    "- sub_goal: nevek azonosak,értékek nem\n",
    "- full_bench: nevek és értékek is azonosak\n",
    "- first_half goal: eltérő eredméy\n",
    "- score_assist: eltérő eredményel\n",
    "- top5 assist/season: Messit kivéve eltérő eredmények"
   ]
  },
  {
   "cell_type": "markdown",
   "metadata": {},
   "source": [
    "# Tizenharmadik feladat\n",
    "A csapat megoldása -"
   ]
  },
  {
   "cell_type": "code",
   "execution_count": null,
   "metadata": {},
   "outputs": [],
   "source": [
    "#Az feladatban megismert missed df-et csapatok mentén csoportosítjuk \n",
    "\n",
    "#Jupyter-kód\n",
    "#a team(hazai) szerint csoportosított df sorait oszloponként megszámoljuk, csökkenő sorrendbe rakja \n",
    "#és az első 5-öt veszi\n",
    "missed.groupby(\"team\").count().sort_values(by=[\"side\"], ascending=False).iloc[0:5]"
   ]
  },
  {
   "cell_type": "markdown",
   "metadata": {},
   "source": [
    "Endre megoldása -"
   ]
  },
  {
   "cell_type": "code",
   "execution_count": null,
   "metadata": {},
   "outputs": [],
   "source": [
    "#Jupyter-kód\n",
    "#a team_x_match nagy df-jét csoportosítja csapatonként, a penalty-miss oszlop értékeit szummázza és veszi a top5-öt\n",
    "team_x_match.groupby(\"team_id\")[\"penalty-miss\"].sum().nlargest(5)"
   ]
  },
  {
   "cell_type": "raw",
   "metadata": {},
   "source": [
    "Különbség a tizenharmadik feladatban:\n",
    "Az Endre a megoldásában kulcs szinten általánosított függvénnyel oldotta meg a feladatot, amihez használta a:\n",
    "-pipe\n",
    "-pivot_table\n",
    "-assign\n",
    "-replace\n",
    "-np.where\n",
    "-sum\n",
    "illetve a reset_index több formáját függvényként.\n",
    "A Jupyter-kódban Endre az nlargest-tel választja ki a top5-öt, míg a srácok iloc-kal."
   ]
  },
  {
   "cell_type": "markdown",
   "metadata": {},
   "source": [
    "# Tizennegyedik feladat\n",
    "A csapat megoldása -"
   ]
  },
  {
   "cell_type": "code",
   "execution_count": null,
   "metadata": {},
   "outputs": [],
   "source": [
    "#Jupyter-kód\n",
    "#a missed df-ben csoportosítás után kikeresik a top5 missed soroknak a team_a oszlopértékeit\n",
    "missed.groupby(\"team_a\").count().sort_values(by=[\"side\"], ascending=False).iloc[0:5]"
   ]
  },
  {
   "cell_type": "markdown",
   "metadata": {},
   "source": [
    "Endre megoldása -"
   ]
  },
  {
   "cell_type": "code",
   "execution_count": null,
   "metadata": {},
   "outputs": [],
   "source": [
    "#Jupyter-kód\n",
    "#ugyanúgy oldja, meg mint az előzőt, csak itt a team_x_match fv-vel létrehozott opposition oszlop szerint csoportosít\n",
    "team_x_match.groupby(\"opposition\")[\"penalty-miss\"].sum().nlargest(5)"
   ]
  },
  {
   "cell_type": "raw",
   "metadata": {},
   "source": [
    "Különbség a tizennegyedik feladatban:\n",
    "Az Endre a megoldásában kulcs szinten általánosított függvénnyel oldotta meg a feladatot, amihez használta a:\n",
    "-pipe\n",
    "-pivot_table\n",
    "-assign\n",
    "-replace\n",
    "-np.where\n",
    "-sum\n",
    "illetve a reset_index több formáját függvényként.\n",
    "A Jupyter-kódban Endre az nlargest-tel választja ki a top5-öt, míg a srácok iloc-kal."
   ]
  },
  {
   "cell_type": "code",
   "execution_count": null,
   "metadata": {},
   "outputs": [],
   "source": []
  },
  {
   "cell_type": "markdown",
   "metadata": {},
   "source": [
    "# Tanulságok"
   ]
  },
  {
   "cell_type": "markdown",
   "metadata": {},
   "source": [
    "Egyik egyértelmű felismerés, hogy a tervezési szakaszt még alaposabban és a bemutatott kulcsok, rekordok alapján kell megcsinálni, majd a kérdéseket eszerint csoportosítani"
   ]
  },
  {
   "cell_type": "markdown",
   "metadata": {},
   "source": [
    "Endre megoldásra arra is rámutat, hogy megfelelő háttértudással (típusok skálázódásai , stb.) lehet nagy DataFrame-ket építeni, amik gyorsak maradnak"
   ]
  },
  {
   "cell_type": "markdown",
   "metadata": {},
   "source": [
    "A kulcsok mentén lehet általánosítani a kérdéseket és ezen aggregálási szinteken írni általános függvényeket, amiket minden kérdés tud használni"
   ]
  },
  {
   "cell_type": "markdown",
   "metadata": {},
   "source": [
    "Classba rendezve és instance-ket használva könnyebb importálni a függvényeket egy notebookba"
   ]
  },
  {
   "cell_type": "markdown",
   "metadata": {},
   "source": [
    "Memória hatékonyabb egy nagy jól megépített DF, mint sok kérdésenként létrehozott specifikus adattábla"
   ]
  },
  {
   "cell_type": "markdown",
   "metadata": {},
   "source": [
    "Assign, pipe: ezekkel a fügvényekkel nagyon le lehet rövidíteni a kapcsolásokat/szűréseket,"
   ]
  },
  {
   "cell_type": "markdown",
   "metadata": {},
   "source": [
    "Konkrét kérdéseknél rossz értelmezésünk volt (top5 season assiter) ezeket ki kell javítani"
   ]
  },
  {
   "cell_type": "markdown",
   "metadata": {},
   "source": [
    "A classok használatára érdemes rávenni magunkat, mivel nagynak tűnik a betanulási fix költség, de hasznos lehet később."
   ]
  },
  {
   "cell_type": "markdown",
   "metadata": {},
   "source": [
    "A csapaton belüli feladatmegosztásra jobban kell figyelni ilyen általánosított feladatoknál, hogy ne dolgozzunk párhuzamosan ugyanazon."
   ]
  },
  {
   "cell_type": "markdown",
   "metadata": {},
   "source": [
    "A record - columns - key táblázatot a kérdésekre több sziten meg lehet csinálni. Érdemes nem az utolsó lépésnél ezt elvégezi, hanem a folyamat szempontjából előbb, így növelve az aggregálható kérdések számát."
   ]
  }
 ],
 "metadata": {
  "kernelspec": {
   "display_name": "Python 3",
   "language": "python",
   "name": "python3"
  },
  "language_info": {
   "codemirror_mode": {
    "name": "ipython",
    "version": 3
   },
   "file_extension": ".py",
   "mimetype": "text/x-python",
   "name": "python",
   "nbconvert_exporter": "python",
   "pygments_lexer": "ipython3",
   "version": "3.7.1"
  }
 },
 "nbformat": 4,
 "nbformat_minor": 2
}
