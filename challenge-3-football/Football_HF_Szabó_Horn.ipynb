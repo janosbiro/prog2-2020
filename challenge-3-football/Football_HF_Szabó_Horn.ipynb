{
 "cells": [
  {
   "cell_type": "markdown",
   "metadata": {},
   "source": [
    "# Összehasonlítani az egyi másik megoldással az enyémet, és kigyűjteni hogy milyen pandas és numpy függvényeket használok én amit az adott csapat nem, vagy milyen függvényeket használok másképp. - AUGUSZTIN BIRO\n",
    "\n",
    "\n",
    " - DataFrame.duplicated() - nem használják\n",
    " - DataFrame.pipe() - nem használják\n",
    " - DataFrame.dropna() - így használják, viszont subset-el nem\n",
    " - DataFrame.replace() - nem használják\n",
    " - Series.map() - nem használják\n",
    " - DataFrame.loc() - használják, de csak subset nélkül nélkül (pl. nincs loc[:])\n",
    " - DataFrame.assign() - nem használják\n",
    " - pd.DataFrame() - használják, de üres dataframe-et nem hoznak létre\n",
    " - pd.read_hdf() - nem használják\n",
    " - DataFrame.reindex() - nem használják\n",
    " - DataFrame.values() - nem használják\n",
    " - DataFrame.fillna() - nem használják\n",
    " - DataFrame.replace() - nem használják\n",
    " - np.where() - nem használják\n",
    " - DataFrame.agg() - nem használják\n",
    " - pd.pivot_table() - nem használják\n",
    " - DataFrame.sum() - nem használják\n",
    " - DataFrame.astype() - használják, de bool-al nem\n",
    " - DataFrame.isna() - nem használják\n",
    " - np.inf() - nem használják\n",
    " - DataFrame.drop_duplicates() - használják, de “keep” és “by” paraméter nélkül\n",
    " - pd.Index.get_level_values() - nem használják\n",
    " - Series.str.extract() - nem használják\n",
    " - Series.str.split() - nem használják\n",
    " - .pivot_table() - nem használják\n",
    "\n",
    "# Egy tanulságokat összeszedő vázlatot írni arról, mi az amit másképp csinálnátok annak tükrében hogy mostmár láttatok 2 másik megoldást is. ezek bullet pointok, érinthetnek konkrét technikai megvalósításokat, a tervezés részeit, algoritmustervezési issue-kat, bármit ami releváns. csapatonként legalább 10 pont legyen (igazából ha alaposak és faszák lehet felőlem kevesebb is, csak legyen benne ténlyeges tartalom)\n",
    "\n",
    "1. Egy általános terv készítése, hogy hogyan érdemes elvégezni a feladatot. Ez szerintem eléggé hiányzott nálunk az elején ezért feladat értelmezési dolgokkal pl sok idő elment és sok felesleges munka volt vele. \n",
    "2. A kérdéseket felosztani az alapján, hogy melyikekhez kellenek ugyanazok a key-ek, így azonos df-eket lehet használni és a megoldásukhoz egy függvényt lehet írni.\n",
    "3. Groupby + agg kombót úgy használni, hogy minden column-ra más mutatót számolunk (pl. Mean + sum). Ez sok helyen sokat javított volna. \n",
    "4. Df column listákat készíteni és később ez alapján szűrni\n",
    "5. Assign function használata. A base megoldásban sokszor elég hasznosnak tűnik. Egyszerű és gyors vele új oszlopokat létrehozni.\n",
    "6. Class használata. Ez a válasz alapján az érthetőség miatt lehet hasznos. Lehet kicsit utolsó lépés lenne, ha már más gond nincs, de classokról amúgy szívesen tanulnék is ha belefér a kurzusba. \n",
    "7. Lambda használata, amivel gyorsabban és helytakarékosan tudunk akár függvényen belül is adattal dolgozni\n",
    "8. A függvényeken belül jóval kevesebb lokális változót kéne használni.\n",
    "9. Érdemes lett volna használni a .pipe függvényt, amivel össze lehet kapcsolni függvényeket. \n",
    "10. Method chaining használata hatékonyság és átláthatóság miatt. \n",
    "\n",
    "\n",
    "# Egy az órán tárgyalt térkép felrajzolása a mintamegoldás alapján a kérdésekről\n",
    "\n",
    "![alt text](Szabó_Horn_HF.png \"Title\")\n"
   ]
  },
  {
   "cell_type": "code",
   "execution_count": null,
   "metadata": {},
   "outputs": [],
   "source": []
  }
 ],
 "metadata": {
  "kernelspec": {
   "display_name": "Python 3",
   "language": "python",
   "name": "python3"
  },
  "language_info": {
   "codemirror_mode": {
    "name": "ipython",
    "version": 3
   },
   "file_extension": ".py",
   "mimetype": "text/x-python",
   "name": "python",
   "nbconvert_exporter": "python",
   "pygments_lexer": "ipython3",
   "version": "3.7.4"
  }
 },
 "nbformat": 4,
 "nbformat_minor": 2
}
