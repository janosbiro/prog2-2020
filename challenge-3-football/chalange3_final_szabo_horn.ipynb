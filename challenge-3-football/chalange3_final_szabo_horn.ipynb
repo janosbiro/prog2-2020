{
 "cells": [
  {
   "cell_type": "code",
   "execution_count": 1,
   "metadata": {},
   "outputs": [],
   "source": [
    "import pandas as pd\n",
    "import numpy as np\n",
    "import solutions"
   ]
  },
  {
   "cell_type": "code",
   "execution_count": 2,
   "metadata": {},
   "outputs": [],
   "source": [
    "region_df = pd.read_pickle(\"region_df.pkl\")\n",
    "competition_df = pd.read_pickle(\"competition_df.pkl\")\n",
    "season_df = pd.read_pickle(\"season_df.pkl\")\n",
    "round_df = pd.read_pickle(\"round_df.pkl\")\n",
    "match_df = pd.read_pickle(\"match_df.pkl\")\n",
    "goal_df = pd.read_pickle(\"goal_df.pkl\")\n",
    "match_info_df = pd.read_pickle(\"match_info_df.pkl\")\n",
    "lineup_df = pd.read_pickle(\"lineup_df.pkl\")\n",
    "coach_df = pd.read_pickle(\"coach_df.pkl\")\n",
    "sidelined_df = pd.read_pickle(\"sidelined_df.pkl\")\n",
    "sub_df = pd.read_pickle(\"sub_df.pkl\")\n",
    "event_df = pd.read_pickle(\"event_df.pkl\")\n",
    "player_df  = pd.read_pickle(\"player_df.pkl\")"
   ]
  },
  {
   "cell_type": "code",
   "execution_count": 3,
   "metadata": {},
   "outputs": [
    {
     "name": "stdout",
     "output_type": "stream",
     "text": [
      "(17, 507, 36219, 8, 4130, 148)\n",
      "(season_name  assister_id\n",
      "1965/1966    15447          1\n",
      "             24705          1\n",
      "             2783           1\n",
      "             2819           1\n",
      "             38514          1\n",
      "                           ..\n",
      "2020 Tokyo   402329         5\n",
      "             76123          4\n",
      "             105242         3\n",
      "             434888         3\n",
      "             463598         3\n",
      "Name: assister_num, Length: 402, dtype: int64,            sub_id\n",
      "scorer_id        \n",
      "13690          39\n",
      "119            38\n",
      "103171         36\n",
      "1595           33\n",
      "53937          31, 1310     363\n",
      "18585    316\n",
      "4336     310\n",
      "97650    302\n",
      "17587    300\n",
      "Name: sub_id, dtype: int64)\n"
     ]
    },
    {
     "name": "stderr",
     "output_type": "stream",
     "text": [
      "C:\\Users\\T440s\\Anaconda3\\lib\\site-packages\\pandas\\core\\reshape\\merge.py:1108: UserWarning: You are merging on int and float columns where the float values are not equal to their int representation\n",
      "  UserWarning,\n"
     ]
    },
    {
     "name": "stdout",
     "output_type": "stream",
     "text": [
      "        score  round_id  home_team  away_team  match_id    match_start_time  \\\n",
      "0       0 - 0      1697        659       1094    251079 1998-01-31 23:00:00   \n",
      "1       1 - 3      1697       1099       2210    251085 1998-01-31 23:00:00   \n",
      "2       3 - 0      1697       2281        515    251088 1998-01-31 23:00:00   \n",
      "3       0 - 0      1697        349       1319    251080 1998-02-02 23:00:00   \n",
      "4       4 - 2      1697       1497       2210    251086 1998-02-03 23:00:00   \n",
      "...       ...       ...        ...        ...       ...                 ...   \n",
      "150572  1 - 0     57134       4113       4131   3223605 2020-03-10 14:00:00   \n",
      "150573  1 - 2     57134       5781       4125   3223604 2020-03-10 19:30:00   \n",
      "150574  6 - 0     52070      19733      19774   3232629 2020-03-10 19:45:00   \n",
      "150575  0 - 1     51986       4107       4128   3208142 2020-03-11 21:15:00   \n",
      "150576  3 - 1     51986       5977       5973   3208143 2020-03-12 00:00:00   \n",
      "\n",
      "        home_played_count  away_played_count  \n",
      "0                     1.0                1.0  \n",
      "1                     1.0                1.0  \n",
      "2                     1.0                1.0  \n",
      "3                     1.0                2.0  \n",
      "4                     1.0                0.0  \n",
      "...                   ...                ...  \n",
      "150572                1.0                1.0  \n",
      "150573                0.0                0.0  \n",
      "150574                1.0                1.0  \n",
      "150575                1.0                0.0  \n",
      "150576                0.0                0.0  \n",
      "\n",
      "[150577 rows x 8 columns]\n",
      "Wall time: 2min 50s\n"
     ]
    }
   ],
   "source": [
    "%%time\n",
    "## 2.1  individual answers - one number\n",
    "sol = solutions.solutions1(\n",
    "    region_df,\n",
    "    competition_df,\n",
    "    season_df,\n",
    "    round_df,\n",
    "    match_df,\n",
    "    goal_df,\n",
    "    match_info_df,\n",
    "    lineup_df,\n",
    "    coach_df,\n",
    "    sidelined_df,\n",
    "    sub_df,\n",
    "    event_df,\n",
    "    player_df,\n",
    ")\n",
    "print(sol)\n",
    "print(\"-----------------------------------\")\n",
    "## 2.1  individual answers - top5 first 3\n",
    "sol2 = solutions.solutions2(\n",
    "    region_df,\n",
    "    competition_df,\n",
    "    season_df,\n",
    "    round_df,\n",
    "    match_df,\n",
    "    goal_df,\n",
    "    match_info_df,\n",
    "    lineup_df,\n",
    "    coach_df,\n",
    "    sidelined_df,\n",
    "    sub_df,\n",
    "    event_df,\n",
    "    player_df,\n",
    ")\n",
    "print(sol2)\n",
    "print(\"-----------------------------------\")\n",
    "## 2.2  features - each team - only first point\n",
    "sol3 = solutions.solution3(match_df)\n",
    "print(sol3)"
   ]
  }
 ],
 "metadata": {
  "kernelspec": {
   "display_name": "Python 3",
   "language": "python",
   "name": "python3"
  },
  "language_info": {
   "codemirror_mode": {
    "name": "ipython",
    "version": 3
   },
   "file_extension": ".py",
   "mimetype": "text/x-python",
   "name": "python",
   "nbconvert_exporter": "python",
   "pygments_lexer": "ipython3",
   "version": "3.7.4"
  },
  "toc": {
   "base_numbering": 1,
   "nav_menu": {},
   "number_sections": true,
   "sideBar": true,
   "skip_h1_title": false,
   "title_cell": "Table of Contents",
   "title_sidebar": "Contents",
   "toc_cell": false,
   "toc_position": {},
   "toc_section_display": true,
   "toc_window_display": false
  }
 },
 "nbformat": 4,
 "nbformat_minor": 4
}
