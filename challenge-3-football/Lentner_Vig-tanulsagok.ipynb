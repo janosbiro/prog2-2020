{
 "cells": [
  {
   "cell_type": "markdown",
   "metadata": {},
   "source": [
    "# függvények"
   ]
  },
  {
   "cell_type": "markdown",
   "metadata": {},
   "source": [
    "extract – pandas\n",
    "https://pandas.pydata.org/pandas-docs/stable/reference/api/pandas.Series.str.extract.html\n",
    "series string elemmeit bontja dataframe oszlopokba, a megadott paraméterek alapján\n",
    "\n",
    "map – builtin\n",
    "https://www.geeksforgeeks.org/python-map-function/\n",
    "két paramétere van, egy iterálható objektum minden elemén alkalmaz egy fgv-t\n",
    "\n",
    "pipe – pandas\n",
    "https://pandas.pydata.org/pandas-docs/stable/reference/api/pandas.DataFrame.pipe.html\n",
    "map-hez hasonló pandas fgv\n",
    "\n",
    "where – numpy\n",
    "https://docs.scipy.org/doc/numpy/reference/generated/numpy.where.html\n",
    "egy feltétel függvényében változtat egy numpy array elemein\n",
    "\n",
    "sort_values – pandas\n",
    "https://pandas.pydata.org/pandas-docs/stable/reference/api/pandas.DataFrame.sort_values.html\n",
    "Értékek alapján rendez növekvőbe/csökkenőbe egy adattábla sorokat\n",
    "\n",
    "assing – pandas\n",
    "https://pandas.pydata.org/pandas-docs/stable/reference/api/pandas.DataFrame.assign.html\n",
    "új oszlopot ad egy df-hez\n",
    "\n",
    "agg\n",
    "https://pandas.pydata.org/pandas-docs/stable/reference/api/pandas.DataFrame.agg.html\n",
    "DF oszlopaira alkalmaz bizonyos függvényeket (sum, min, max)\n",
    "\n",
    "pivot_table\n",
    "https://pandas.pydata.org/pandas-docs/stable/reference/api/pandas.pivot_table.html\n",
    "spreadsheet szerű pivottáblát készít egy dataframeből\n",
    "\n",
    "rolling- pandas \n",
    "https://pandas.pydata.org/pandas-docs/stable/reference/api/pandas.DataFrame.rolling.html\n",
    "Futóindexben végigmegy és elvégez egy műveletet\n",
    "visszatérési értéke: df, series\n",
    "\n",
    "set_index- pandas\n",
    "https://pandas.pydata.org/pandas-docs/stable/reference/api/pandas.DataFrame.set_index.html\n",
    "beállítja a Df indexét, lehet több oszlop is\n",
    "visszatérési értéke: df, series\n",
    "\n",
    "sort_index- pandas\n",
    "https://pandas.pydata.org/pandas-docs/stable/reference/api/pandas.DataFrame.sort_index.html\n",
    "berendezi a df-et, index szerinti sorrendben\n",
    "visszatérési értéke: df, series\n",
    "\n",
    "cumsum- pandas\n",
    "https://pandas.pydata.org/pandas-docs/stable/reference/api/pandas.DataFrame.cumsum.html\n",
    "összeadja az elemeket egymás után, és mindig az addigi összeget írja be , tehát minden sorban, az előzőek\n",
    "és annak az összege fog szerepelni\n",
    "visszatérési érték: df, series\n",
    "    \n",
    "join- pandas\n",
    "https://pandas.pydata.org/pandas-docs/stable/reference/api/pandas.DataFrame.join.html\n",
    "összekapcsol 2 df-t , valamilyen oszlop alapján, itt is lehet inner, left stb,\n",
    "visszatérési érték: df\n",
    "    \n",
    "diff- pandas\n",
    "https://pandas.pydata.org/pandas-docs/stable/reference/api/pandas.DataFrame.diff.html\n",
    "kivonja egy elemét a df-nek egy másikból, alapból a korábbi egy oszlopon belül ,\n",
    "de lehet állítani távolságot és sort- is\n",
    "visszatérési érték: df, series\n",
    "\n",
    "expanding- pandas\n",
    "https://pandas.pydata.org/pandas-docs/stable/reference/api/pandas.DataFrame.expanding.html\n",
    "vesz egy mindig egyre nagyobb ablakot és azon értékeken csinál valamilyen transzformációt\n",
    "visszatérési érték: df, series\n",
    "    \n",
    "to_frame- pandas\n",
    "https://pandas.pydata.org/pandas-docs/stable/reference/api/pandas.Series.to_frame.html\n",
    "egy seriesből df-et csinál\n",
    "visszatérési érték: df"
   ]
  },
  {
   "cell_type": "markdown",
   "metadata": {},
   "source": [
    "# tanulságok"
   ]
  },
  {
   "cell_type": "markdown",
   "metadata": {},
   "source": [
    "- nem csináltunk adattisztítást és enélkül valószínűleg lett pár rossz válaszunk\n",
    "- az adat tisztítás mellett létre kellett volna hozni egy olyan notebook-ot is, amiben megvizsgáljuk sokkal részletesebben az adatokat, elvégezzük mondjuk a szükséges parse-olásokat, hasonlókat\n",
    "- olyan táblázatok létrehozása, melyből több kérdést is meg tudunk válaszolni, ehhez a kérdések szisztematikus csoportosítására lett volna szükség. Volt, hogy csoportosítottunk és 2-3 kérdést meg tudtunk válaszolni egy táblából, de ezt strukturáltabban tervezettebben kellett volna azon kategóriák mentén hogy milyen szintű információra lesz szükség a megoldáshoz.\n",
    "- kevés olyan függvényt találtunk meg, amik sokat segítettek volna a teljesítményen vagy szűrésen (agg, np.where) ezek keresésébe lehetett volna türelmet rakni\n",
    "- pl a team_x_matchet kezdetleges formákban mi is létrehoztuk (np.where nélkül kicsit több sorral), de nagyon sok minden hiányzott ahhoz, hogy ennyi információval rendelkező táblát hozzunk létre (pl az egész player_x_match df, amit sajnos nem gondoltunk végig, hogy hogyan kéne létrehozni).\n",
    "- nekünk problémát jelentett az, hogy a .py fájlba hogyan rakjuk be a dolgokat, mivel nem tudtuk annyira kiáltalánosítani a feladatokat, hogy függvényekkel operáljunk végig. Ezért az adatot dumpoltuk, majd lényegében a .py fájlban behívtuk, elvégeztünk rajt egy csomó változtatást meg kiszámoltunk sok rész (és van hogy egész) megoldást, majd csak ezeket hívtuk be a notebookba. Egyáltalán nem elegáns megoldás, viszont amennyi dolgot meg tudtunk oldani, azokkal tökéletesen működött. :O\n",
    "- miután eljutottunk a szükséges adattáblához, sokszor előbb végeztük el a műveleteket és utólagosan a szűrést, ami nagyon nem spórol az idővel, mivel rengeteg dolgot fölöslegesen számoltunk , valamint mivel nem voltak eléggé átgondolva a feladatok mikor nekiugrottunk a megoldásoknak, ezért csak fölösleges df-eket hoztunk létre vagy redundánsan dolgoztuk\n",
    "- valószínűleg nem voltunk eléggé tisztában azzal, hogy mit akarunk pontosan csinálni, és ezeket a dolgokat hogy hívják, mert biztosan elvégezték már előttünk rengetegen ezeket a feladatokat, mégsem találtuk meg azokat a stackoverflow cuccokat , amikre szükségünk lett volna "
   ]
  },
  {
   "cell_type": "code",
   "execution_count": null,
   "metadata": {},
   "outputs": [],
   "source": []
  }
 ],
 "metadata": {
  "kernelspec": {
   "display_name": "Python 3",
   "language": "python",
   "name": "python3"
  },
  "language_info": {
   "codemirror_mode": {
    "name": "ipython",
    "version": 3
   },
   "file_extension": ".py",
   "mimetype": "text/x-python",
   "name": "python",
   "nbconvert_exporter": "python",
   "pygments_lexer": "ipython3",
   "version": "3.7.4"
  }
 },
 "nbformat": 4,
 "nbformat_minor": 2
}
