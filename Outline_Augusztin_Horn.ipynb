{
 "cells": [
  {
   "cell_type": "markdown",
   "metadata": {},
   "source": [
    "### Spurious and not so spurious correlations"
   ]
  },
  {
   "cell_type": "markdown",
   "metadata": {},
   "source": [
    "**Ötlet**: Olyan korrelációkat keresnénk és ábrázolnánk, amik szokatlanok vagy csak teljesen véletlenek. Pl. NFL meccsek alatt szoktak mindenféle random infókkal dobálózni, amik sokszor elég szórakoztatóak és érdekesek. Mint mindent megváltó business ötletet ezt úgy képzelnénk el, hogy a [honlapon](https://www.whoscored.com/) egy külön fül alatt lehetne rákeresni ezekre az infókra. Részben [ez](https://www.tylervigen.com/spurious-correlations) a honlap adta az ötlet, de ennél jobban megmagyarázható jelenségeket is szeretnénk találni. Az aloldalon az lenne a cél, hogy különböző scattereket lehessen kirajzolni, attól függően, hogy éppen milyen randomságot szeretne valaki megnézni. \n",
    "\n",
    "Eladható?\n",
    "Mivel mindketten noob-ok vagyunk a fociban ezért hitelesen tudjuk azt állítani, hogy ez olyan embereket is érdekelhet (esetleg behúzhat a honlapra) akik hozzánk hasonlóan csak a VB-t nézik. \n",
    "\n",
    "\n",
    "Itt vannak az eddigi ötleteink:\n",
    "\n",
    "\n",
    "| Adatok szintje | Változó | Ötlet (példa) |\n",
    "| --- | --- | --- |\n",
    "| Meccs | Időjárás | Pontok száma - Rossz időben kevesebb a gól |\n",
    "| Meccs | Évszak | Gólok száma |\n",
    "| Meccs | Nézők száma | Hazai győzelem esélye |\n",
    "| Meccs | Időpont és nézőszám | Eloszlás ábrázolása |\n",
    "| Meccs | Időjárás és nézőszám | Eloszlás ábrázolása |\n",
    "| Meccs | Hosszabbítás és gólszám | Eloszlás ábrázolása |\n",
    "| Játékos | Testtömeg index (súly, magasságból kalkulálva) | Hogyan hat a teljesítményre |\n",
    "| Játékos | Testtömeg index vs. gólszám vs. időjárás | színezett 2D scatter |\n",
    "| Játékos | Mezszám | Általános teljesítmény |\n",
    "| Játékos | Keresztnév | Általános teljesítmény |\n",
    "| Játékos | Keresztnév | Testtömeg index |\n",
    "| Csapat | Csapatnév | Hosszabb nevű csapatok vs. nyereségek száma |\n",
    "|Meccs|Bíró|Mi az eloszlása a gólátlagnak bíróként (Felvetés: ha random lenne az h mennyi bírónál hány gól van, akkor itt normális kellene kapnunk)|\n",
    "|Meccs|Bíró|Mi az eloszlása a hosszabbításoknak bírónként (Felvetés: ha random lenne az h mennyi bírónál hány gól van, akkor itt normális kellene kapnunk)|\n",
    "|Meccs|Bíró|Piros/sárga lapok eloszlása|\n",
    "|Meccs|Stadion|gólok számának eloszlása|\n",
    "|Játékos | Top játékosok Player rating | Nemzetiség - Biased a rating?\n",
    "|Játékos | Player rating|Testtömeg index - Biased a rating jobbana értékelt játékosok nagyobbak?\n"
   ]
  }
 ],
 "metadata": {
  "kernelspec": {
   "display_name": "Python 3",
   "language": "python",
   "name": "python3"
  },
  "language_info": {
   "codemirror_mode": {
    "name": "ipython",
    "version": 3
   },
   "file_extension": ".py",
   "mimetype": "text/x-python",
   "name": "python",
   "nbconvert_exporter": "python",
   "pygments_lexer": "ipython3",
   "version": "3.7.4"
  },
  "toc": {
   "base_numbering": 1,
   "nav_menu": {},
   "number_sections": true,
   "sideBar": true,
   "skip_h1_title": false,
   "title_cell": "Table of Contents",
   "title_sidebar": "Contents",
   "toc_cell": false,
   "toc_position": {},
   "toc_section_display": true,
   "toc_window_display": false
  }
 },
 "nbformat": 4,
 "nbformat_minor": 4
}
