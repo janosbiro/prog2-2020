{
 "cells": [
  {
   "cell_type": "markdown",
   "metadata": {},
   "source": [
    "1. ötlet: Bűncselekmény adatok\n",
    "\n",
    "Adat forrás: https://bsr.bm.hu/Document\n",
    "\n",
    "Adat struktúrája:Historikus adat 2013-ig visszamenőleg, frissülés félévente.\n",
    "                 Több tábla lenne, a különböző bűncselekményi kategóriák szerint\n",
    "                 Van megyénkénti bontása az adatnak, amit lehetne ábrázolni térképen.\n",
    "                 Kifejezetten kicsi az adat mennyisége, így az adatok leszedése nem lenne bonyolult.\n",
    "\n",
    "Adat frissítés: Úgy néz ki félévente frissül, de nem egyértelmű. Új csv file kerül fel, szóval csak le kell szedni és frissíteni a dashboard-ot. Az adatok frissítése és a kezdeti adat megszerzése között nem látni különbséget.\n",
    "\n",
    "User interakció: Egy térképen lehetne megye szintű bontásban ábrázolni az egyes bűncselekményeket. Ki lehetne választani hogy melyik bűncselekményt akarja valaki megnézni és korcsoport szerint is lehetne szűrni.\n",
    "Külső tudást nem kell ehhez használni. \n",
    "\n",
    "\n",
    "\n",
    "\n",
    "\n"
   ]
  },
  {
   "cell_type": "markdown",
   "metadata": {},
   "source": [
    "-----------------------------------------"
   ]
  },
  {
   "cell_type": "markdown",
   "metadata": {},
   "source": [
    "szociális - közgazdaságtani adatokat tartalmazó Figaro-táblák.\n",
    "Adat forrása: https://ec.europa.eu/eurostat/web/experimental-statistics/figaro\n",
    "Az adat Európa szinten tartalmaz országos makróökonómiai és termelési adatokat, illetve kapcsolódó elosztási és szociális mutatókat is. (fogyasztási, árazási, fogyasztóviselkedését leíró statisztikák is)\n",
    "\n",
    "Adat frissítés: Csv fájlban felkerül az új adat\n",
    "\n",
    "User interakció: A felhasználó különböző idősoros vagy keresztmetszeti adatokat kereshet, esetleg térben való egyensúlytalanságok/eltérések bemutatásával. (...)"
   ]
  },
  {
   "cell_type": "markdown",
   "metadata": {},
   "source": [
    "-----------------------------------------"
   ]
  },
  {
   "cell_type": "markdown",
   "metadata": {},
   "source": [
    "Különböző vezető tudományos oldalak cikkeinek összegyűjtése és elemzése.\n",
    "- Brookings (https://www.brookings.edu/)\n",
    "- PIIE (https://www.piie.com/)\n",
    "- EER (https://www.journals.elsevier.com/european-economic-review)\n",
    "- Vox (https://voxeu.org/)\n",
    "- CER (https://www.cer.eu/)\n",
    "Egyfajta csokor összeállítása hetente a főcímekből, vagy ezek további elemzése."
   ]
  },
  {
   "cell_type": "raw",
   "metadata": {},
   "source": [
    "-----------------------------------------"
   ]
  },
  {
   "cell_type": "markdown",
   "metadata": {},
   "source": [
    "A különböző online fogadóirodák oddsainak összehasonlítása. \n",
    "Ezek alapján valamilyen előrejelzés készítése, esetleges félreárazásból következődő arbitrázs felfedezése (mindhárom kimenetel 3x+ különböző irodáknál)\n",
    "Az oddsokból esetleg időszakok/sportágak általános jellemzése."
   ]
  },
  {
   "cell_type": "raw",
   "metadata": {},
   "source": [
    "-----------------------------------------"
   ]
  },
  {
   "cell_type": "markdown",
   "metadata": {},
   "source": [
    "Rajkos alapfeladatokat automatizálni: \n",
    "- jeszkteló egy sheetben, és minden push után készít egy importálható fájlt a nevekből "
   ]
  }
 ],
 "metadata": {
  "kernelspec": {
   "display_name": "Python 3",
   "language": "python",
   "name": "python3"
  },
  "language_info": {
   "codemirror_mode": {
    "name": "ipython",
    "version": 3
   },
   "file_extension": ".py",
   "mimetype": "text/x-python",
   "name": "python",
   "nbconvert_exporter": "python",
   "pygments_lexer": "ipython3",
   "version": "3.7.1"
  }
 },
 "nbformat": 4,
 "nbformat_minor": 2
}
