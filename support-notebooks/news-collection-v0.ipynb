{
 "cells": [
  {
   "cell_type": "code",
   "execution_count": null,
   "metadata": {},
   "outputs": [],
   "source": [
    "!pip install gspread oauth2client  beautifulsoup4 requests"
   ]
  },
  {
   "cell_type": "code",
   "execution_count": 2,
   "metadata": {},
   "outputs": [],
   "source": [
    "import datetime\n",
    "import json\n",
    "import string\n",
    "import requests\n",
    "from bs4 import BeautifulSoup\n",
    "\n",
    "import gspread\n",
    "from oauth2client.service_account import ServiceAccountCredentials"
   ]
  },
  {
   "cell_type": "code",
   "execution_count": 3,
   "metadata": {},
   "outputs": [
    {
     "data": {
      "text/plain": [
       "{'spreadsheetId': '1ti4e4rHKi_6WV4pYccY1YvX0t17dgyXwSBdoiZH2i8M',\n",
       " 'updatedRange': 'Sheet1!A2:E21',\n",
       " 'updatedRows': 20,\n",
       " 'updatedColumns': 5,\n",
       " 'updatedCells': 100}"
      ]
     },
     "execution_count": 3,
     "metadata": {},
     "output_type": "execute_result"
    }
   ],
   "source": [
    "def get_nemzet_headers(soup):\n",
    "    return soup.find_all(\"div\", class_=\"enews-article-offerer-title\")\n",
    "\n",
    "\n",
    "def get_index_headers(soup):\n",
    "    return soup.find_all(\"h1\")\n",
    "\n",
    "\n",
    "MAX_TITLES = 10\n",
    "\n",
    "sites = [\n",
    "    (\"https://index.hu/\", get_index_headers),\n",
    "    (\"https://magyarnemzet.hu/\", get_nemzet_headers),\n",
    "]\n",
    "\n",
    "out = []\n",
    "for site_url, site_header_getter in sites:\n",
    "\n",
    "    resp = requests.get(site_url)\n",
    "    soup = BeautifulSoup(resp.content)\n",
    "    current_time = datetime.datetime.now().isoformat()\n",
    "    for i, header in enumerate(site_header_getter(soup)[:MAX_TITLES]):\n",
    "        a_tag = header.find(\"a\")\n",
    "        if a_tag is None:\n",
    "            a_tag = header.find_parent(\"a\")\n",
    "\n",
    "        if a_tag:\n",
    "            link = a_tag[\"href\"]\n",
    "        else:\n",
    "            link = None\n",
    "        out.append(\n",
    "            {\n",
    "                \"title\": header.text.strip(),\n",
    "                \"link\": link,\n",
    "                \"time\": current_time,\n",
    "                \"site\": site_url,\n",
    "                \"ind\": i + 1,\n",
    "            }\n",
    "        )\n",
    "\n",
    "spread_id = \"1ti4e4rHKi_6WV4pYccY1YvX0t17dgyXwSBdoiZH2i8M\"\n",
    "\n",
    "d = json.load(open(\"creds.json\"))\n",
    "\n",
    "scope = [\"https://spreadsheets.google.com/feeds\"]\n",
    "credentials = ServiceAccountCredentials.from_json_keyfile_dict(d, scope)\n",
    "\n",
    "gc = gspread.authorize(credentials)\n",
    "\n",
    "sheet = gc.open_by_key(spread_id).sheet1\n",
    "\n",
    "record = out[0]\n",
    "\n",
    "col_headers = list(record.keys())\n",
    "\n",
    "end_letter = string.ascii_uppercase[len(col_headers) - 1]\n",
    "\n",
    "end_of_sheet = sheet.row_count\n",
    "\n",
    "rows = [list(d.values()) for d in out]\n",
    "\n",
    "sheet.add_rows(len(rows))\n",
    "\n",
    "sheet_range_name = f\"A{end_of_sheet + 1}:{end_letter}{len(rows)+end_of_sheet}\"\n",
    "\n",
    "sheet.update(sheet_range_name, rows)"
   ]
  }
 ],
 "metadata": {
  "kernelspec": {
   "display_name": "Python 3",
   "language": "python",
   "name": "python3"
  },
  "language_info": {
   "codemirror_mode": {
    "name": "ipython",
    "version": 3
   },
   "file_extension": ".py",
   "mimetype": "text/x-python",
   "name": "python",
   "nbconvert_exporter": "python",
   "pygments_lexer": "ipython3",
   "version": "3.7.5"
  }
 },
 "nbformat": 4,
 "nbformat_minor": 4
}
