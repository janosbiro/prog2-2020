{
 "cells": [
  {
   "cell_type": "markdown",
   "metadata": {},
   "source": [
    "- [github actions core concepts](https://help.github.com/en/actions/getting-started-with-github-actions/core-concepts-for-github-actions)\n",
    "- [github actions workflows](https://help.github.com/en/actions/reference/workflow-syntax-for-github-actions)\n",
    "  - [possibly cron jobs](https://pubs.opengroup.org/onlinepubs/9699919799/utilities/crontab.html#tag_20_25_07)\n",
    "- [github actions + docker](https://help.github.com/en/actions/building-actions/creating-a-docker-container-action)"
   ]
  },
  {
   "cell_type": "markdown",
   "metadata": {},
   "source": [
    "- os environ\n",
    "- dotenv\n",
    "- secrets"
   ]
  }
 ],
 "metadata": {
  "kernelspec": {
   "display_name": "Python 3",
   "language": "python",
   "name": "python3"
  },
  "language_info": {
   "codemirror_mode": {
    "name": "ipython",
    "version": 3
   },
   "file_extension": ".py",
   "mimetype": "text/x-python",
   "name": "python",
   "nbconvert_exporter": "python",
   "pygments_lexer": "ipython3",
   "version": "3.7.5"
  }
 },
 "nbformat": 4,
 "nbformat_minor": 4
}
